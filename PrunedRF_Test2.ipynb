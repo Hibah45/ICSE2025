{
  "cells": [
    {
      "cell_type": "code",
      "execution_count": null,
      "metadata": {
        "colab": {
          "base_uri": "https://localhost:8080/"
        },
        "id": "GZwIlEBn4E3o",
        "outputId": "240115cd-3ba5-43cc-fc9e-0f48732d0568"
      },
      "outputs": [
        {
          "output_type": "stream",
          "name": "stdout",
          "text": [
            "(569, 30)\n",
            "['mean radius' 'mean texture' 'mean perimeter' 'mean area'\n",
            " 'mean smoothness' 'mean compactness' 'mean concavity'\n",
            " 'mean concave points' 'mean symmetry' 'mean fractal dimension'\n",
            " 'radius error' 'texture error' 'perimeter error' 'area error'\n",
            " 'smoothness error' 'compactness error' 'concavity error'\n",
            " 'concave points error' 'symmetry error' 'fractal dimension error'\n",
            " 'worst radius' 'worst texture' 'worst perimeter' 'worst area'\n",
            " 'worst smoothness' 'worst compactness' 'worst concavity'\n",
            " 'worst concave points' 'worst symmetry' 'worst fractal dimension']\n",
            "[0 0 0 0 0 0 0 0 0 0 0 0 0 0 0 0 0 0 0 1 1 1 0 0 0 0 0 0 0 0 0 0 0 0 0 0 0\n",
            " 1 0 0 0 0 0 0 0 0 1 0 1 1 1 1 1 0 0 1 0 0 1 1 1 1 0 1 0 0 1 1 1 1 0 1 0 0\n",
            " 1 0 1 0 0 1 1 1 0 0 1 0 0 0 1 1 1 0 1 1 0 0 1 1 1 0 0 1 1 1 1 0 1 1 0 1 1\n",
            " 1 1 1 1 1 1 0 0 0 1 0 0 1 1 1 0 0 1 0 1 0 0 1 0 0 1 1 0 1 1 0 1 1 1 1 0 1\n",
            " 1 1 1 1 1 1 1 1 0 1 1 1 1 0 0 1 0 1 1 0 0 1 1 0 0 1 1 1 1 0 1 1 0 0 0 1 0\n",
            " 1 0 1 1 1 0 1 1 0 0 1 0 0 0 0 1 0 0 0 1 0 1 0 1 1 0 1 0 0 0 0 1 1 0 0 1 1\n",
            " 1 0 1 1 1 1 1 0 0 1 1 0 1 1 0 0 1 0 1 1 1 1 0 1 1 1 1 1 0 1 0 0 0 0 0 0 0\n",
            " 0 0 0 0 0 0 0 1 1 1 1 1 1 0 1 0 1 1 0 1 1 0 1 0 0 1 1 1 1 1 1 1 1 1 1 1 1\n",
            " 1 0 1 1 0 1 0 1 1 1 1 1 1 1 1 1 1 1 1 1 1 0 1 1 1 0 1 0 1 1 1 1 0 0 0 1 1\n",
            " 1 1 0 1 0 1 0 1 1 1 0 1 1 1 1 1 1 1 0 0 0 1 1 1 1 1 1 1 1 1 1 1 0 0 1 0 0\n",
            " 0 1 0 0 1 1 1 1 1 0 1 1 1 1 1 0 1 1 1 0 1 1 0 0 1 1 1 1 1 1 0 1 1 1 1 1 1\n",
            " 1 0 1 1 1 1 1 0 1 1 0 1 1 1 1 1 1 1 1 1 1 1 1 0 1 0 0 1 0 1 1 1 1 1 0 1 1\n",
            " 0 1 0 1 1 0 1 0 1 1 1 1 1 1 1 1 0 0 1 1 1 1 1 1 0 1 1 1 1 1 1 1 1 1 1 0 1\n",
            " 1 1 1 1 1 1 0 1 0 1 1 0 1 1 1 1 1 0 0 1 0 1 0 1 1 1 1 1 0 1 1 0 1 0 1 0 0\n",
            " 1 1 1 0 1 1 1 1 1 1 1 1 1 1 1 0 1 0 0 1 1 1 1 1 1 1 1 1 1 1 1 1 1 1 1 1 1\n",
            " 1 1 1 1 1 1 1 0 0 0 0 0 0 1]\n",
            "['malignant' 'benign']\n"
          ]
        }
      ],
      "source": [
        "import numpy as np\n",
        "import pandas as pd\n",
        "import matplotlib.pyplot as plt\n",
        "from sklearn import datasets\n",
        "from sklearn.datasets import load_breast_cancer\n",
        "from sklearn.ensemble import RandomForestClassifier\n",
        "from sklearn.tree import DecisionTreeClassifier\n",
        "from sklearn.datasets import make_classification\n",
        "from sklearn.model_selection import train_test_split\n",
        "from sklearn.cluster import KMeans\n",
        "from sklearn.metrics import silhouette_score\n",
        "from sklearn.metrics import classification_report\n",
        "from sklearn.cluster import AgglomerativeClustering\n",
        "import scipy.cluster.hierarchy as shc\n",
        "from sklearn.cluster import DBSCAN\n",
        "from sklearn.cluster import SpectralClustering\n",
        "from sklearn.mixture import GaussianMixture\n",
        "from sklearn import cluster, datasets, mixture\n",
        "from sklearn import metrics\n",
        "from numpy import unique\n",
        "from numpy import where\n",
        "from matplotlib import pyplot\n",
        "from sklearn.model_selection import cross_val_score\n",
        "import matplotlib.pyplot as plt\n",
        "\n",
        "cancer_data = load_breast_cancer()\n",
        "\n",
        "# print(iris_data)\n",
        "\n",
        "X = cancer_data.data\n",
        "y = cancer_data.target\n",
        "\n",
        "print(X.shape)\n",
        "print(cancer_data.feature_names)# 4 columns-'sepal length', 'sepal width', 'petal length', 'petal width'\n",
        "print(y)\n",
        "print(cancer_data.target_names) \n"
      ]
    },
    {
      "cell_type": "code",
      "execution_count": null,
      "metadata": {
        "colab": {
          "base_uri": "https://localhost:8080/",
          "height": 334
        },
        "id": "dSmc2uuw4tOW",
        "outputId": "1c63ff5a-f9f9-4fbe-ab10-8030fd3dcfab"
      },
      "outputs": [
        {
          "output_type": "execute_result",
          "data": {
            "text/plain": [
              "   mean radius  mean texture  mean perimeter  mean area  mean smoothness  \\\n",
              "0        17.99         10.38          122.80     1001.0          0.11840   \n",
              "1        20.57         17.77          132.90     1326.0          0.08474   \n",
              "2        19.69         21.25          130.00     1203.0          0.10960   \n",
              "3        11.42         20.38           77.58      386.1          0.14250   \n",
              "4        20.29         14.34          135.10     1297.0          0.10030   \n",
              "\n",
              "   mean compactness  mean concavity  mean concave points  mean symmetry  \\\n",
              "0           0.27760          0.3001              0.14710         0.2419   \n",
              "1           0.07864          0.0869              0.07017         0.1812   \n",
              "2           0.15990          0.1974              0.12790         0.2069   \n",
              "3           0.28390          0.2414              0.10520         0.2597   \n",
              "4           0.13280          0.1980              0.10430         0.1809   \n",
              "\n",
              "   mean fractal dimension  ...  worst texture  worst perimeter  worst area  \\\n",
              "0                 0.07871  ...          17.33           184.60      2019.0   \n",
              "1                 0.05667  ...          23.41           158.80      1956.0   \n",
              "2                 0.05999  ...          25.53           152.50      1709.0   \n",
              "3                 0.09744  ...          26.50            98.87       567.7   \n",
              "4                 0.05883  ...          16.67           152.20      1575.0   \n",
              "\n",
              "   worst smoothness  worst compactness  worst concavity  worst concave points  \\\n",
              "0            0.1622             0.6656           0.7119                0.2654   \n",
              "1            0.1238             0.1866           0.2416                0.1860   \n",
              "2            0.1444             0.4245           0.4504                0.2430   \n",
              "3            0.2098             0.8663           0.6869                0.2575   \n",
              "4            0.1374             0.2050           0.4000                0.1625   \n",
              "\n",
              "   worst symmetry  worst fractal dimension  Diagnosis  \n",
              "0          0.4601                  0.11890          0  \n",
              "1          0.2750                  0.08902          0  \n",
              "2          0.3613                  0.08758          0  \n",
              "3          0.6638                  0.17300          0  \n",
              "4          0.2364                  0.07678          0  \n",
              "\n",
              "[5 rows x 31 columns]"
            ],
            "text/html": [
              "\n",
              "  <div id=\"df-58b8889a-fff2-4105-ab2a-343aecd801e1\">\n",
              "    <div class=\"colab-df-container\">\n",
              "      <div>\n",
              "<style scoped>\n",
              "    .dataframe tbody tr th:only-of-type {\n",
              "        vertical-align: middle;\n",
              "    }\n",
              "\n",
              "    .dataframe tbody tr th {\n",
              "        vertical-align: top;\n",
              "    }\n",
              "\n",
              "    .dataframe thead th {\n",
              "        text-align: right;\n",
              "    }\n",
              "</style>\n",
              "<table border=\"1\" class=\"dataframe\">\n",
              "  <thead>\n",
              "    <tr style=\"text-align: right;\">\n",
              "      <th></th>\n",
              "      <th>mean radius</th>\n",
              "      <th>mean texture</th>\n",
              "      <th>mean perimeter</th>\n",
              "      <th>mean area</th>\n",
              "      <th>mean smoothness</th>\n",
              "      <th>mean compactness</th>\n",
              "      <th>mean concavity</th>\n",
              "      <th>mean concave points</th>\n",
              "      <th>mean symmetry</th>\n",
              "      <th>mean fractal dimension</th>\n",
              "      <th>...</th>\n",
              "      <th>worst texture</th>\n",
              "      <th>worst perimeter</th>\n",
              "      <th>worst area</th>\n",
              "      <th>worst smoothness</th>\n",
              "      <th>worst compactness</th>\n",
              "      <th>worst concavity</th>\n",
              "      <th>worst concave points</th>\n",
              "      <th>worst symmetry</th>\n",
              "      <th>worst fractal dimension</th>\n",
              "      <th>Diagnosis</th>\n",
              "    </tr>\n",
              "  </thead>\n",
              "  <tbody>\n",
              "    <tr>\n",
              "      <th>0</th>\n",
              "      <td>17.99</td>\n",
              "      <td>10.38</td>\n",
              "      <td>122.80</td>\n",
              "      <td>1001.0</td>\n",
              "      <td>0.11840</td>\n",
              "      <td>0.27760</td>\n",
              "      <td>0.3001</td>\n",
              "      <td>0.14710</td>\n",
              "      <td>0.2419</td>\n",
              "      <td>0.07871</td>\n",
              "      <td>...</td>\n",
              "      <td>17.33</td>\n",
              "      <td>184.60</td>\n",
              "      <td>2019.0</td>\n",
              "      <td>0.1622</td>\n",
              "      <td>0.6656</td>\n",
              "      <td>0.7119</td>\n",
              "      <td>0.2654</td>\n",
              "      <td>0.4601</td>\n",
              "      <td>0.11890</td>\n",
              "      <td>0</td>\n",
              "    </tr>\n",
              "    <tr>\n",
              "      <th>1</th>\n",
              "      <td>20.57</td>\n",
              "      <td>17.77</td>\n",
              "      <td>132.90</td>\n",
              "      <td>1326.0</td>\n",
              "      <td>0.08474</td>\n",
              "      <td>0.07864</td>\n",
              "      <td>0.0869</td>\n",
              "      <td>0.07017</td>\n",
              "      <td>0.1812</td>\n",
              "      <td>0.05667</td>\n",
              "      <td>...</td>\n",
              "      <td>23.41</td>\n",
              "      <td>158.80</td>\n",
              "      <td>1956.0</td>\n",
              "      <td>0.1238</td>\n",
              "      <td>0.1866</td>\n",
              "      <td>0.2416</td>\n",
              "      <td>0.1860</td>\n",
              "      <td>0.2750</td>\n",
              "      <td>0.08902</td>\n",
              "      <td>0</td>\n",
              "    </tr>\n",
              "    <tr>\n",
              "      <th>2</th>\n",
              "      <td>19.69</td>\n",
              "      <td>21.25</td>\n",
              "      <td>130.00</td>\n",
              "      <td>1203.0</td>\n",
              "      <td>0.10960</td>\n",
              "      <td>0.15990</td>\n",
              "      <td>0.1974</td>\n",
              "      <td>0.12790</td>\n",
              "      <td>0.2069</td>\n",
              "      <td>0.05999</td>\n",
              "      <td>...</td>\n",
              "      <td>25.53</td>\n",
              "      <td>152.50</td>\n",
              "      <td>1709.0</td>\n",
              "      <td>0.1444</td>\n",
              "      <td>0.4245</td>\n",
              "      <td>0.4504</td>\n",
              "      <td>0.2430</td>\n",
              "      <td>0.3613</td>\n",
              "      <td>0.08758</td>\n",
              "      <td>0</td>\n",
              "    </tr>\n",
              "    <tr>\n",
              "      <th>3</th>\n",
              "      <td>11.42</td>\n",
              "      <td>20.38</td>\n",
              "      <td>77.58</td>\n",
              "      <td>386.1</td>\n",
              "      <td>0.14250</td>\n",
              "      <td>0.28390</td>\n",
              "      <td>0.2414</td>\n",
              "      <td>0.10520</td>\n",
              "      <td>0.2597</td>\n",
              "      <td>0.09744</td>\n",
              "      <td>...</td>\n",
              "      <td>26.50</td>\n",
              "      <td>98.87</td>\n",
              "      <td>567.7</td>\n",
              "      <td>0.2098</td>\n",
              "      <td>0.8663</td>\n",
              "      <td>0.6869</td>\n",
              "      <td>0.2575</td>\n",
              "      <td>0.6638</td>\n",
              "      <td>0.17300</td>\n",
              "      <td>0</td>\n",
              "    </tr>\n",
              "    <tr>\n",
              "      <th>4</th>\n",
              "      <td>20.29</td>\n",
              "      <td>14.34</td>\n",
              "      <td>135.10</td>\n",
              "      <td>1297.0</td>\n",
              "      <td>0.10030</td>\n",
              "      <td>0.13280</td>\n",
              "      <td>0.1980</td>\n",
              "      <td>0.10430</td>\n",
              "      <td>0.1809</td>\n",
              "      <td>0.05883</td>\n",
              "      <td>...</td>\n",
              "      <td>16.67</td>\n",
              "      <td>152.20</td>\n",
              "      <td>1575.0</td>\n",
              "      <td>0.1374</td>\n",
              "      <td>0.2050</td>\n",
              "      <td>0.4000</td>\n",
              "      <td>0.1625</td>\n",
              "      <td>0.2364</td>\n",
              "      <td>0.07678</td>\n",
              "      <td>0</td>\n",
              "    </tr>\n",
              "  </tbody>\n",
              "</table>\n",
              "<p>5 rows × 31 columns</p>\n",
              "</div>\n",
              "      <button class=\"colab-df-convert\" onclick=\"convertToInteractive('df-58b8889a-fff2-4105-ab2a-343aecd801e1')\"\n",
              "              title=\"Convert this dataframe to an interactive table.\"\n",
              "              style=\"display:none;\">\n",
              "        \n",
              "  <svg xmlns=\"http://www.w3.org/2000/svg\" height=\"24px\"viewBox=\"0 0 24 24\"\n",
              "       width=\"24px\">\n",
              "    <path d=\"M0 0h24v24H0V0z\" fill=\"none\"/>\n",
              "    <path d=\"M18.56 5.44l.94 2.06.94-2.06 2.06-.94-2.06-.94-.94-2.06-.94 2.06-2.06.94zm-11 1L8.5 8.5l.94-2.06 2.06-.94-2.06-.94L8.5 2.5l-.94 2.06-2.06.94zm10 10l.94 2.06.94-2.06 2.06-.94-2.06-.94-.94-2.06-.94 2.06-2.06.94z\"/><path d=\"M17.41 7.96l-1.37-1.37c-.4-.4-.92-.59-1.43-.59-.52 0-1.04.2-1.43.59L10.3 9.45l-7.72 7.72c-.78.78-.78 2.05 0 2.83L4 21.41c.39.39.9.59 1.41.59.51 0 1.02-.2 1.41-.59l7.78-7.78 2.81-2.81c.8-.78.8-2.07 0-2.86zM5.41 20L4 18.59l7.72-7.72 1.47 1.35L5.41 20z\"/>\n",
              "  </svg>\n",
              "      </button>\n",
              "      \n",
              "  <style>\n",
              "    .colab-df-container {\n",
              "      display:flex;\n",
              "      flex-wrap:wrap;\n",
              "      gap: 12px;\n",
              "    }\n",
              "\n",
              "    .colab-df-convert {\n",
              "      background-color: #E8F0FE;\n",
              "      border: none;\n",
              "      border-radius: 50%;\n",
              "      cursor: pointer;\n",
              "      display: none;\n",
              "      fill: #1967D2;\n",
              "      height: 32px;\n",
              "      padding: 0 0 0 0;\n",
              "      width: 32px;\n",
              "    }\n",
              "\n",
              "    .colab-df-convert:hover {\n",
              "      background-color: #E2EBFA;\n",
              "      box-shadow: 0px 1px 2px rgba(60, 64, 67, 0.3), 0px 1px 3px 1px rgba(60, 64, 67, 0.15);\n",
              "      fill: #174EA6;\n",
              "    }\n",
              "\n",
              "    [theme=dark] .colab-df-convert {\n",
              "      background-color: #3B4455;\n",
              "      fill: #D2E3FC;\n",
              "    }\n",
              "\n",
              "    [theme=dark] .colab-df-convert:hover {\n",
              "      background-color: #434B5C;\n",
              "      box-shadow: 0px 1px 3px 1px rgba(0, 0, 0, 0.15);\n",
              "      filter: drop-shadow(0px 1px 2px rgba(0, 0, 0, 0.3));\n",
              "      fill: #FFFFFF;\n",
              "    }\n",
              "  </style>\n",
              "\n",
              "      <script>\n",
              "        const buttonEl =\n",
              "          document.querySelector('#df-58b8889a-fff2-4105-ab2a-343aecd801e1 button.colab-df-convert');\n",
              "        buttonEl.style.display =\n",
              "          google.colab.kernel.accessAllowed ? 'block' : 'none';\n",
              "\n",
              "        async function convertToInteractive(key) {\n",
              "          const element = document.querySelector('#df-58b8889a-fff2-4105-ab2a-343aecd801e1');\n",
              "          const dataTable =\n",
              "            await google.colab.kernel.invokeFunction('convertToInteractive',\n",
              "                                                     [key], {});\n",
              "          if (!dataTable) return;\n",
              "\n",
              "          const docLinkHtml = 'Like what you see? Visit the ' +\n",
              "            '<a target=\"_blank\" href=https://colab.research.google.com/notebooks/data_table.ipynb>data table notebook</a>'\n",
              "            + ' to learn more about interactive tables.';\n",
              "          element.innerHTML = '';\n",
              "          dataTable['output_type'] = 'display_data';\n",
              "          await google.colab.output.renderOutput(dataTable, element);\n",
              "          const docLink = document.createElement('div');\n",
              "          docLink.innerHTML = docLinkHtml;\n",
              "          element.appendChild(docLink);\n",
              "        }\n",
              "      </script>\n",
              "    </div>\n",
              "  </div>\n",
              "  "
            ]
          },
          "metadata": {},
          "execution_count": 2
        }
      ],
      "source": [
        "data_df = pd.DataFrame(X, columns=cancer_data.feature_names)\n",
        "target_df = pd.DataFrame(y).rename(columns={0:'Diagnosis'})\n",
        "\n",
        "dataset_df = pd.concat([data_df, target_df], axis=1)\n",
        "\n",
        "dataset_df.head()"
      ]
    },
    {
      "cell_type": "code",
      "execution_count": null,
      "metadata": {
        "id": "xIW45Zcf45c4",
        "colab": {
          "base_uri": "https://localhost:8080/"
        },
        "outputId": "12b7cf43-409f-4bb5-8930-643c4b7dee6a"
      },
      "outputs": [
        {
          "output_type": "stream",
          "name": "stdout",
          "text": [
            "Accuracy: 0.9298245614035088\n",
            "CLASSIFICATION REPORT\n",
            "              precision    recall  f1-score   support\n",
            "\n",
            "           0       0.89      0.94      0.91        67\n",
            "           1       0.96      0.92      0.94       104\n",
            "\n",
            "    accuracy                           0.93       171\n",
            "   macro avg       0.92      0.93      0.93       171\n",
            "weighted avg       0.93      0.93      0.93       171\n",
            "\n"
          ]
        }
      ],
      "source": [
        "X_train, X_test, y_train, y_test = train_test_split(X, y, test_size=0.3) # 70% training and 30% test\n",
        "\n",
        "# X, y = make_classification(n_samples=10, n_features=4,\n",
        "#                            n_informative=2, n_redundant=0, \n",
        "#                            random_state=0, shuffle=False)\n",
        "clf = RandomForestClassifier(n_estimators=100)\n",
        "#clf=RandomForestClassifier(n_estimators=100)\n",
        "\n",
        "clf.fit(X_train,y_train)\n",
        "\n",
        "y_pred=clf.predict(X_test)\n",
        "\n",
        "print(\"Accuracy:\",metrics.accuracy_score(y_test, y_pred))\n",
        "\n",
        "\n",
        "prec_rec = classification_report(y_pred, y_test)\n",
        "print(\"CLASSIFICATION REPORT\")\n",
        "print(prec_rec)"
      ]
    },
    {
      "cell_type": "code",
      "execution_count": null,
      "metadata": {
        "colab": {
          "base_uri": "https://localhost:8080/"
        },
        "id": "gU2-2UBn6ZOt",
        "outputId": "75845105-7a94-4f2a-fef6-167bcc68b98a"
      },
      "outputs": [
        {
          "output_type": "stream",
          "name": "stdout",
          "text": [
            "DecisionTreeClassifier(max_features='auto', random_state=885922242)\n"
          ]
        }
      ],
      "source": [
        "ind_tree = (clf.estimators_[4])\n",
        "print(ind_tree)"
      ]
    },
    {
      "cell_type": "code",
      "execution_count": null,
      "metadata": {
        "id": "FIaBQoGR7gdl"
      },
      "outputs": [],
      "source": [
        "class PrunedRandomForest:\n",
        "\n",
        "\n",
        "    def __init__(self, n_clusters = 5 , n_estimators = 100, cv = 5):\n",
        "        \"\"\" this is the unpruned random forest \"\"\"\n",
        "        self.rf = RandomForestClassifier(n_estimators = n_estimators)\n",
        "\n",
        "        \"\"\" this is the final pruned random forest \"\"\"\n",
        "        self.prf = None \n",
        "        self.prf1 = None \n",
        "\n",
        "        \n",
        "        \"\"\"this is a list of decision tree object present in original unpruned random forest\"\"\"\n",
        "        self.decision_trees = None \n",
        "        \n",
        "        \"\"\"number of clusters for pruning\"\"\"\n",
        "        self.n_clusters = n_clusters \n",
        "        \n",
        "        \n",
        "\n",
        "        \"\"\" \n",
        "            this contains dictionary of lists where each element of dictionary represetns a\n",
        "            pair (cluster_idx, tree_idx_list)\n",
        "\n",
        "            where tree_idx_list is list of decision tree indices and cluster_idx is index of cluster \n",
        "            e.g.\n",
        "            \n",
        "            {\n",
        "                0 : [2, 0]\n",
        "                1 : [1, 3]\n",
        "            }\n",
        "            it means decision tree at 2nd index and 0th index \n",
        "            are in same cluster similarly 1st and 3rd in second cluster\n",
        "\n",
        "        \"\"\" \n",
        "        self.clusters = {}\n",
        "        \n",
        "        self.cv = cv\n",
        "\n",
        "\n",
        "        \"\"\"\n",
        "            Information about all trees in the random forest present in this \n",
        "            form\n",
        "            {\n",
        "                idx : { \n",
        "                    accuracy : 89.34\n",
        "                    cluster : 2\n",
        "                }\n",
        "\n",
        "                idx1 : {\n",
        "\n",
        "                }\n",
        "            }\n",
        "        \"\"\"\n",
        "        self.info = {}\n",
        "        #self.maxs_accuracy = {}\n",
        "        self.fimps = None\n",
        "\n",
        "    def prune(self):\n",
        "        pass\n",
        "\n",
        "    \n",
        "    def fit(self, X, y):\n",
        "        self.rf.fit(X,y)\n",
        "        self.decision_trees = self.rf.estimators_\n",
        "        self.create_feature_imp_clusters()\n",
        "        self.create_feature_imp_clusters1()\n",
        "        self.create_fimp_agglomerative()\n",
        "        self.create_fimp_gaussian()\n",
        "        self.create_fimp_spectral_clustering()\n",
        "        #self.plot_clusters(X,y)\n",
        "        #self.all_algorithms()\n",
        "\n",
        "        self.fill_info(X, y)\n",
        "        #self.max_accuracy(X,y)\n",
        "        self.prune()\n",
        "\n",
        "    def fill_info(self, X, y):\n",
        "        for idx, tree in enumerate(self.decision_trees):\n",
        "            self.info[idx] = self.fill_for_tree(tree, X, y)\n",
        "\n",
        "        for cluster_idx in self.clusters:\n",
        "            for tree_idx in self.clusters[cluster_idx]:\n",
        "                self.info[tree_idx][\"cluster_idx\"] = cluster_idx \n",
        "       \n",
        "\n",
        "    \"\"\"\n",
        "        {\n",
        "            \"accuracy\" : 98.45,\n",
        "            \n",
        "        } \n",
        "    \"\"\"\n",
        "\n",
        "\n",
        "    def fill_for_tree(self, tree, X, y):\n",
        "        info = {}\n",
        "        mean_score = cross_val_score(tree, X, y, cv=self.cv).mean()\n",
        "        info[\"accuracy\"] = (mean_score)\n",
        "        return info\n",
        "\n",
        "    def predict(self, X):\n",
        "        if(self.prf is None):\n",
        "            return None\n",
        "        \n",
        "        return self.prf.predict(X)\n",
        "\n",
        "    \n",
        "    def get_decision_trees(self):\n",
        "        return self.decision_trees\n",
        "\n",
        "    def get_feature_imps_from_rf(self):\n",
        "        feature_imp_list = []\n",
        "        dts = self.get_decision_trees()\n",
        "        for tree in dts:\n",
        "            feature_imp_list.append(tree.feature_importances_)\n",
        "        return feature_imp_list\n",
        "\n",
        "    def create_feature_imp_clusters(self):\n",
        "        fimps = self.get_feature_imps_from_rf()\n",
        "        #print(fimps)\n",
        "        #print(\"KMEANS\")\n",
        "        kmeans = KMeans(n_clusters=self.n_clusters, random_state=0).fit(fimps)\n",
        "\n",
        "        print(\" fimps len = \" + str(len(fimps)))\n",
        "        labels = kmeans.labels_\n",
        "        score = silhouette_score(fimps, labels, metric='euclidean')\n",
        "        print('Silhouetter Score: %.3f' % score)\n",
        "        #print(labels)\n",
        "        print(\" kmeans.labels_ len = \" + str(len(kmeans.labels_)))\n",
        "        for (tree_idx, cluster_idx) in enumerate(kmeans.labels_):\n",
        "            if cluster_idx in self.clusters:\n",
        "                self.clusters[cluster_idx].append(tree_idx)\n",
        "            else:\n",
        "                self.clusters[cluster_idx] = [tree_idx]\n",
        "        \n",
        "    def create_feature_imp_clusters1(self):\n",
        "        fimps = self.get_feature_imps_from_rf()\n",
        "        #print(\"DBSCAN-\")\n",
        "        dbscan = DBSCAN().fit(fimps)\n",
        "\n",
        "        print(\" fimps len = \" + str(len(fimps)))\n",
        "        labels = dbscan.labels_\n",
        "        #print(labels)\n",
        "        print(\" dbscan.labels_ len = \" + str(len(labels)))\n",
        "        \n",
        "\n",
        "    def create_fimp_agglomerative(self):\n",
        "        fimps = self.get_feature_imps_from_rf()\n",
        "        #print(\"AGGLOMERATIVE CLUSTERING-\")\n",
        "        groups = AgglomerativeClustering(n_clusters=self.n_clusters).fit(fimps)\n",
        "        #print(groups.labels_)\n",
        "\n",
        "    def create_fimp_gaussian(self):\n",
        "      fimps = self.get_feature_imps_from_rf()\n",
        "      #print(\"GAUSSIAN CLUSTERING-\")\n",
        "      gmm =GaussianMixture(n_components = 5)\n",
        "      gmm.fit(fimps)\n",
        "      labelsgmm = gmm.predict(fimps)\n",
        "      #print(labelsgmm)\n",
        "      \n",
        "    def create_fimp_spectral_clustering(self):\n",
        "      fimps = self.get_feature_imps_from_rf()\n",
        "      models = SpectralClustering(n_clusters=6, random_state=25, n_neighbors=8, affinity='nearest_neighbors')\n",
        "      models.fit(fimps)\n",
        "      labelsx = models.fit_predict(fimps)\n",
        "      #print(labelsx)\n"
      ]
    },
    {
      "cell_type": "code",
      "execution_count": null,
      "metadata": {
        "colab": {
          "base_uri": "https://localhost:8080/"
        },
        "id": "ZzfqyHYkr1Jo",
        "outputId": "536b0cce-f038-4303-bedf-a13593f36e33"
      },
      "outputs": [
        {
          "output_type": "stream",
          "name": "stdout",
          "text": [
            " fimps len = 100\n",
            "Silhouetter Score: 0.512\n",
            " kmeans.labels_ len = 100\n",
            " fimps len = 100\n",
            " dbscan.labels_ len = 100\n"
          ]
        },
        {
          "output_type": "stream",
          "name": "stderr",
          "text": [
            "/usr/local/lib/python3.7/dist-packages/sklearn/manifold/_spectral_embedding.py:261: UserWarning: Graph is not fully connected, spectral embedding may not work as expected.\n",
            "  \"Graph is not fully connected, spectral embedding may not work as expected.\"\n",
            "/usr/local/lib/python3.7/dist-packages/sklearn/manifold/_spectral_embedding.py:261: UserWarning: Graph is not fully connected, spectral embedding may not work as expected.\n",
            "  \"Graph is not fully connected, spectral embedding may not work as expected.\"\n"
          ]
        },
        {
          "output_type": "stream",
          "name": "stdout",
          "text": [
            "KMEANS-\n",
            "1 ==>  [0, 1, 4, 8, 10, 17, 18, 19, 21, 24, 25, 28, 29, 30, 31, 35, 36, 38, 39, 40, 47, 48, 49, 51, 52, 53, 54, 56, 58, 60, 61, 64, 65, 66, 68, 69, 73, 74, 80, 81, 85, 86, 88]\n",
            "2 ==>  [2, 5, 6, 12, 13, 14, 26, 34, 44, 70, 76, 79, 82, 84, 91, 98, 99]\n",
            "4 ==>  [3, 9, 11, 37, 42, 45, 59, 67, 71, 72, 87]\n",
            "3 ==>  [7, 15, 22, 33, 46, 63, 77, 83, 93, 94, 96]\n",
            "0 ==>  [16, 20, 23, 27, 32, 41, 43, 50, 55, 57, 62, 75, 78, 89, 90, 92, 95, 97]\n",
            " fimps len = 100\n",
            "Silhouetter Score: 0.494\n",
            " kmeans.labels_ len = 100\n",
            " fimps len = 100\n",
            " dbscan.labels_ len = 100\n",
            "DBSCAN-\n",
            "1 ==>  [0, 5, 10, 11, 14, 19, 34, 44, 55, 72, 75, 82, 83, 92, 96]\n",
            "4 ==>  [1, 15, 16, 18, 21, 22, 23, 26, 27, 31, 32, 33, 36, 38, 39, 40, 45, 46, 47, 48, 53, 54, 57, 58, 60, 63, 64, 65, 66, 68, 70, 71, 73, 74, 79, 80, 81, 84, 85, 86, 87, 93, 94, 99]\n",
            "0 ==>  [2, 9, 12, 42, 52, 62, 67, 88, 89, 90, 95, 98]\n",
            "2 ==>  [3, 4, 6, 7, 8, 17, 20, 24, 25, 28, 29, 30, 56, 76, 78]\n",
            "3 ==>  [13, 35, 37, 41, 43, 49, 50, 51, 59, 61, 69, 77, 91, 97]\n",
            " fimps len = 100\n",
            "Silhouetter Score: 0.470\n",
            " kmeans.labels_ len = 100\n",
            " fimps len = 100\n",
            " dbscan.labels_ len = 100\n"
          ]
        },
        {
          "output_type": "stream",
          "name": "stderr",
          "text": [
            "/usr/local/lib/python3.7/dist-packages/sklearn/manifold/_spectral_embedding.py:261: UserWarning: Graph is not fully connected, spectral embedding may not work as expected.\n",
            "  \"Graph is not fully connected, spectral embedding may not work as expected.\"\n",
            "/usr/local/lib/python3.7/dist-packages/sklearn/manifold/_spectral_embedding.py:261: UserWarning: Graph is not fully connected, spectral embedding may not work as expected.\n",
            "  \"Graph is not fully connected, spectral embedding may not work as expected.\"\n"
          ]
        },
        {
          "output_type": "stream",
          "name": "stdout",
          "text": [
            "AGGLO\n",
            "4 ==>  [0, 2, 4, 6, 7, 10, 13, 15, 16, 17, 18, 22, 29, 30, 34, 36, 40, 44, 45, 46, 48, 50, 52, 53, 59, 61, 62, 63, 65, 73, 74, 75, 76, 79, 83, 87, 89, 90, 92, 95, 97]\n",
            "0 ==>  [1, 14, 19, 21, 35, 37, 42, 60, 71, 80, 82, 88, 93, 94, 99]\n",
            "3 ==>  [3, 5, 9, 12, 24, 28, 41, 47, 55, 67, 69, 72, 77, 84]\n",
            "1 ==>  [8, 11, 20, 25, 26, 31, 33, 38, 49, 58, 68, 78, 81, 85, 86, 96, 98]\n",
            "2 ==>  [23, 27, 32, 39, 43, 51, 54, 56, 57, 64, 66, 70, 91]\n",
            " fimps len = 100\n",
            "Silhouetter Score: 0.486\n",
            " kmeans.labels_ len = 100\n",
            " fimps len = 100\n",
            " dbscan.labels_ len = 100\n"
          ]
        },
        {
          "output_type": "stream",
          "name": "stderr",
          "text": [
            "/usr/local/lib/python3.7/dist-packages/sklearn/manifold/_spectral_embedding.py:261: UserWarning: Graph is not fully connected, spectral embedding may not work as expected.\n",
            "  \"Graph is not fully connected, spectral embedding may not work as expected.\"\n",
            "/usr/local/lib/python3.7/dist-packages/sklearn/manifold/_spectral_embedding.py:261: UserWarning: Graph is not fully connected, spectral embedding may not work as expected.\n",
            "  \"Graph is not fully connected, spectral embedding may not work as expected.\"\n"
          ]
        },
        {
          "output_type": "stream",
          "name": "stdout",
          "text": [
            "Gaussian\n",
            "0 ==>  [0, 8, 17, 19, 20, 28, 36, 42, 61, 63, 77, 88, 96, 98]\n",
            "4 ==>  [1, 3, 7, 11, 14, 16, 18, 21, 22, 25, 29, 30, 32, 34, 35, 38, 39, 43, 45, 47, 48, 50, 54, 55, 57, 58, 60, 62, 64, 65, 66, 68, 69, 70, 72, 73, 80, 81, 82, 84, 86, 87, 89, 91, 92, 93, 97]\n",
            "2 ==>  [2, 5, 6, 15, 33, 41, 46, 52, 71, 78, 85, 95]\n",
            "1 ==>  [4, 9, 23, 26, 27, 37, 49, 51, 56, 74, 94, 99]\n",
            "3 ==>  [10, 12, 13, 24, 31, 40, 44, 53, 59, 67, 75, 76, 79, 83, 90]\n",
            " fimps len = 100\n",
            "Silhouetter Score: 0.519\n",
            " kmeans.labels_ len = 100\n",
            " fimps len = 100\n",
            " dbscan.labels_ len = 100\n",
            "spectral clustering\n",
            "1 ==>  [0, 5, 7, 8, 9, 10, 12, 13, 14, 18, 19, 20, 21, 24, 38, 39, 40, 41, 42, 45, 48, 49, 51, 58, 60, 63, 64, 66, 69, 72, 73, 77, 78, 79, 81, 82, 83, 84, 88, 91, 93, 94, 97, 99]\n",
            "4 ==>  [1, 6, 25, 30, 32, 36, 53, 57, 70, 74, 76, 96]\n",
            "0 ==>  [2, 17, 22, 23, 27, 29, 47, 52, 62, 87, 95]\n",
            "3 ==>  [3, 4, 15, 16, 28, 31, 33, 34, 50, 55, 59, 65, 86, 89, 90, 98]\n",
            "2 ==>  [11, 26, 35, 37, 43, 44, 46, 54, 56, 61, 67, 68, 71, 75, 80, 85, 92]\n"
          ]
        }
      ],
      "source": [
        "prf = PrunedRandomForest(5, 100)\n",
        "prf.fit(X, y)\n",
        "print('KMEANS-')\n",
        "for cluster_idx in prf.clusters:\n",
        "          print(str(cluster_idx) + \" ==> \", prf.clusters[cluster_idx])\n",
        "\n",
        "prf1 = PrunedRandomForest()\n",
        "prf1.fit(X, y)\n",
        "print('DBSCAN-')\n",
        "for cluster_idx in prf1.clusters:\n",
        "          print(str(cluster_idx) + \" ==> \", prf1.clusters[cluster_idx])\n",
        "\n",
        "prf2 = PrunedRandomForest()\n",
        "prf2.fit(X, y)\n",
        "print('AGGLO')\n",
        "for cluster_idx in prf2.clusters:\n",
        "          print(str(cluster_idx) + \" ==> \", prf2.clusters[cluster_idx])\n",
        "\n",
        "prf3 = PrunedRandomForest()\n",
        "prf3.fit(X,y)\n",
        "print('Gaussian')\n",
        "for cluster_idx in prf3.clusters:\n",
        "          print(str(cluster_idx) + \" ==> \", prf3.clusters[cluster_idx])\n",
        "\n",
        "prf4 = PrunedRandomForest()\n",
        "prf4.fit(X,y)\n",
        "print('spectral clustering')\n",
        "for cluster_idx in prf4.clusters:\n",
        "          print(str(cluster_idx) + \" ==> \", prf4.clusters[cluster_idx])\n"
      ]
    },
    {
      "cell_type": "code",
      "execution_count": null,
      "metadata": {
        "id": "lYcN1727hdJv"
      },
      "outputs": [],
      "source": [
        "  # def plot_clusters(model, X):\n",
        "  #     pred = model.fit(X)\n",
        "  #     clusters = unique(pred)\n",
        "  #     for cluster in clusters:\n",
        "  #       row_idx = where(pred == cluster)\n",
        "  #       # create scatter of these samples\n",
        "  #       col0 = getColumn(X, row_idx, 0)\n",
        "  #       col1 = getColumn(X, row_idx, 1)\n",
        "  #       pyplot.scatter(col0, col1)\n",
        "  #   # show the plot\n",
        "  #   pyplot.show()\n",
        "\n",
        "  #   def all_algorithms(self):\n",
        "  #       fimps = self.get_feature_imps_from_rf()\n",
        "  #       print(\"KMEANS\")\n",
        "  #       kmeans = self.plot_clusters(KMeans(n_clusters=self.n_clusters, random_state=0), fimps)\n",
        "  #       print(\"DBSCAN-\")\n",
        "  #       dbscan = self.plot_clusters(DBSCAN(), fimps)\n",
        "  #       print(\"AGGLOMERATIVE CLUSTERING-\")\n",
        "  #       groups = self.plot_clusters(AgglomerativeClustering(n_clusters=self.n_clusters), fimps)\n",
        "  #       print(\" fimps len = \" + str(len(fimps)))\n",
        "  #       #print(labels)\n",
        "  #       print(\" kmeans.labels_ len = \" + str(len(kmeans.labels_)))"
      ]
    },
    {
      "cell_type": "code",
      "execution_count": null,
      "metadata": {
        "id": "PNOSc02PVaCY"
      },
      "outputs": [],
      "source": [
        "# plt.title(\"Dendograms\")\n",
        "# dend = shc.dendrogram(shc.linkage(X, method='ward'))\n",
        "# groups = AgglomerativeClustering(n_clusters=4, affinity='euclidean', linkage=\"ward\")\n",
        "# groups.fit(X)"
      ]
    },
    {
      "cell_type": "code",
      "source": [
        "prf.info"
      ],
      "metadata": {
        "colab": {
          "base_uri": "https://localhost:8080/"
        },
        "id": "drhPY0GiOF_q",
        "outputId": "3b0ee48a-1ba8-4211-f5b0-4b199259e5a5"
      },
      "execution_count": null,
      "outputs": [
        {
          "output_type": "execute_result",
          "data": {
            "text/plain": [
              "{0: {'accuracy': 0.9261760596180716, 'cluster_idx': 1},\n",
              " 1: {'accuracy': 0.9296693060083838, 'cluster_idx': 1},\n",
              " 2: {'accuracy': 0.924437199192672, 'cluster_idx': 2},\n",
              " 3: {'accuracy': 0.9331936034777207, 'cluster_idx': 4},\n",
              " 4: {'accuracy': 0.9192050923769601, 'cluster_idx': 1},\n",
              " 5: {'accuracy': 0.9209439528023597, 'cluster_idx': 2},\n",
              " 6: {'accuracy': 0.9068312373854992, 'cluster_idx': 2},\n",
              " 7: {'accuracy': 0.9190653625213476, 'cluster_idx': 3},\n",
              " 8: {'accuracy': 0.9226672876882471, 'cluster_idx': 1},\n",
              " 9: {'accuracy': 0.9226051855301971, 'cluster_idx': 4},\n",
              " 10: {'accuracy': 0.947290793355069, 'cluster_idx': 1},\n",
              " 11: {'accuracy': 0.9139419344822233, 'cluster_idx': 4},\n",
              " 12: {'accuracy': 0.9296537804688713, 'cluster_idx': 2},\n",
              " 13: {'accuracy': 0.9262536873156343, 'cluster_idx': 2},\n",
              " 14: {'accuracy': 0.9226672876882471, 'cluster_idx': 2},\n",
              " 15: {'accuracy': 0.9156652693681104, 'cluster_idx': 3},\n",
              " 16: {'accuracy': 0.9085856233504114, 'cluster_idx': 0},\n",
              " 17: {'accuracy': 0.9349635149821456, 'cluster_idx': 1},\n",
              " 18: {'accuracy': 0.9332712311752832, 'cluster_idx': 1},\n",
              " 19: {'accuracy': 0.9314702685918336, 'cluster_idx': 1},\n",
              " 20: {'accuracy': 0.9402732494954199, 'cluster_idx': 0},\n",
              " 21: {'accuracy': 0.9173575531749728, 'cluster_idx': 1},\n",
              " 22: {'accuracy': 0.9367179009470579, 'cluster_idx': 3},\n",
              " 23: {'accuracy': 0.9226828132277596, 'cluster_idx': 0},\n",
              " 24: {'accuracy': 0.9068312373854992, 'cluster_idx': 1},\n",
              " 25: {'accuracy': 0.9209129017233348, 'cluster_idx': 1},\n",
              " 26: {'accuracy': 0.9314547430523211, 'cluster_idx': 2},\n",
              " 27: {'accuracy': 0.9279459711224964, 'cluster_idx': 0},\n",
              " 28: {'accuracy': 0.9278838689644466, 'cluster_idx': 1},\n",
              " 29: {'accuracy': 0.915649743828598, 'cluster_idx': 1},\n",
              " 30: {'accuracy': 0.9261294829995343, 'cluster_idx': 1},\n",
              " 31: {'accuracy': 0.9332712311752832, 'cluster_idx': 1},\n",
              " 32: {'accuracy': 0.9367334264865704, 'cluster_idx': 0},\n",
              " 33: {'accuracy': 0.9068933395435492, 'cluster_idx': 3},\n",
              " 34: {'accuracy': 0.9261760596180718, 'cluster_idx': 2},\n",
              " 35: {'accuracy': 0.8998136935258498, 'cluster_idx': 1},\n",
              " 36: {'accuracy': 0.9138643067846608, 'cluster_idx': 1},\n",
              " 37: {'accuracy': 0.9455519329296692, 'cluster_idx': 4},\n",
              " 38: {'accuracy': 0.9262692128551467, 'cluster_idx': 1},\n",
              " 39: {'accuracy': 0.9085235211923613, 'cluster_idx': 1},\n",
              " 40: {'accuracy': 0.9156652693681107, 'cluster_idx': 1},\n",
              " 41: {'accuracy': 0.9402577239559073, 'cluster_idx': 0},\n",
              " 42: {'accuracy': 0.9313926408942711, 'cluster_idx': 4},\n",
              " 43: {'accuracy': 0.9208818506443098, 'cluster_idx': 0},\n",
              " 44: {'accuracy': 0.9208973761838223, 'cluster_idx': 2},\n",
              " 45: {'accuracy': 0.9314702685918336, 'cluster_idx': 4},\n",
              " 46: {'accuracy': 0.9279149200434714, 'cluster_idx': 3},\n",
              " 47: {'accuracy': 0.912187548517311, 'cluster_idx': 1},\n",
              " 48: {'accuracy': 0.9314236919732961, 'cluster_idx': 1},\n",
              " 49: {'accuracy': 0.9332091290172333, 'cluster_idx': 1},\n",
              " 50: {'accuracy': 0.9262226362366093, 'cluster_idx': 0},\n",
              " 51: {'accuracy': 0.9208818506443098, 'cluster_idx': 1},\n",
              " 52: {'accuracy': 0.927930445582984, 'cluster_idx': 1},\n",
              " 53: {'accuracy': 0.9367644775655954, 'cluster_idx': 1},\n",
              " 54: {'accuracy': 0.9174196553330228, 'cluster_idx': 1},\n",
              " 55: {'accuracy': 0.9191119391398852, 'cluster_idx': 0},\n",
              " 56: {'accuracy': 0.9385188635305075, 'cluster_idx': 1},\n",
              " 57: {'accuracy': 0.917450706412048, 'cluster_idx': 0},\n",
              " 58: {'accuracy': 0.9243906225741345, 'cluster_idx': 1},\n",
              " 59: {'accuracy': 0.9332091290172333, 'cluster_idx': 4},\n",
              " 60: {'accuracy': 0.9191274646793974, 'cluster_idx': 1},\n",
              " 61: {'accuracy': 0.9279770222015216, 'cluster_idx': 1},\n",
              " 62: {'accuracy': 0.9156342182890855, 'cluster_idx': 0},\n",
              " 63: {'accuracy': 0.934979040521658, 'cluster_idx': 3},\n",
              " 64: {'accuracy': 0.9297624592454587, 'cluster_idx': 1},\n",
              " 65: {'accuracy': 0.9261450085390468, 'cluster_idx': 1},\n",
              " 66: {'accuracy': 0.9420276354603322, 'cluster_idx': 1},\n",
              " 67: {'accuracy': 0.9349635149821456, 'cluster_idx': 4},\n",
              " 68: {'accuracy': 0.9384567613724576, 'cluster_idx': 1},\n",
              " 69: {'accuracy': 0.943797546964757, 'cluster_idx': 1},\n",
              " 70: {'accuracy': 0.9085700978108988, 'cluster_idx': 2},\n",
              " 71: {'accuracy': 0.9260984319205093, 'cluster_idx': 4},\n",
              " 72: {'accuracy': 0.9279459711224964, 'cluster_idx': 4},\n",
              " 73: {'accuracy': 0.9279149200434716, 'cluster_idx': 1},\n",
              " 74: {'accuracy': 0.9226362366092221, 'cluster_idx': 1},\n",
              " 75: {'accuracy': 0.9191585157584224, 'cluster_idx': 0},\n",
              " 76: {'accuracy': 0.9244993013507219, 'cluster_idx': 2},\n",
              " 77: {'accuracy': 0.9262071106970968, 'cluster_idx': 3},\n",
              " 78: {'accuracy': 0.9227293898462972, 'cluster_idx': 0},\n",
              " 79: {'accuracy': 0.9349635149821456, 'cluster_idx': 2},\n",
              " 80: {'accuracy': 0.9050613258810744, 'cluster_idx': 1},\n",
              " 81: {'accuracy': 0.9191429902189101, 'cluster_idx': 1},\n",
              " 82: {'accuracy': 0.9297469337059463, 'cluster_idx': 2},\n",
              " 83: {'accuracy': 0.9331936034777207, 'cluster_idx': 3},\n",
              " 84: {'accuracy': 0.9103865859338611, 'cluster_idx': 2},\n",
              " 85: {'accuracy': 0.9138953578636857, 'cluster_idx': 1},\n",
              " 86: {'accuracy': 0.9068622884645242, 'cluster_idx': 1},\n",
              " 87: {'accuracy': 0.9367179009470579, 'cluster_idx': 4},\n",
              " 88: {'accuracy': 0.9331936034777207, 'cluster_idx': 1},\n",
              " 89: {'accuracy': 0.9314392175128084, 'cluster_idx': 0},\n",
              " 90: {'accuracy': 0.9174351808725353, 'cluster_idx': 0},\n",
              " 91: {'accuracy': 0.9157273715261607, 'cluster_idx': 2},\n",
              " 92: {'accuracy': 0.9279770222015215, 'cluster_idx': 0},\n",
              " 93: {'accuracy': 0.9279770222015215, 'cluster_idx': 3},\n",
              " 94: {'accuracy': 0.924468250271697, 'cluster_idx': 3},\n",
              " 95: {'accuracy': 0.9173886042539978, 'cluster_idx': 0},\n",
              " 96: {'accuracy': 0.9262226362366093, 'cluster_idx': 3},\n",
              " 97: {'accuracy': 0.9033224654556745, 'cluster_idx': 0},\n",
              " 98: {'accuracy': 0.912156497438286, 'cluster_idx': 2},\n",
              " 99: {'accuracy': 0.9261450085390466, 'cluster_idx': 2}}"
            ]
          },
          "metadata": {},
          "execution_count": 9
        }
      ]
    },
    {
      "cell_type": "code",
      "execution_count": null,
      "metadata": {
        "id": "tXGhTURny7i_",
        "colab": {
          "base_uri": "https://localhost:8080/"
        },
        "outputId": "670b7d11-bea6-41c8-d0a7-a245a5e587ef"
      },
      "outputs": [
        {
          "output_type": "stream",
          "name": "stdout",
          "text": [
            "0.947290793355069 1\n",
            "List of clusters with maximum accuracy is:\n",
            "\n",
            "Cluster index,Maximum accuracy,decision tree\n",
            " [[1, 0.947290793355069, 10]]\n"
          ]
        }
      ],
      "source": [
        "max_acc = -1\n",
        "max_acc_in_cluster = -1\n",
        "idx = \"\"\n",
        "lists = []\n",
        "list1 = []\n",
        "res = set()\n",
        "dicts = prf.info\n",
        "for k, subdict in dicts.items():\n",
        "      res.add(subdict['cluster_idx'])\n",
        "      if subdict['accuracy'] >= max_acc:\n",
        "        max_acc = subdict['accuracy']\n",
        "        idx = subdict['cluster_idx']\n",
        "        lists.append([max_acc,idx, k])\n",
        "        for i in range(len(res)):\n",
        "          if i == idx:\n",
        "            list1.append([i,max_acc,k])\n",
        "\n",
        "print(max_acc, idx)\n",
        "result = set([c for a, c, t in lists])\n",
        "result\n",
        "print(\"List of clusters with maximum accuracy is:\\n\")\n",
        "print(\"Cluster index,Maximum accuracy,decision tree\\n\",sorted(list1))\n",
        "\n",
        "#for each cluster get max acc nd tree to be selected as representsative\n",
        "#once all the cluster representatives are found ..remove all others ..prune function\n",
        "# calculated overall performance of random forest again-challenging"
      ]
    },
    {
      "cell_type": "code",
      "source": [
        "# Highest acuracy selection-Cluster Representative\n",
        "def getMaxAccuracyCluster(dicts):\n",
        "    clusterObj = {}\n",
        "    for key, value in dicts.items():\n",
        "      if(clusterObj.get(str(value[\"cluster_idx\"])) != None):\n",
        "        clusterObj[str(value[\"cluster_idx\"])].append({\"index\" : key, \"accuracy\" : value['accuracy']})\n",
        "      else:\n",
        "        clusterObj[str(value[\"cluster_idx\"])] = []\n",
        "        clusterObj[str(value[\"cluster_idx\"])].append({\"index\" : key, \"accuracy\" : value['accuracy']})\n",
        "    #Restructured the object so the key for dictionary is cluster_idx\n",
        "    #Now you can access all the accuracies of cluster as below\n",
        "    #print(clusterObj[\"2\"])\n",
        "    clusterMaxAccuracyObj = {}\n",
        "    for clusterIndex in clusterObj.keys():\n",
        "      max_acc = -1;\n",
        "      for obj in clusterObj[clusterIndex]:\n",
        "        if obj['accuracy'] == max_acc:\n",
        "          clusterMaxAccuracyObj[str(clusterIndex)].append(obj['index'])\n",
        "        if obj['accuracy'] > max_acc:\n",
        "          max_acc = obj['accuracy']\n",
        "          clusterMaxAccuracyObj[str(clusterIndex)] = []\n",
        "          clusterMaxAccuracyObj[str(clusterIndex)].append(obj['index'])\n",
        "    print(clusterMaxAccuracyObj)\n",
        "    dict1 = {}\n",
        "    print(\"Selecting first maximum accuracy of a decision tree in each cluster:\")\n",
        "    for key,val in clusterMaxAccuracyObj.items():\n",
        "      output = {key : val[0]}\n",
        "      print(output)\n",
        "    return clusterMaxAccuracyObj"
      ],
      "metadata": {
        "id": "WW3VvbO-6Yah"
      },
      "execution_count": null,
      "outputs": []
    },
    {
      "cell_type": "code",
      "source": [
        "getMaxAccuracyCluster(prf.info)"
      ],
      "metadata": {
        "colab": {
          "base_uri": "https://localhost:8080/"
        },
        "id": "QQ__aUK-fUXj",
        "outputId": "e45d48ef-4932-4e55-de0f-886c87c98717"
      },
      "execution_count": null,
      "outputs": [
        {
          "output_type": "stream",
          "name": "stdout",
          "text": [
            "{'1': [10], '2': [79], '4': [37], '3': [22], '0': [20]}\n",
            "Selecting first maximum accuracy of a decision tree in each cluster:\n",
            "{'1': 10}\n",
            "{'2': 79}\n",
            "{'4': 37}\n",
            "{'3': 22}\n",
            "{'0': 20}\n"
          ]
        },
        {
          "output_type": "execute_result",
          "data": {
            "text/plain": [
              "{'0': [20], '1': [10], '2': [79], '3': [22], '4': [37]}"
            ]
          },
          "metadata": {},
          "execution_count": 12
        }
      ]
    },
    {
      "cell_type": "code",
      "source": [
        "prf.decision_trees[0].predict(X)"
      ],
      "metadata": {
        "colab": {
          "base_uri": "https://localhost:8080/"
        },
        "id": "YnvPjJ_fUmQt",
        "outputId": "6aac1da5-d4cd-44ce-b6f6-eedd3d05f660"
      },
      "execution_count": null,
      "outputs": [
        {
          "output_type": "execute_result",
          "data": {
            "text/plain": [
              "array([0., 0., 0., 0., 0., 0., 0., 0., 0., 0., 0., 0., 0., 1., 0., 0., 0.,\n",
              "       0., 0., 1., 1., 1., 0., 0., 0., 0., 0., 0., 0., 0., 0., 0., 0., 0.,\n",
              "       0., 0., 0., 1., 1., 0., 0., 0., 0., 0., 0., 0., 1., 0., 1., 1., 1.,\n",
              "       1., 1., 0., 0., 1., 0., 0., 1., 1., 1., 1., 0., 1., 0., 0., 1., 1.,\n",
              "       1., 1., 0., 1., 0., 0., 1., 0., 1., 0., 0., 1., 1., 1., 0., 1., 1.,\n",
              "       0., 1., 0., 1., 1., 1., 0., 1., 1., 0., 0., 1., 1., 1., 0., 1., 1.,\n",
              "       1., 1., 1., 0., 1., 1., 0., 1., 1., 1., 1., 1., 1., 1., 1., 0., 0.,\n",
              "       0., 1., 0., 0., 1., 1., 1., 0., 0., 1., 0., 1., 0., 0., 1., 0., 0.,\n",
              "       1., 1., 0., 1., 1., 0., 1., 1., 1., 1., 0., 1., 0., 1., 1., 1., 1.,\n",
              "       1., 1., 1., 0., 0., 1., 1., 1., 0., 0., 1., 0., 1., 1., 0., 0., 1.,\n",
              "       1., 0., 0., 1., 1., 1., 1., 0., 1., 1., 0., 0., 0., 1., 1., 1., 0.,\n",
              "       1., 1., 1., 0., 0., 1., 0., 0., 1., 0., 1., 0., 0., 1., 0., 0., 0.,\n",
              "       1., 0., 1., 0., 1., 1., 0., 1., 0., 0., 0., 0., 1., 1., 0., 0., 1.,\n",
              "       1., 1., 0., 1., 1., 1., 1., 1., 0., 0., 1., 1., 0., 1., 1., 0., 0.,\n",
              "       1., 0., 1., 1., 1., 1., 0., 1., 1., 1., 1., 1., 0., 1., 0., 0., 0.,\n",
              "       0., 0., 0., 0., 0., 0., 0., 0., 0., 0., 0., 1., 1., 1., 1., 1., 1.,\n",
              "       0., 1., 0., 0., 1., 0., 1., 1., 0., 1., 0., 0., 1., 1., 1., 1., 1.,\n",
              "       1., 1., 1., 1., 1., 1., 1., 1., 0., 1., 1., 0., 1., 0., 1., 1., 1.,\n",
              "       1., 1., 1., 1., 1., 1., 1., 1., 1., 1., 1., 0., 1., 1., 1., 0., 1.,\n",
              "       0., 1., 1., 1., 1., 0., 0., 0., 1., 1., 1., 1., 0., 1., 0., 1., 0.,\n",
              "       1., 1., 1., 0., 1., 1., 1., 1., 1., 1., 1., 0., 0., 0., 1., 1., 1.,\n",
              "       1., 1., 1., 1., 1., 1., 1., 1., 0., 0., 1., 0., 0., 0., 1., 0., 0.,\n",
              "       1., 1., 1., 1., 1., 0., 1., 1., 1., 1., 1., 0., 1., 1., 1., 0., 1.,\n",
              "       1., 0., 0., 1., 1., 0., 1., 1., 1., 0., 1., 1., 1., 1., 1., 0., 1.,\n",
              "       0., 1., 1., 1., 1., 1., 0., 1., 1., 0., 1., 1., 1., 0., 1., 1., 1.,\n",
              "       1., 1., 1., 1., 1., 0., 1., 0., 0., 1., 0., 1., 1., 1., 1., 1., 0.,\n",
              "       1., 1., 0., 1., 0., 1., 1., 0., 1., 0., 1., 1., 1., 1., 1., 1., 1.,\n",
              "       1., 0., 0., 1., 1., 1., 1., 1., 1., 0., 0., 1., 1., 1., 1., 1., 1.,\n",
              "       1., 1., 1., 0., 1., 1., 1., 1., 1., 1., 1., 0., 1., 0., 1., 1., 0.,\n",
              "       1., 1., 1., 1., 1., 0., 0., 1., 0., 1., 0., 1., 1., 1., 1., 1., 0.,\n",
              "       1., 1., 0., 1., 1., 1., 0., 0., 1., 1., 1., 0., 1., 1., 1., 1., 1.,\n",
              "       1., 1., 1., 1., 1., 1., 0., 1., 0., 0., 1., 1., 1., 1., 1., 1., 1.,\n",
              "       1., 1., 1., 1., 1., 1., 1., 1., 1., 1., 1., 1., 1., 1., 1., 1., 1.,\n",
              "       1., 0., 0., 0., 0., 0., 0., 1.])"
            ]
          },
          "metadata": {},
          "execution_count": 13
        }
      ]
    },
    {
      "cell_type": "code",
      "source": [
        "def getTreeList(X, dicts):\n",
        "    treeIdxs = []\n",
        "    for trees in dicts.values():\n",
        "        treeIdxs.append(trees[0])\n",
        "    return treeIdxs\n",
        "\n",
        "stored_ypred = []\n",
        "def predict(X, treeList, prf):\n",
        "    ypred = []\n",
        "    for treeIdx in treeList:\n",
        "        print(prf.decision_trees[treeIdx].predict(X))\n",
        "        ypred.append(prf.decision_trees[treeIdx].predict(X))\n",
        "    stored_ypred.append(ypred)\n",
        "    print(type(ypred))\n",
        "    return getMajorityLabels(ypred)\n",
        "\n",
        "def getMajorityLabels(pred):\n",
        "    predNp = np.array(pred)\n",
        "    rows,cols = predNp.shape\n",
        "    res = []\n",
        "    for colIdx in range(cols):\n",
        "        col = list(predNp[:, colIdx])\n",
        "        res.append(max(set(col), key = col.count))\n",
        "    return res\n",
        "\n",
        "\n"
      ],
      "metadata": {
        "id": "dnbQIEqiEq29"
      },
      "execution_count": null,
      "outputs": []
    },
    {
      "cell_type": "code",
      "source": [
        "treeList = getTreeList(X, getMaxAccuracyCluster(prf.info))\n",
        "\n",
        "y_preed = predict(X_test, treeList, prf)\n",
        "\n",
        "print(\"final answer = \", y_preed)\n",
        "  \n",
        "print(\"testing target data:\",y_test)\n",
        "  \n",
        "print(\"Accuracy:\",metrics.accuracy_score(y_test, y_preed))"
      ],
      "metadata": {
        "colab": {
          "base_uri": "https://localhost:8080/"
        },
        "id": "HcSWuOugEsLR",
        "outputId": "fae331ba-eefd-4a2e-c80f-2959de3d71ef"
      },
      "execution_count": null,
      "outputs": [
        {
          "output_type": "stream",
          "name": "stdout",
          "text": [
            "{'1': [10], '2': [79], '4': [37], '3': [22], '0': [20]}\n",
            "Selecting first maximum accuracy of a decision tree in each cluster:\n",
            "{'1': 10}\n",
            "{'2': 79}\n",
            "{'4': 37}\n",
            "{'3': 22}\n",
            "{'0': 20}\n",
            "[0. 0. 0. 0. 1. 1. 0. 1. 1. 1. 0. 0. 1. 1. 0. 1. 1. 1. 1. 1. 1. 1. 0. 1.\n",
            " 1. 1. 0. 0. 0. 0. 0. 1. 0. 1. 0. 1. 1. 0. 0. 1. 1. 1. 0. 0. 1. 1. 1. 1.\n",
            " 1. 1. 0. 0. 1. 1. 0. 1. 0. 1. 0. 1. 1. 0. 0. 1. 1. 0. 1. 0. 0. 0. 1. 1.\n",
            " 0. 1. 0. 0. 1. 0. 1. 1. 1. 1. 1. 1. 0. 0. 1. 0. 0. 1. 0. 0. 0. 1. 1. 1.\n",
            " 0. 0. 0. 1. 0. 0. 1. 1. 0. 0. 0. 1. 0. 1. 1. 1. 1. 0. 0. 1. 0. 0. 1. 0.\n",
            " 1. 1. 1. 1. 1. 1. 1. 0. 1. 1. 1. 0. 1. 1. 1. 0. 1. 1. 1. 0. 0. 1. 1. 1.\n",
            " 1. 1. 0. 1. 1. 0. 1. 0. 0. 0. 1. 1. 1. 0. 1. 1. 1. 1. 0. 1. 0. 1. 1. 1.\n",
            " 0. 1. 1.]\n",
            "[0. 0. 0. 0. 1. 1. 0. 1. 1. 1. 0. 0. 1. 1. 0. 1. 1. 0. 1. 1. 1. 1. 0. 1.\n",
            " 1. 1. 0. 0. 0. 0. 0. 1. 0. 1. 0. 1. 1. 1. 0. 1. 1. 1. 0. 0. 1. 1. 1. 1.\n",
            " 1. 1. 0. 0. 1. 1. 0. 1. 0. 1. 0. 1. 1. 0. 0. 1. 1. 0. 1. 0. 0. 0. 1. 1.\n",
            " 0. 1. 0. 0. 1. 0. 1. 1. 1. 1. 1. 1. 0. 0. 0. 0. 0. 1. 0. 0. 0. 1. 1. 1.\n",
            " 0. 0. 0. 1. 0. 0. 1. 1. 0. 0. 0. 1. 0. 1. 1. 1. 1. 0. 0. 1. 0. 0. 1. 0.\n",
            " 1. 1. 1. 1. 1. 0. 1. 0. 0. 1. 1. 0. 1. 1. 1. 0. 1. 1. 1. 0. 1. 1. 1. 1.\n",
            " 1. 1. 0. 1. 1. 0. 1. 1. 0. 0. 1. 1. 1. 0. 1. 1. 1. 1. 0. 1. 1. 1. 0. 1.\n",
            " 0. 1. 1.]\n",
            "[0. 1. 0. 0. 1. 1. 1. 1. 1. 1. 0. 0. 1. 1. 0. 1. 1. 1. 1. 1. 1. 1. 0. 1.\n",
            " 1. 1. 0. 0. 0. 0. 0. 1. 0. 1. 0. 1. 1. 0. 0. 1. 1. 1. 0. 0. 1. 1. 1. 1.\n",
            " 1. 1. 0. 0. 1. 1. 0. 1. 0. 1. 0. 1. 1. 0. 0. 1. 1. 0. 1. 0. 0. 0. 1. 1.\n",
            " 0. 1. 0. 0. 1. 0. 1. 1. 1. 1. 1. 1. 0. 0. 1. 0. 0. 1. 0. 1. 0. 1. 1. 1.\n",
            " 0. 0. 0. 1. 0. 0. 1. 1. 0. 0. 0. 1. 0. 1. 1. 1. 1. 0. 0. 1. 0. 0. 1. 0.\n",
            " 1. 1. 1. 1. 1. 0. 1. 0. 1. 1. 1. 0. 1. 1. 1. 0. 1. 1. 1. 0. 1. 1. 1. 1.\n",
            " 1. 1. 0. 1. 1. 0. 1. 0. 0. 0. 1. 1. 1. 0. 1. 1. 1. 1. 0. 1. 0. 1. 0. 1.\n",
            " 0. 1. 1.]\n",
            "[0. 1. 0. 0. 1. 1. 0. 1. 1. 1. 0. 0. 1. 1. 0. 1. 1. 1. 1. 1. 1. 1. 0. 1.\n",
            " 1. 1. 0. 0. 0. 0. 0. 0. 0. 1. 1. 1. 1. 0. 0. 1. 1. 1. 0. 0. 1. 1. 1. 1.\n",
            " 1. 1. 0. 0. 1. 1. 0. 1. 0. 0. 0. 1. 1. 0. 0. 1. 1. 0. 1. 0. 0. 0. 1. 1.\n",
            " 0. 1. 0. 0. 1. 0. 1. 1. 1. 1. 1. 1. 0. 0. 1. 0. 0. 1. 0. 0. 0. 1. 1. 1.\n",
            " 0. 0. 0. 1. 0. 0. 1. 1. 0. 0. 0. 1. 0. 0. 1. 1. 1. 0. 0. 1. 0. 0. 1. 0.\n",
            " 1. 1. 1. 1. 1. 1. 1. 0. 1. 1. 1. 0. 1. 1. 1. 0. 1. 1. 1. 0. 0. 1. 1. 1.\n",
            " 1. 1. 0. 1. 1. 0. 1. 0. 0. 0. 1. 0. 1. 0. 1. 1. 1. 0. 0. 1. 0. 1. 1. 1.\n",
            " 0. 1. 1.]\n",
            "[0. 0. 0. 0. 1. 1. 0. 1. 1. 1. 0. 0. 1. 1. 0. 1. 1. 1. 1. 1. 1. 1. 0. 1.\n",
            " 1. 1. 0. 0. 1. 0. 0. 0. 0. 1. 1. 1. 1. 0. 0. 1. 1. 1. 0. 0. 1. 1. 0. 1.\n",
            " 1. 1. 0. 0. 1. 1. 0. 1. 0. 1. 0. 1. 1. 0. 0. 1. 1. 0. 1. 0. 0. 0. 1. 1.\n",
            " 0. 1. 0. 0. 1. 0. 1. 1. 1. 1. 1. 1. 0. 0. 1. 0. 0. 1. 0. 0. 0. 1. 1. 1.\n",
            " 0. 0. 0. 1. 0. 0. 1. 1. 0. 0. 0. 1. 0. 1. 1. 1. 1. 0. 0. 1. 0. 0. 1. 0.\n",
            " 1. 1. 1. 1. 1. 0. 1. 0. 1. 1. 1. 0. 1. 1. 1. 0. 1. 1. 1. 0. 1. 1. 1. 1.\n",
            " 1. 1. 0. 1. 1. 0. 1. 0. 0. 0. 1. 1. 1. 0. 1. 1. 1. 1. 0. 1. 0. 1. 1. 1.\n",
            " 0. 1. 1.]\n",
            "<class 'list'>\n",
            "final answer =  [0.0, 0.0, 0.0, 0.0, 1.0, 1.0, 0.0, 1.0, 1.0, 1.0, 0.0, 0.0, 1.0, 1.0, 0.0, 1.0, 1.0, 1.0, 1.0, 1.0, 1.0, 1.0, 0.0, 1.0, 1.0, 1.0, 0.0, 0.0, 0.0, 0.0, 0.0, 1.0, 0.0, 1.0, 0.0, 1.0, 1.0, 0.0, 0.0, 1.0, 1.0, 1.0, 0.0, 0.0, 1.0, 1.0, 1.0, 1.0, 1.0, 1.0, 0.0, 0.0, 1.0, 1.0, 0.0, 1.0, 0.0, 1.0, 0.0, 1.0, 1.0, 0.0, 0.0, 1.0, 1.0, 0.0, 1.0, 0.0, 0.0, 0.0, 1.0, 1.0, 0.0, 1.0, 0.0, 0.0, 1.0, 0.0, 1.0, 1.0, 1.0, 1.0, 1.0, 1.0, 0.0, 0.0, 1.0, 0.0, 0.0, 1.0, 0.0, 0.0, 0.0, 1.0, 1.0, 1.0, 0.0, 0.0, 0.0, 1.0, 0.0, 0.0, 1.0, 1.0, 0.0, 0.0, 0.0, 1.0, 0.0, 1.0, 1.0, 1.0, 1.0, 0.0, 0.0, 1.0, 0.0, 0.0, 1.0, 0.0, 1.0, 1.0, 1.0, 1.0, 1.0, 0.0, 1.0, 0.0, 1.0, 1.0, 1.0, 0.0, 1.0, 1.0, 1.0, 0.0, 1.0, 1.0, 1.0, 0.0, 1.0, 1.0, 1.0, 1.0, 1.0, 1.0, 0.0, 1.0, 1.0, 0.0, 1.0, 0.0, 0.0, 0.0, 1.0, 1.0, 1.0, 0.0, 1.0, 1.0, 1.0, 1.0, 0.0, 1.0, 0.0, 1.0, 1.0, 1.0, 0.0, 1.0, 1.0]\n",
            "testing target data: [0 0 0 0 1 1 0 1 1 1 0 0 1 1 0 1 1 1 1 1 1 1 0 1 1 1 0 0 0 0 0 1 0 1 0 1 1\n",
            " 0 0 1 1 1 0 0 1 1 1 1 1 1 0 0 1 1 0 1 0 1 0 1 1 0 0 1 1 0 1 0 0 0 1 1 0 1\n",
            " 0 0 1 0 1 1 1 1 1 1 0 0 1 0 0 1 0 0 0 1 1 1 0 0 0 1 0 0 1 1 0 0 0 1 0 1 1\n",
            " 1 1 0 0 1 0 0 1 0 1 1 1 1 1 0 1 0 1 1 1 0 1 1 1 0 1 1 1 0 1 1 1 1 1 1 0 1\n",
            " 1 0 1 0 0 0 1 1 1 0 1 1 1 1 0 1 0 1 0 1 0 1 1]\n",
            "Accuracy: 0.9941520467836257\n"
          ]
        }
      ]
    },
    {
      "cell_type": "markdown",
      "source": [
        "Most repeated accuracy selection-Mode\n",
        "Average accuracy selection-mean\n",
        "Choosing the middle value after sorting the accuracy-median\n",
        "Apart from accuracy-what else can be chosen for performance evaluation in decision tree???\n",
        "Next step? Pruning? How to evaluate performance after pruning?\n"
      ],
      "metadata": {
        "id": "E7zbgf29hYWJ"
      }
    },
    {
      "cell_type": "code",
      "source": [
        "prf1.info"
      ],
      "metadata": {
        "id": "p5RoK52lis_z",
        "colab": {
          "base_uri": "https://localhost:8080/"
        },
        "outputId": "ba78b31c-c79b-4b1b-b68c-c17f7cd50c63"
      },
      "execution_count": null,
      "outputs": [
        {
          "output_type": "execute_result",
          "data": {
            "text/plain": [
              "{0: {'accuracy': 0.9226983387672721, 'cluster_idx': 1},\n",
              " 1: {'accuracy': 0.9174196553330228, 'cluster_idx': 4},\n",
              " 2: {'accuracy': 0.9050768514205869, 'cluster_idx': 0},\n",
              " 3: {'accuracy': 0.9209594783418724, 'cluster_idx': 2},\n",
              " 4: {'accuracy': 0.924437199192672, 'cluster_idx': 2},\n",
              " 5: {'accuracy': 0.9261450085390466, 'cluster_idx': 1},\n",
              " 6: {'accuracy': 0.9332091290172334, 'cluster_idx': 2},\n",
              " 7: {'accuracy': 0.9349945660611706, 'cluster_idx': 2},\n",
              " 8: {'accuracy': 0.9332557056357708, 'cluster_idx': 2},\n",
              " 9: {'accuracy': 0.9191895668374477, 'cluster_idx': 0},\n",
              " 10: {'accuracy': 0.9209439528023597, 'cluster_idx': 1},\n",
              " 11: {'accuracy': 0.931547896289396, 'cluster_idx': 1},\n",
              " 12: {'accuracy': 0.9420276354603322, 'cluster_idx': 0},\n",
              " 13: {'accuracy': 0.9420121099208197, 'cluster_idx': 3},\n",
              " 14: {'accuracy': 0.9121720229777983, 'cluster_idx': 1},\n",
              " 15: {'accuracy': 0.9050613258810744, 'cluster_idx': 4},\n",
              " 16: {'accuracy': 0.9138953578636857, 'cluster_idx': 4},\n",
              " 17: {'accuracy': 0.915618692749573, 'cluster_idx': 2},\n",
              " 18: {'accuracy': 0.9015991305697872, 'cluster_idx': 4},\n",
              " 19: {'accuracy': 0.9208663251047973, 'cluster_idx': 1},\n",
              " 20: {'accuracy': 0.9314702685918335, 'cluster_idx': 2},\n",
              " 21: {'accuracy': 0.9331780779382084, 'cluster_idx': 4},\n",
              " 22: {'accuracy': 0.9261915851575843, 'cluster_idx': 4},\n",
              " 23: {'accuracy': 0.9420276354603322, 'cluster_idx': 4},\n",
              " 24: {'accuracy': 0.9332401800962584, 'cluster_idx': 2},\n",
              " 25: {'accuracy': 0.9367800031051079, 'cluster_idx': 2},\n",
              " 26: {'accuracy': 0.9208818506443098, 'cluster_idx': 4},\n",
              " 27: {'accuracy': 0.9314547430523211, 'cluster_idx': 4},\n",
              " 28: {'accuracy': 0.9261605340785592, 'cluster_idx': 2},\n",
              " 29: {'accuracy': 0.912125446359261, 'cluster_idx': 2},\n",
              " 30: {'accuracy': 0.9155565905915232, 'cluster_idx': 2},\n",
              " 31: {'accuracy': 0.9279614966620089, 'cluster_idx': 4},\n",
              " 32: {'accuracy': 0.9261915851575843, 'cluster_idx': 4},\n",
              " 33: {'accuracy': 0.947290793355069, 'cluster_idx': 4},\n",
              " 34: {'accuracy': 0.9243595714951095, 'cluster_idx': 1},\n",
              " 35: {'accuracy': 0.9297314081664337, 'cluster_idx': 3},\n",
              " 36: {'accuracy': 0.8997981679863376, 'cluster_idx': 4},\n",
              " 37: {'accuracy': 0.9209284272628475, 'cluster_idx': 3},\n",
              " 38: {'accuracy': 0.9209129017233348, 'cluster_idx': 4},\n",
              " 39: {'accuracy': 0.9103400093153237, 'cluster_idx': 4},\n",
              " 40: {'accuracy': 0.9191585157584224, 'cluster_idx': 4},\n",
              " 41: {'accuracy': 0.9297469337059463, 'cluster_idx': 3},\n",
              " 42: {'accuracy': 0.9366713243285204, 'cluster_idx': 0},\n",
              " 43: {'accuracy': 0.9068157118459865, 'cluster_idx': 3},\n",
              " 44: {'accuracy': 0.934979040521658, 'cluster_idx': 1},\n",
              " 45: {'accuracy': 0.9279459711224964, 'cluster_idx': 4},\n",
              " 46: {'accuracy': 0.9279459711224964, 'cluster_idx': 4},\n",
              " 47: {'accuracy': 0.9297314081664337, 'cluster_idx': 4},\n",
              " 48: {'accuracy': 0.9420276354603322, 'cluster_idx': 4},\n",
              " 49: {'accuracy': 0.9262536873156343, 'cluster_idx': 3},\n",
              " 50: {'accuracy': 0.9191429902189101, 'cluster_idx': 3},\n",
              " 51: {'accuracy': 0.9191895668374477, 'cluster_idx': 3},\n",
              " 52: {'accuracy': 0.9244216736531594, 'cluster_idx': 0},\n",
              " 53: {'accuracy': 0.9068622884645242, 'cluster_idx': 4},\n",
              " 54: {'accuracy': 0.9244527247321844, 'cluster_idx': 4},\n",
              " 55: {'accuracy': 0.9244216736531594, 'cluster_idx': 1},\n",
              " 56: {'accuracy': 0.9209439528023597, 'cluster_idx': 2},\n",
              " 57: {'accuracy': 0.9332557056357708, 'cluster_idx': 4},\n",
              " 58: {'accuracy': 0.9314547430523211, 'cluster_idx': 4},\n",
              " 59: {'accuracy': 0.9227293898462972, 'cluster_idx': 3},\n",
              " 60: {'accuracy': 0.9262226362366093, 'cluster_idx': 4},\n",
              " 61: {'accuracy': 0.9314857941313461, 'cluster_idx': 3},\n",
              " 62: {'accuracy': 0.9297469337059463, 'cluster_idx': 0},\n",
              " 63: {'accuracy': 0.9420586865393572, 'cluster_idx': 4},\n",
              " 64: {'accuracy': 0.927930445582984, 'cluster_idx': 4},\n",
              " 65: {'accuracy': 0.9332246545567457, 'cluster_idx': 4},\n",
              " 66: {'accuracy': 0.9209284272628475, 'cluster_idx': 4},\n",
              " 67: {'accuracy': 0.9507995652848935, 'cluster_idx': 0},\n",
              " 68: {'accuracy': 0.9331780779382084, 'cluster_idx': 4},\n",
              " 69: {'accuracy': 0.9103710603943487, 'cluster_idx': 3},\n",
              " 70: {'accuracy': 0.9314081664337834, 'cluster_idx': 4},\n",
              " 71: {'accuracy': 0.9314857941313461, 'cluster_idx': 4},\n",
              " 72: {'accuracy': 0.9525539512498058, 'cluster_idx': 1},\n",
              " 73: {'accuracy': 0.9138487812451481, 'cluster_idx': 4},\n",
              " 74: {'accuracy': 0.9349945660611706, 'cluster_idx': 4},\n",
              " 75: {'accuracy': 0.9209284272628473, 'cluster_idx': 1},\n",
              " 76: {'accuracy': 0.9350566682192205, 'cluster_idx': 2},\n",
              " 77: {'accuracy': 0.9261605340785591, 'cluster_idx': 3},\n",
              " 78: {'accuracy': 0.9244527247321844, 'cluster_idx': 2},\n",
              " 79: {'accuracy': 0.9349635149821456, 'cluster_idx': 4},\n",
              " 80: {'accuracy': 0.9279770222015216, 'cluster_idx': 4},\n",
              " 81: {'accuracy': 0.943766495885732, 'cluster_idx': 4},\n",
              " 82: {'accuracy': 0.9297314081664337, 'cluster_idx': 1},\n",
              " 83: {'accuracy': 0.9104176370128861, 'cluster_idx': 1},\n",
              " 84: {'accuracy': 0.9279770222015216, 'cluster_idx': 4},\n",
              " 85: {'accuracy': 0.9279925477410341, 'cluster_idx': 4},\n",
              " 86: {'accuracy': 0.9174351808725353, 'cluster_idx': 4},\n",
              " 87: {'accuracy': 0.9314702685918336, 'cluster_idx': 4},\n",
              " 88: {'accuracy': 0.924468250271697, 'cluster_idx': 0},\n",
              " 89: {'accuracy': 0.9349014128240956, 'cluster_idx': 0},\n",
              " 90: {'accuracy': 0.9384567613724576, 'cluster_idx': 0},\n",
              " 91: {'accuracy': 0.9367489520260829, 'cluster_idx': 3},\n",
              " 92: {'accuracy': 0.9173886042539978, 'cluster_idx': 1},\n",
              " 93: {'accuracy': 0.9279614966620089, 'cluster_idx': 4},\n",
              " 94: {'accuracy': 0.9191585157584224, 'cluster_idx': 4},\n",
              " 95: {'accuracy': 0.9402266728768826, 'cluster_idx': 0},\n",
              " 96: {'accuracy': 0.9209284272628475, 'cluster_idx': 1},\n",
              " 97: {'accuracy': 0.9384878124514827, 'cluster_idx': 3},\n",
              " 98: {'accuracy': 0.9315013196708586, 'cluster_idx': 0},\n",
              " 99: {'accuracy': 0.9015680794907622, 'cluster_idx': 4}}"
            ]
          },
          "metadata": {},
          "execution_count": 16
        }
      ]
    },
    {
      "cell_type": "code",
      "execution_count": null,
      "metadata": {
        "id": "6Y8_j6BElPT4",
        "colab": {
          "base_uri": "https://localhost:8080/"
        },
        "outputId": "1878508e-cc11-407c-9d12-c10c45f56960"
      },
      "outputs": [
        {
          "output_type": "stream",
          "name": "stdout",
          "text": [
            "{'1': [72], '4': [33], '0': [67], '2': [25], '3': [13]}\n",
            "Selecting first maximum accuracy of a decision tree in each cluster:\n",
            "{'1': 72}\n",
            "{'4': 33}\n",
            "{'0': 67}\n",
            "{'2': 25}\n",
            "{'3': 13}\n"
          ]
        },
        {
          "output_type": "execute_result",
          "data": {
            "text/plain": [
              "{'0': [67], '1': [72], '2': [25], '3': [13], '4': [33]}"
            ]
          },
          "metadata": {},
          "execution_count": 17
        }
      ],
      "source": [
        "#dbscan\n",
        "getMaxAccuracyCluster(prf1.info)"
      ]
    },
    {
      "cell_type": "code",
      "source": [
        "treeList = getTreeList(X, getMaxAccuracyCluster(prf1.info))\n",
        "\n",
        "y_preed = predict(X_test, treeList, prf1)\n",
        "\n",
        "print(\"final answer = \", y_preed)\n",
        "print(y_test)\n",
        "  \n",
        "print(\"Accuracy:\",metrics.accuracy_score(y_test, y_preed))"
      ],
      "metadata": {
        "id": "bX5EdMw-AXHc",
        "colab": {
          "base_uri": "https://localhost:8080/"
        },
        "outputId": "067fdd98-5d93-46b3-ac6f-0038f07a0a60"
      },
      "execution_count": null,
      "outputs": [
        {
          "output_type": "stream",
          "name": "stdout",
          "text": [
            "{'1': [72], '4': [33], '0': [67], '2': [25], '3': [13]}\n",
            "Selecting first maximum accuracy of a decision tree in each cluster:\n",
            "{'1': 72}\n",
            "{'4': 33}\n",
            "{'0': 67}\n",
            "{'2': 25}\n",
            "{'3': 13}\n",
            "[0. 0. 0. 0. 1. 1. 0. 1. 1. 1. 0. 0. 1. 1. 0. 1. 1. 1. 1. 0. 1. 1. 0. 1.\n",
            " 1. 1. 0. 0. 0. 0. 0. 0. 0. 1. 0. 1. 1. 0. 0. 1. 1. 1. 0. 0. 1. 1. 0. 1.\n",
            " 1. 1. 0. 0. 1. 1. 0. 1. 0. 1. 0. 1. 1. 0. 0. 1. 1. 0. 1. 0. 0. 1. 1. 1.\n",
            " 0. 1. 0. 0. 1. 0. 1. 1. 1. 1. 1. 1. 0. 0. 0. 0. 0. 1. 0. 1. 0. 1. 1. 1.\n",
            " 0. 0. 0. 1. 0. 0. 1. 1. 1. 0. 0. 1. 0. 1. 1. 1. 1. 0. 0. 1. 0. 0. 1. 0.\n",
            " 1. 1. 1. 1. 1. 0. 1. 0. 0. 1. 1. 0. 1. 1. 1. 0. 1. 1. 1. 0. 1. 1. 1. 1.\n",
            " 1. 1. 0. 1. 1. 0. 1. 0. 0. 0. 1. 1. 1. 0. 1. 1. 1. 1. 0. 1. 1. 1. 0. 1.\n",
            " 0. 1. 1.]\n",
            "[0. 1. 0. 0. 1. 1. 0. 1. 1. 1. 0. 0. 1. 1. 0. 1. 1. 1. 1. 0. 1. 1. 0. 0.\n",
            " 1. 1. 0. 0. 0. 0. 0. 1. 0. 1. 0. 1. 1. 0. 0. 1. 1. 1. 0. 0. 1. 1. 0. 1.\n",
            " 1. 1. 0. 0. 1. 1. 0. 1. 0. 1. 0. 1. 1. 0. 0. 0. 1. 0. 1. 0. 0. 0. 1. 1.\n",
            " 0. 1. 0. 0. 1. 0. 1. 1. 1. 1. 1. 1. 1. 0. 1. 0. 0. 1. 0. 0. 0. 1. 1. 1.\n",
            " 0. 0. 0. 1. 0. 0. 1. 1. 0. 0. 0. 1. 0. 1. 1. 1. 1. 0. 0. 1. 0. 0. 1. 0.\n",
            " 1. 1. 1. 1. 1. 0. 1. 0. 1. 1. 1. 0. 1. 1. 1. 0. 1. 1. 1. 0. 1. 1. 1. 1.\n",
            " 1. 1. 0. 1. 1. 0. 1. 0. 0. 0. 1. 1. 1. 0. 1. 1. 1. 1. 0. 1. 0. 1. 0. 1.\n",
            " 0. 1. 1.]\n",
            "[0. 0. 0. 0. 1. 1. 0. 1. 1. 1. 0. 0. 1. 1. 0. 1. 1. 1. 1. 1. 1. 1. 0. 1.\n",
            " 1. 1. 0. 0. 0. 0. 0. 1. 0. 1. 0. 1. 1. 0. 0. 1. 1. 1. 0. 0. 1. 1. 1. 1.\n",
            " 1. 1. 0. 0. 1. 1. 0. 1. 0. 1. 0. 0. 1. 0. 0. 1. 1. 0. 0. 0. 0. 0. 1. 1.\n",
            " 0. 1. 0. 0. 1. 0. 1. 1. 1. 1. 1. 1. 0. 0. 1. 0. 0. 1. 0. 0. 0. 1. 1. 1.\n",
            " 0. 0. 0. 1. 0. 0. 1. 1. 0. 0. 0. 1. 0. 1. 1. 1. 1. 0. 0. 1. 0. 0. 1. 0.\n",
            " 1. 1. 1. 1. 1. 0. 1. 0. 1. 1. 1. 0. 1. 1. 1. 0. 1. 1. 1. 0. 1. 1. 1. 1.\n",
            " 1. 1. 0. 1. 1. 0. 1. 0. 0. 0. 1. 1. 1. 0. 1. 1. 1. 1. 0. 1. 0. 1. 1. 1.\n",
            " 0. 1. 1.]\n",
            "[0. 0. 0. 0. 1. 1. 0. 1. 1. 1. 0. 0. 1. 1. 0. 1. 1. 1. 1. 1. 1. 1. 0. 1.\n",
            " 1. 1. 0. 0. 0. 0. 0. 1. 0. 1. 0. 1. 1. 0. 0. 1. 1. 1. 0. 0. 1. 1. 0. 1.\n",
            " 1. 1. 0. 0. 1. 1. 0. 1. 0. 1. 0. 1. 1. 0. 0. 1. 1. 0. 1. 0. 0. 0. 1. 1.\n",
            " 0. 1. 0. 0. 1. 0. 1. 1. 1. 1. 1. 1. 0. 0. 1. 0. 0. 1. 0. 0. 0. 1. 1. 1.\n",
            " 0. 0. 0. 1. 0. 0. 1. 1. 0. 0. 0. 1. 0. 1. 1. 1. 1. 0. 0. 1. 0. 0. 1. 0.\n",
            " 1. 1. 1. 1. 1. 0. 1. 0. 1. 1. 1. 0. 1. 1. 1. 0. 1. 1. 1. 0. 1. 1. 1. 1.\n",
            " 1. 1. 0. 1. 1. 0. 1. 0. 0. 0. 1. 1. 1. 0. 1. 1. 1. 0. 0. 1. 0. 1. 0. 1.\n",
            " 0. 1. 1.]\n",
            "[0. 0. 0. 0. 1. 1. 0. 1. 1. 1. 0. 0. 1. 1. 0. 1. 1. 1. 1. 1. 1. 1. 0. 1.\n",
            " 1. 1. 0. 0. 0. 0. 0. 1. 0. 1. 0. 1. 1. 0. 0. 1. 1. 1. 0. 0. 1. 1. 1. 1.\n",
            " 1. 1. 0. 0. 1. 1. 0. 1. 0. 1. 0. 1. 1. 0. 0. 1. 1. 0. 1. 0. 0. 0. 1. 1.\n",
            " 0. 1. 0. 0. 1. 0. 1. 1. 1. 1. 1. 1. 0. 0. 1. 0. 0. 1. 0. 0. 0. 1. 1. 1.\n",
            " 0. 0. 0. 1. 0. 0. 1. 1. 0. 0. 0. 1. 0. 1. 1. 1. 1. 0. 0. 1. 0. 0. 1. 0.\n",
            " 1. 1. 1. 1. 1. 1. 1. 0. 1. 1. 1. 0. 1. 1. 1. 0. 1. 1. 1. 0. 1. 1. 1. 1.\n",
            " 1. 1. 0. 1. 1. 0. 1. 0. 0. 0. 1. 1. 1. 0. 0. 1. 1. 1. 0. 1. 0. 1. 0. 1.\n",
            " 0. 1. 1.]\n",
            "<class 'list'>\n",
            "final answer =  [0.0, 0.0, 0.0, 0.0, 1.0, 1.0, 0.0, 1.0, 1.0, 1.0, 0.0, 0.0, 1.0, 1.0, 0.0, 1.0, 1.0, 1.0, 1.0, 1.0, 1.0, 1.0, 0.0, 1.0, 1.0, 1.0, 0.0, 0.0, 0.0, 0.0, 0.0, 1.0, 0.0, 1.0, 0.0, 1.0, 1.0, 0.0, 0.0, 1.0, 1.0, 1.0, 0.0, 0.0, 1.0, 1.0, 0.0, 1.0, 1.0, 1.0, 0.0, 0.0, 1.0, 1.0, 0.0, 1.0, 0.0, 1.0, 0.0, 1.0, 1.0, 0.0, 0.0, 1.0, 1.0, 0.0, 1.0, 0.0, 0.0, 0.0, 1.0, 1.0, 0.0, 1.0, 0.0, 0.0, 1.0, 0.0, 1.0, 1.0, 1.0, 1.0, 1.0, 1.0, 0.0, 0.0, 1.0, 0.0, 0.0, 1.0, 0.0, 0.0, 0.0, 1.0, 1.0, 1.0, 0.0, 0.0, 0.0, 1.0, 0.0, 0.0, 1.0, 1.0, 0.0, 0.0, 0.0, 1.0, 0.0, 1.0, 1.0, 1.0, 1.0, 0.0, 0.0, 1.0, 0.0, 0.0, 1.0, 0.0, 1.0, 1.0, 1.0, 1.0, 1.0, 0.0, 1.0, 0.0, 1.0, 1.0, 1.0, 0.0, 1.0, 1.0, 1.0, 0.0, 1.0, 1.0, 1.0, 0.0, 1.0, 1.0, 1.0, 1.0, 1.0, 1.0, 0.0, 1.0, 1.0, 0.0, 1.0, 0.0, 0.0, 0.0, 1.0, 1.0, 1.0, 0.0, 1.0, 1.0, 1.0, 1.0, 0.0, 1.0, 0.0, 1.0, 0.0, 1.0, 0.0, 1.0, 1.0]\n",
            "[0 0 0 0 1 1 0 1 1 1 0 0 1 1 0 1 1 1 1 1 1 1 0 1 1 1 0 0 0 0 0 1 0 1 0 1 1\n",
            " 0 0 1 1 1 0 0 1 1 1 1 1 1 0 0 1 1 0 1 0 1 0 1 1 0 0 1 1 0 1 0 0 0 1 1 0 1\n",
            " 0 0 1 0 1 1 1 1 1 1 0 0 1 0 0 1 0 0 0 1 1 1 0 0 0 1 0 0 1 1 0 0 0 1 0 1 1\n",
            " 1 1 0 0 1 0 0 1 0 1 1 1 1 1 0 1 0 1 1 1 0 1 1 1 0 1 1 1 0 1 1 1 1 1 1 0 1\n",
            " 1 0 1 0 0 0 1 1 1 0 1 1 1 1 0 1 0 1 0 1 0 1 1]\n",
            "Accuracy: 0.9941520467836257\n"
          ]
        }
      ]
    },
    {
      "cell_type": "markdown",
      "source": [
        "sample->output(class label)\n",
        "\n",
        "list of samples(vectors)->list of classes-predicted ones\n",
        "\n",
        "actual values->target \n",
        "\n",
        "compare(target,predicted)->accuracy\n",
        "\n",
        "compare the accuracy of 100 trees using random forest and the accuracy of 6 trees formed in the end\n",
        "\n",
        "aprt from accuracy, most seperated distance between two decision trees in each cluster"
      ],
      "metadata": {
        "id": "fzXC7mFilL-B"
      }
    },
    {
      "cell_type": "code",
      "execution_count": null,
      "metadata": {
        "id": "SMnACRQnjXhJ",
        "colab": {
          "base_uri": "https://localhost:8080/"
        },
        "outputId": "1a47e07f-f228-486d-9f7d-8891201fabe3"
      },
      "outputs": [
        {
          "output_type": "execute_result",
          "data": {
            "text/plain": [
              "{0: {'accuracy': 0.9385343890700202, 'cluster_idx': 4},\n",
              " 1: {'accuracy': 0.9296693060083838, 'cluster_idx': 0},\n",
              " 2: {'accuracy': 0.9226362366092221, 'cluster_idx': 4},\n",
              " 3: {'accuracy': 0.9156342182890856, 'cluster_idx': 3},\n",
              " 4: {'accuracy': 0.9244527247321844, 'cluster_idx': 4},\n",
              " 5: {'accuracy': 0.9261915851575843, 'cluster_idx': 3},\n",
              " 6: {'accuracy': 0.9174041297935103, 'cluster_idx': 4},\n",
              " 7: {'accuracy': 0.9156342182890856, 'cluster_idx': 4},\n",
              " 8: {'accuracy': 0.9349479894426331, 'cluster_idx': 1},\n",
              " 9: {'accuracy': 0.924437199192672, 'cluster_idx': 3},\n",
              " 10: {'accuracy': 0.9262226362366093, 'cluster_idx': 4},\n",
              " 11: {'accuracy': 0.9543083372147182, 'cluster_idx': 1},\n",
              " 12: {'accuracy': 0.933224654556746, 'cluster_idx': 3},\n",
              " 13: {'accuracy': 0.9332557056357709, 'cluster_idx': 4},\n",
              " 14: {'accuracy': 0.9296848315478963, 'cluster_idx': 0},\n",
              " 15: {'accuracy': 0.9174507064120478, 'cluster_idx': 4},\n",
              " 16: {'accuracy': 0.9261139574600218, 'cluster_idx': 4},\n",
              " 17: {'accuracy': 0.9367023754075454, 'cluster_idx': 4},\n",
              " 18: {'accuracy': 0.9156963204471357, 'cluster_idx': 4},\n",
              " 19: {'accuracy': 0.935010091600683, 'cluster_idx': 0},\n",
              " 20: {'accuracy': 0.9262381617761217, 'cluster_idx': 1},\n",
              " 21: {'accuracy': 0.9332246545567457, 'cluster_idx': 0},\n",
              " 22: {'accuracy': 0.9262071106970966, 'cluster_idx': 4},\n",
              " 23: {'accuracy': 0.9208973761838225, 'cluster_idx': 2},\n",
              " 24: {'accuracy': 0.9138643067846608, 'cluster_idx': 3},\n",
              " 25: {'accuracy': 0.9402887750349326, 'cluster_idx': 1},\n",
              " 26: {'accuracy': 0.9296382549293588, 'cluster_idx': 1},\n",
              " 27: {'accuracy': 0.9191429902189101, 'cluster_idx': 2},\n",
              " 28: {'accuracy': 0.9297003570874087, 'cluster_idx': 3},\n",
              " 29: {'accuracy': 0.9244527247321844, 'cluster_idx': 4},\n",
              " 30: {'accuracy': 0.9033535165346995, 'cluster_idx': 4},\n",
              " 31: {'accuracy': 0.9262536873156341, 'cluster_idx': 1},\n",
              " 32: {'accuracy': 0.9104021114733737, 'cluster_idx': 2},\n",
              " 33: {'accuracy': 0.9385033379909953, 'cluster_idx': 1},\n",
              " 34: {'accuracy': 0.9349479894426331, 'cluster_idx': 4},\n",
              " 35: {'accuracy': 0.9226828132277596, 'cluster_idx': 0},\n",
              " 36: {'accuracy': 0.9349324639031206, 'cluster_idx': 4},\n",
              " 37: {'accuracy': 0.9402577239559073, 'cluster_idx': 0},\n",
              " 38: {'accuracy': 0.9296537804688713, 'cluster_idx': 1},\n",
              " 39: {'accuracy': 0.9279459711224964, 'cluster_idx': 2},\n",
              " 40: {'accuracy': 0.9331625523986957, 'cluster_idx': 4},\n",
              " 41: {'accuracy': 0.9226983387672721, 'cluster_idx': 3},\n",
              " 42: {'accuracy': 0.9138643067846607, 'cluster_idx': 0},\n",
              " 43: {'accuracy': 0.9104176370128861, 'cluster_idx': 2},\n",
              " 44: {'accuracy': 0.9280235988200589, 'cluster_idx': 4},\n",
              " 45: {'accuracy': 0.919174041297935, 'cluster_idx': 4},\n",
              " 46: {'accuracy': 0.9227138643067846, 'cluster_idx': 4},\n",
              " 47: {'accuracy': 0.912125446359261, 'cluster_idx': 3},\n",
              " 48: {'accuracy': 0.8980903586399629, 'cluster_idx': 4},\n",
              " 49: {'accuracy': 0.915649743828598, 'cluster_idx': 1},\n",
              " 50: {'accuracy': 0.9191585157584227, 'cluster_idx': 4},\n",
              " 51: {'accuracy': 0.9191274646793974, 'cluster_idx': 2},\n",
              " 52: {'accuracy': 0.9209129017233348, 'cluster_idx': 4},\n",
              " 53: {'accuracy': 0.9331625523986959, 'cluster_idx': 4},\n",
              " 54: {'accuracy': 0.9332557056357709, 'cluster_idx': 2},\n",
              " 55: {'accuracy': 0.9226828132277596, 'cluster_idx': 3},\n",
              " 56: {'accuracy': 0.912187548517311, 'cluster_idx': 2},\n",
              " 57: {'accuracy': 0.9279925477410339, 'cluster_idx': 2},\n",
              " 58: {'accuracy': 0.9279925477410339, 'cluster_idx': 1},\n",
              " 59: {'accuracy': 0.9262226362366093, 'cluster_idx': 4},\n",
              " 60: {'accuracy': 0.9191585157584227, 'cluster_idx': 0},\n",
              " 61: {'accuracy': 0.9384722869119703, 'cluster_idx': 4},\n",
              " 62: {'accuracy': 0.9297158826269213, 'cluster_idx': 4},\n",
              " 63: {'accuracy': 0.9139419344822233, 'cluster_idx': 4},\n",
              " 64: {'accuracy': 0.9262071106970966, 'cluster_idx': 2},\n",
              " 65: {'accuracy': 0.9384722869119703, 'cluster_idx': 4},\n",
              " 66: {'accuracy': 0.9191585157584224, 'cluster_idx': 2},\n",
              " 67: {'accuracy': 0.9297158826269213, 'cluster_idx': 3},\n",
              " 68: {'accuracy': 0.9086011488899238, 'cluster_idx': 1},\n",
              " 69: {'accuracy': 0.933224654556746, 'cluster_idx': 3},\n",
              " 70: {'accuracy': 0.9332091290172334, 'cluster_idx': 2},\n",
              " 71: {'accuracy': 0.9437509703462196, 'cluster_idx': 0},\n",
              " 72: {'accuracy': 0.9139108834031984, 'cluster_idx': 3},\n",
              " 73: {'accuracy': 0.9138487812451481, 'cluster_idx': 4},\n",
              " 74: {'accuracy': 0.9261605340785592, 'cluster_idx': 4},\n",
              " 75: {'accuracy': 0.9297158826269213, 'cluster_idx': 4},\n",
              " 76: {'accuracy': 0.9385343890700202, 'cluster_idx': 4},\n",
              " 77: {'accuracy': 0.9279925477410339, 'cluster_idx': 3},\n",
              " 78: {'accuracy': 0.9473218444340941, 'cluster_idx': 1},\n",
              " 79: {'accuracy': 0.9067846607669615, 'cluster_idx': 4},\n",
              " 80: {'accuracy': 0.9279614966620091, 'cluster_idx': 0},\n",
              " 81: {'accuracy': 0.9279770222015215, 'cluster_idx': 1},\n",
              " 82: {'accuracy': 0.9244527247321844, 'cluster_idx': 0},\n",
              " 83: {'accuracy': 0.9208973761838225, 'cluster_idx': 4},\n",
              " 84: {'accuracy': 0.9297314081664337, 'cluster_idx': 3},\n",
              " 85: {'accuracy': 0.9174662319515603, 'cluster_idx': 1},\n",
              " 86: {'accuracy': 0.9385188635305075, 'cluster_idx': 1},\n",
              " 87: {'accuracy': 0.9296537804688713, 'cluster_idx': 4},\n",
              " 88: {'accuracy': 0.9332557056357708, 'cluster_idx': 0},\n",
              " 89: {'accuracy': 0.9139419344822233, 'cluster_idx': 4},\n",
              " 90: {'accuracy': 0.9297158826269213, 'cluster_idx': 4},\n",
              " 91: {'accuracy': 0.915618692749573, 'cluster_idx': 2},\n",
              " 92: {'accuracy': 0.9262226362366093, 'cluster_idx': 4},\n",
              " 93: {'accuracy': 0.9402732494954199, 'cluster_idx': 0},\n",
              " 94: {'accuracy': 0.9332401800962582, 'cluster_idx': 0},\n",
              " 95: {'accuracy': 0.9191585157584224, 'cluster_idx': 4},\n",
              " 96: {'accuracy': 0.9209594783418724, 'cluster_idx': 1},\n",
              " 97: {'accuracy': 0.9403043005744449, 'cluster_idx': 4},\n",
              " 98: {'accuracy': 0.927899394503959, 'cluster_idx': 1},\n",
              " 99: {'accuracy': 0.9138798323241734, 'cluster_idx': 0}}"
            ]
          },
          "metadata": {},
          "execution_count": 19
        }
      ],
      "source": [
        "prf2.info"
      ]
    },
    {
      "cell_type": "code",
      "source": [
        "#agglo\n",
        "getMaxAccuracyCluster(prf2.info)"
      ],
      "metadata": {
        "id": "jhUn1XQrixZ8",
        "colab": {
          "base_uri": "https://localhost:8080/"
        },
        "outputId": "fa6dff98-584d-44dc-e731-c3523678e9b7"
      },
      "execution_count": null,
      "outputs": [
        {
          "output_type": "stream",
          "name": "stdout",
          "text": [
            "{'4': [97], '0': [71], '3': [12, 69], '1': [11], '2': [54]}\n",
            "Selecting first maximum accuracy of a decision tree in each cluster:\n",
            "{'4': 97}\n",
            "{'0': 71}\n",
            "{'3': 12}\n",
            "{'1': 11}\n",
            "{'2': 54}\n"
          ]
        },
        {
          "output_type": "execute_result",
          "data": {
            "text/plain": [
              "{'0': [71], '1': [11], '2': [54], '3': [12, 69], '4': [97]}"
            ]
          },
          "metadata": {},
          "execution_count": 20
        }
      ]
    },
    {
      "cell_type": "code",
      "source": [
        "treeList = getTreeList(X, getMaxAccuracyCluster(prf2.info))\n",
        "\n",
        "y_preed = predict(X_test, treeList, prf2)\n",
        "\n",
        "print(\"final answer = \", y_preed)\n",
        "print(y_test)\n",
        "  \n",
        "print(\"Accuracy:\",metrics.accuracy_score(y_test, y_preed))"
      ],
      "metadata": {
        "colab": {
          "base_uri": "https://localhost:8080/"
        },
        "id": "mfW-cEyypXHa",
        "outputId": "ac1cfa42-8508-45d8-8335-1a3e3a23e900"
      },
      "execution_count": null,
      "outputs": [
        {
          "output_type": "stream",
          "name": "stdout",
          "text": [
            "{'4': [97], '0': [71], '3': [12, 69], '1': [11], '2': [54]}\n",
            "Selecting first maximum accuracy of a decision tree in each cluster:\n",
            "{'4': 97}\n",
            "{'0': 71}\n",
            "{'3': 12}\n",
            "{'1': 11}\n",
            "{'2': 54}\n",
            "[0. 0. 0. 0. 1. 1. 0. 1. 1. 1. 0. 0. 1. 1. 0. 1. 1. 1. 1. 1. 1. 1. 0. 1.\n",
            " 1. 1. 0. 0. 0. 0. 0. 1. 0. 1. 0. 1. 1. 0. 0. 1. 1. 1. 0. 0. 1. 1. 1. 1.\n",
            " 1. 1. 0. 0. 1. 1. 0. 1. 0. 1. 0. 1. 1. 0. 0. 1. 1. 0. 1. 0. 0. 0. 1. 1.\n",
            " 0. 1. 0. 0. 1. 0. 1. 1. 1. 1. 1. 1. 0. 0. 1. 0. 0. 1. 0. 0. 0. 1. 1. 1.\n",
            " 1. 0. 0. 1. 0. 0. 1. 1. 0. 0. 0. 1. 0. 1. 1. 1. 1. 0. 0. 1. 0. 0. 1. 0.\n",
            " 1. 1. 1. 1. 1. 0. 1. 0. 1. 1. 1. 1. 1. 1. 1. 0. 1. 1. 1. 0. 1. 1. 1. 1.\n",
            " 1. 1. 0. 1. 1. 0. 1. 0. 0. 0. 1. 1. 1. 0. 1. 1. 1. 0. 0. 1. 1. 1. 0. 1.\n",
            " 0. 1. 1.]\n",
            "[0. 0. 0. 0. 1. 1. 0. 1. 1. 1. 0. 0. 1. 1. 0. 1. 1. 1. 1. 1. 1. 1. 0. 1.\n",
            " 1. 1. 0. 0. 0. 0. 0. 0. 0. 1. 1. 1. 1. 0. 0. 1. 1. 1. 0. 0. 1. 1. 1. 1.\n",
            " 1. 1. 0. 0. 1. 1. 0. 1. 0. 1. 1. 1. 1. 0. 0. 1. 1. 0. 1. 0. 0. 0. 1. 1.\n",
            " 0. 1. 0. 0. 1. 0. 1. 1. 1. 1. 1. 1. 1. 0. 1. 0. 0. 1. 0. 0. 0. 1. 1. 1.\n",
            " 0. 0. 0. 1. 0. 0. 1. 1. 0. 0. 0. 1. 0. 1. 1. 1. 1. 0. 0. 1. 0. 0. 1. 0.\n",
            " 1. 1. 1. 1. 1. 0. 1. 0. 1. 1. 1. 0. 1. 1. 1. 0. 1. 1. 1. 0. 1. 1. 1. 1.\n",
            " 1. 1. 0. 1. 1. 0. 1. 0. 0. 0. 1. 1. 1. 0. 0. 1. 1. 1. 0. 1. 0. 1. 0. 1.\n",
            " 0. 1. 1.]\n",
            "[0. 0. 0. 0. 1. 1. 0. 1. 1. 1. 1. 0. 1. 1. 0. 1. 1. 1. 1. 1. 1. 1. 0. 1.\n",
            " 1. 1. 0. 0. 0. 0. 0. 1. 0. 1. 1. 1. 1. 0. 0. 1. 1. 1. 0. 0. 1. 1. 1. 1.\n",
            " 1. 1. 0. 0. 1. 1. 0. 1. 0. 1. 0. 1. 1. 0. 0. 1. 1. 0. 1. 0. 0. 0. 1. 1.\n",
            " 0. 1. 0. 0. 1. 0. 1. 1. 1. 1. 1. 1. 0. 0. 1. 1. 0. 1. 0. 0. 0. 1. 1. 1.\n",
            " 0. 0. 0. 1. 0. 0. 1. 1. 0. 0. 0. 1. 0. 1. 1. 1. 1. 0. 0. 1. 0. 0. 1. 0.\n",
            " 1. 1. 1. 1. 1. 0. 1. 0. 1. 1. 1. 0. 1. 1. 1. 0. 1. 1. 1. 0. 1. 1. 1. 1.\n",
            " 1. 1. 0. 1. 1. 0. 1. 0. 0. 0. 1. 1. 1. 0. 1. 1. 1. 1. 0. 1. 1. 1. 0. 1.\n",
            " 0. 1. 1.]\n",
            "[0. 0. 0. 0. 1. 1. 0. 1. 1. 1. 0. 0. 1. 1. 0. 1. 0. 1. 1. 1. 1. 1. 0. 1.\n",
            " 1. 1. 0. 0. 0. 0. 0. 1. 0. 1. 0. 1. 1. 0. 0. 1. 1. 1. 0. 0. 1. 1. 1. 1.\n",
            " 1. 1. 0. 0. 1. 1. 0. 1. 0. 1. 0. 1. 1. 0. 0. 1. 1. 0. 1. 0. 0. 0. 1. 1.\n",
            " 0. 1. 0. 0. 1. 0. 1. 1. 1. 1. 1. 1. 0. 0. 1. 0. 0. 1. 0. 0. 0. 1. 1. 1.\n",
            " 0. 0. 0. 1. 0. 0. 1. 1. 0. 0. 0. 1. 0. 1. 1. 1. 0. 0. 0. 1. 0. 0. 1. 0.\n",
            " 1. 1. 1. 1. 1. 1. 1. 0. 1. 1. 1. 0. 1. 1. 1. 0. 1. 1. 0. 0. 1. 1. 1. 1.\n",
            " 1. 1. 0. 1. 1. 0. 1. 0. 0. 0. 1. 1. 1. 0. 1. 1. 1. 1. 0. 1. 0. 1. 1. 1.\n",
            " 0. 1. 1.]\n",
            "[0. 0. 0. 0. 1. 0. 0. 1. 1. 1. 0. 0. 1. 1. 0. 1. 1. 1. 1. 1. 1. 1. 0. 1.\n",
            " 1. 1. 0. 0. 0. 0. 0. 1. 0. 1. 0. 1. 1. 0. 0. 1. 1. 1. 0. 0. 1. 1. 1. 1.\n",
            " 1. 1. 0. 0. 1. 1. 0. 1. 0. 1. 0. 1. 1. 0. 0. 1. 1. 0. 1. 0. 0. 0. 0. 1.\n",
            " 0. 1. 0. 0. 1. 1. 1. 1. 1. 1. 1. 1. 0. 1. 1. 0. 0. 1. 0. 0. 0. 1. 1. 1.\n",
            " 0. 0. 0. 1. 0. 0. 1. 1. 0. 0. 0. 1. 0. 1. 1. 1. 1. 0. 0. 1. 0. 0. 1. 0.\n",
            " 1. 1. 1. 1. 1. 0. 1. 0. 0. 1. 1. 1. 1. 1. 1. 0. 1. 1. 1. 0. 1. 1. 1. 1.\n",
            " 1. 1. 0. 1. 1. 0. 1. 0. 0. 0. 1. 1. 1. 0. 1. 1. 1. 0. 0. 1. 0. 1. 0. 1.\n",
            " 0. 1. 1.]\n",
            "<class 'list'>\n",
            "final answer =  [0.0, 0.0, 0.0, 0.0, 1.0, 1.0, 0.0, 1.0, 1.0, 1.0, 0.0, 0.0, 1.0, 1.0, 0.0, 1.0, 1.0, 1.0, 1.0, 1.0, 1.0, 1.0, 0.0, 1.0, 1.0, 1.0, 0.0, 0.0, 0.0, 0.0, 0.0, 1.0, 0.0, 1.0, 0.0, 1.0, 1.0, 0.0, 0.0, 1.0, 1.0, 1.0, 0.0, 0.0, 1.0, 1.0, 1.0, 1.0, 1.0, 1.0, 0.0, 0.0, 1.0, 1.0, 0.0, 1.0, 0.0, 1.0, 0.0, 1.0, 1.0, 0.0, 0.0, 1.0, 1.0, 0.0, 1.0, 0.0, 0.0, 0.0, 1.0, 1.0, 0.0, 1.0, 0.0, 0.0, 1.0, 0.0, 1.0, 1.0, 1.0, 1.0, 1.0, 1.0, 0.0, 0.0, 1.0, 0.0, 0.0, 1.0, 0.0, 0.0, 0.0, 1.0, 1.0, 1.0, 0.0, 0.0, 0.0, 1.0, 0.0, 0.0, 1.0, 1.0, 0.0, 0.0, 0.0, 1.0, 0.0, 1.0, 1.0, 1.0, 1.0, 0.0, 0.0, 1.0, 0.0, 0.0, 1.0, 0.0, 1.0, 1.0, 1.0, 1.0, 1.0, 0.0, 1.0, 0.0, 1.0, 1.0, 1.0, 0.0, 1.0, 1.0, 1.0, 0.0, 1.0, 1.0, 1.0, 0.0, 1.0, 1.0, 1.0, 1.0, 1.0, 1.0, 0.0, 1.0, 1.0, 0.0, 1.0, 0.0, 0.0, 0.0, 1.0, 1.0, 1.0, 0.0, 1.0, 1.0, 1.0, 1.0, 0.0, 1.0, 0.0, 1.0, 0.0, 1.0, 0.0, 1.0, 1.0]\n",
            "[0 0 0 0 1 1 0 1 1 1 0 0 1 1 0 1 1 1 1 1 1 1 0 1 1 1 0 0 0 0 0 1 0 1 0 1 1\n",
            " 0 0 1 1 1 0 0 1 1 1 1 1 1 0 0 1 1 0 1 0 1 0 1 1 0 0 1 1 0 1 0 0 0 1 1 0 1\n",
            " 0 0 1 0 1 1 1 1 1 1 0 0 1 0 0 1 0 0 0 1 1 1 0 0 0 1 0 0 1 1 0 0 0 1 0 1 1\n",
            " 1 1 0 0 1 0 0 1 0 1 1 1 1 1 0 1 0 1 1 1 0 1 1 1 0 1 1 1 0 1 1 1 1 1 1 0 1\n",
            " 1 0 1 0 0 0 1 1 1 0 1 1 1 1 0 1 0 1 0 1 0 1 1]\n",
            "Accuracy: 1.0\n"
          ]
        }
      ]
    },
    {
      "cell_type": "code",
      "execution_count": null,
      "metadata": {
        "id": "OeWPHBJSjZND",
        "colab": {
          "base_uri": "https://localhost:8080/"
        },
        "outputId": "73a2b8e4-2c76-4a82-df44-7ef1c5b6c846"
      },
      "outputs": [
        {
          "output_type": "execute_result",
          "data": {
            "text/plain": [
              "{0: {'accuracy': 0.9280080732805466, 'cluster_idx': 0},\n",
              " 1: {'accuracy': 0.9173420276354604, 'cluster_idx': 4},\n",
              " 2: {'accuracy': 0.9367800031051079, 'cluster_idx': 2},\n",
              " 3: {'accuracy': 0.9385033379909953, 'cluster_idx': 4},\n",
              " 4: {'accuracy': 0.9349945660611707, 'cluster_idx': 1},\n",
              " 5: {'accuracy': 0.936686849868033, 'cluster_idx': 2},\n",
              " 6: {'accuracy': 0.9192050923769601, 'cluster_idx': 2},\n",
              " 7: {'accuracy': 0.9209284272628473, 'cluster_idx': 4},\n",
              " 8: {'accuracy': 0.9385499146095325, 'cluster_idx': 0},\n",
              " 9: {'accuracy': 0.9209284272628473, 'cluster_idx': 1},\n",
              " 10: {'accuracy': 0.9156342182890856, 'cluster_idx': 3},\n",
              " 11: {'accuracy': 0.9156652693681104, 'cluster_idx': 4},\n",
              " 12: {'accuracy': 0.9367489520260829, 'cluster_idx': 3},\n",
              " 13: {'accuracy': 0.9174662319515603, 'cluster_idx': 3},\n",
              " 14: {'accuracy': 0.9455829840086942, 'cluster_idx': 4},\n",
              " 15: {'accuracy': 0.9121720229777985, 'cluster_idx': 2},\n",
              " 16: {'accuracy': 0.9367023754075454, 'cluster_idx': 4},\n",
              " 17: {'accuracy': 0.9507995652848935, 'cluster_idx': 0},\n",
              " 18: {'accuracy': 0.9138177301661233, 'cluster_idx': 4},\n",
              " 19: {'accuracy': 0.9507840397453812, 'cluster_idx': 0},\n",
              " 20: {'accuracy': 0.9121409718987733, 'cluster_idx': 0},\n",
              " 21: {'accuracy': 0.9279614966620089, 'cluster_idx': 4},\n",
              " 22: {'accuracy': 0.9227138643067846, 'cluster_idx': 4},\n",
              " 23: {'accuracy': 0.9367489520260829, 'cluster_idx': 1},\n",
              " 24: {'accuracy': 0.9262071106970968, 'cluster_idx': 3},\n",
              " 25: {'accuracy': 0.9138953578636857, 'cluster_idx': 4},\n",
              " 26: {'accuracy': 0.92094395280236, 'cluster_idx': 1},\n",
              " 27: {'accuracy': 0.9192206179164725, 'cluster_idx': 1},\n",
              " 28: {'accuracy': 0.935010091600683, 'cluster_idx': 0},\n",
              " 29: {'accuracy': 0.9209594783418724, 'cluster_idx': 4},\n",
              " 30: {'accuracy': 0.9314857941313461, 'cluster_idx': 4},\n",
              " 31: {'accuracy': 0.9279149200434714, 'cluster_idx': 3},\n",
              " 32: {'accuracy': 0.9278838689644464, 'cluster_idx': 4},\n",
              " 33: {'accuracy': 0.9314702685918336, 'cluster_idx': 2},\n",
              " 34: {'accuracy': 0.934979040521658, 'cluster_idx': 4},\n",
              " 35: {'accuracy': 0.935010091600683, 'cluster_idx': 4},\n",
              " 36: {'accuracy': 0.915680794907623, 'cluster_idx': 0},\n",
              " 37: {'accuracy': 0.9209594783418724, 'cluster_idx': 1},\n",
              " 38: {'accuracy': 0.9262226362366093, 'cluster_idx': 4},\n",
              " 39: {'accuracy': 0.9226362366092221, 'cluster_idx': 4},\n",
              " 40: {'accuracy': 0.9191895668374477, 'cluster_idx': 3},\n",
              " 41: {'accuracy': 0.9280235988200589, 'cluster_idx': 2},\n",
              " 42: {'accuracy': 0.9332557056357709, 'cluster_idx': 0},\n",
              " 43: {'accuracy': 0.9332091290172333, 'cluster_idx': 4},\n",
              " 44: {'accuracy': 0.9191895668374477, 'cluster_idx': 3},\n",
              " 45: {'accuracy': 0.9138332557056359, 'cluster_idx': 4},\n",
              " 46: {'accuracy': 0.9191585157584224, 'cluster_idx': 2},\n",
              " 47: {'accuracy': 0.9085545722713864, 'cluster_idx': 4},\n",
              " 48: {'accuracy': 0.927930445582984, 'cluster_idx': 4},\n",
              " 49: {'accuracy': 0.915680794907623, 'cluster_idx': 1},\n",
              " 50: {'accuracy': 0.9208973761838223, 'cluster_idx': 4},\n",
              " 51: {'accuracy': 0.9296693060083838, 'cluster_idx': 1},\n",
              " 52: {'accuracy': 0.9402577239559076, 'cluster_idx': 2},\n",
              " 53: {'accuracy': 0.9314702685918336, 'cluster_idx': 3},\n",
              " 54: {'accuracy': 0.929684831547896, 'cluster_idx': 4},\n",
              " 55: {'accuracy': 0.9138643067846607, 'cluster_idx': 4},\n",
              " 56: {'accuracy': 0.9192361434559849, 'cluster_idx': 1},\n",
              " 57: {'accuracy': 0.9209284272628473, 'cluster_idx': 4},\n",
              " 58: {'accuracy': 0.9367334264865704, 'cluster_idx': 4},\n",
              " 59: {'accuracy': 0.9226983387672721, 'cluster_idx': 3},\n",
              " 60: {'accuracy': 0.9226672876882471, 'cluster_idx': 4},\n",
              " 61: {'accuracy': 0.9156342182890856, 'cluster_idx': 0},\n",
              " 62: {'accuracy': 0.9173575531749728, 'cluster_idx': 4},\n",
              " 63: {'accuracy': 0.9366713243285204, 'cluster_idx': 0},\n",
              " 64: {'accuracy': 0.9297469337059463, 'cluster_idx': 4},\n",
              " 65: {'accuracy': 0.9086477255084615, 'cluster_idx': 4},\n",
              " 66: {'accuracy': 0.9069088650830617, 'cluster_idx': 4},\n",
              " 67: {'accuracy': 0.9314702685918336, 'cluster_idx': 3},\n",
              " 68: {'accuracy': 0.9332401800962584, 'cluster_idx': 4},\n",
              " 69: {'accuracy': 0.9121720229777985, 'cluster_idx': 4},\n",
              " 70: {'accuracy': 0.9191895668374477, 'cluster_idx': 4},\n",
              " 71: {'accuracy': 0.9297314081664337, 'cluster_idx': 2},\n",
              " 72: {'accuracy': 0.9314547430523211, 'cluster_idx': 4},\n",
              " 73: {'accuracy': 0.9297469337059463, 'cluster_idx': 4},\n",
              " 74: {'accuracy': 0.906893339543549, 'cluster_idx': 1},\n",
              " 75: {'accuracy': 0.9455519329296692, 'cluster_idx': 3},\n",
              " 76: {'accuracy': 0.9262536873156343, 'cluster_idx': 3},\n",
              " 77: {'accuracy': 0.9244993013507219, 'cluster_idx': 0},\n",
              " 78: {'accuracy': 0.9402421984163949, 'cluster_idx': 2},\n",
              " 79: {'accuracy': 0.9350411426797081, 'cluster_idx': 3},\n",
              " 80: {'accuracy': 0.9315168452103709, 'cluster_idx': 4},\n",
              " 81: {'accuracy': 0.9420276354603322, 'cluster_idx': 4},\n",
              " 82: {'accuracy': 0.9332712311752834, 'cluster_idx': 4},\n",
              " 83: {'accuracy': 0.9314547430523211, 'cluster_idx': 3},\n",
              " 84: {'accuracy': 0.9262071106970968, 'cluster_idx': 4},\n",
              " 85: {'accuracy': 0.9350411426797081, 'cluster_idx': 2},\n",
              " 86: {'accuracy': 0.9262071106970966, 'cluster_idx': 4},\n",
              " 87: {'accuracy': 0.9349324639031206, 'cluster_idx': 4},\n",
              " 88: {'accuracy': 0.9332867567147958, 'cluster_idx': 0},\n",
              " 89: {'accuracy': 0.9314857941313461, 'cluster_idx': 4},\n",
              " 90: {'accuracy': 0.9296382549293588, 'cluster_idx': 3},\n",
              " 91: {'accuracy': 0.9437820214252446, 'cluster_idx': 4},\n",
              " 92: {'accuracy': 0.9279614966620091, 'cluster_idx': 4},\n",
              " 93: {'accuracy': 0.9420586865393572, 'cluster_idx': 4},\n",
              " 94: {'accuracy': 0.9156342182890856, 'cluster_idx': 1},\n",
              " 95: {'accuracy': 0.9209284272628473, 'cluster_idx': 2},\n",
              " 96: {'accuracy': 0.9262536873156343, 'cluster_idx': 0},\n",
              " 97: {'accuracy': 0.9226828132277596, 'cluster_idx': 4},\n",
              " 98: {'accuracy': 0.9385188635305077, 'cluster_idx': 0},\n",
              " 99: {'accuracy': 0.9050768514205869, 'cluster_idx': 1}}"
            ]
          },
          "metadata": {},
          "execution_count": 22
        }
      ],
      "source": [
        "prf3.info"
      ]
    },
    {
      "cell_type": "code",
      "source": [
        "#gaussian\n",
        "getMaxAccuracyCluster(prf3.info)"
      ],
      "metadata": {
        "id": "CS_NFfLxjuka",
        "colab": {
          "base_uri": "https://localhost:8080/"
        },
        "outputId": "10366d6a-8eb8-4baf-df35-ee30501d208d"
      },
      "execution_count": null,
      "outputs": [
        {
          "output_type": "stream",
          "name": "stdout",
          "text": [
            "{'0': [17], '4': [14], '2': [52], '1': [23], '3': [75]}\n",
            "Selecting first maximum accuracy of a decision tree in each cluster:\n",
            "{'0': 17}\n",
            "{'4': 14}\n",
            "{'2': 52}\n",
            "{'1': 23}\n",
            "{'3': 75}\n"
          ]
        },
        {
          "output_type": "execute_result",
          "data": {
            "text/plain": [
              "{'0': [17], '1': [23], '2': [52], '3': [75], '4': [14]}"
            ]
          },
          "metadata": {},
          "execution_count": 23
        }
      ]
    },
    {
      "cell_type": "code",
      "source": [
        "treeList = getTreeList(X, getMaxAccuracyCluster(prf3.info))\n",
        "\n",
        "y_preed = predict(X_test, treeList, prf3)\n",
        "\n",
        "print(\"final answer = \", y_preed)\n",
        "print(y_test)\n",
        "  \n",
        "print(\"Accuracy:\",metrics.accuracy_score(y_test, y_preed))"
      ],
      "metadata": {
        "colab": {
          "base_uri": "https://localhost:8080/"
        },
        "id": "EwdUtiQNpfoi",
        "outputId": "60695342-8cca-486b-a305-c2221e365148"
      },
      "execution_count": null,
      "outputs": [
        {
          "output_type": "stream",
          "name": "stdout",
          "text": [
            "{'0': [17], '4': [14], '2': [52], '1': [23], '3': [75]}\n",
            "Selecting first maximum accuracy of a decision tree in each cluster:\n",
            "{'0': 17}\n",
            "{'4': 14}\n",
            "{'2': 52}\n",
            "{'1': 23}\n",
            "{'3': 75}\n",
            "[0. 0. 0. 0. 1. 1. 0. 1. 1. 1. 0. 0. 1. 1. 0. 1. 1. 1. 1. 1. 1. 1. 0. 1.\n",
            " 1. 1. 0. 0. 0. 0. 0. 1. 0. 1. 1. 1. 1. 0. 0. 1. 1. 1. 0. 0. 1. 1. 1. 1.\n",
            " 1. 1. 0. 0. 1. 1. 0. 1. 0. 1. 0. 1. 1. 0. 0. 1. 1. 0. 1. 0. 0. 0. 1. 1.\n",
            " 0. 1. 0. 0. 1. 0. 1. 1. 1. 1. 1. 1. 0. 0. 1. 0. 0. 1. 0. 0. 0. 1. 1. 1.\n",
            " 0. 0. 0. 1. 0. 0. 1. 1. 0. 0. 0. 1. 0. 1. 1. 1. 1. 0. 0. 1. 0. 0. 1. 0.\n",
            " 1. 1. 1. 1. 1. 0. 1. 0. 1. 1. 1. 0. 1. 1. 1. 0. 1. 1. 1. 0. 1. 1. 1. 1.\n",
            " 1. 1. 0. 1. 1. 0. 1. 0. 0. 0. 1. 1. 1. 0. 1. 1. 1. 0. 0. 1. 0. 1. 0. 1.\n",
            " 0. 1. 1.]\n",
            "[0. 0. 0. 0. 1. 1. 0. 1. 1. 1. 1. 0. 1. 1. 0. 1. 1. 1. 1. 1. 1. 1. 0. 1.\n",
            " 1. 1. 0. 0. 0. 0. 0. 1. 0. 1. 0. 1. 1. 0. 0. 1. 1. 1. 0. 0. 1. 1. 1. 1.\n",
            " 1. 1. 0. 0. 1. 1. 0. 1. 0. 1. 0. 1. 1. 0. 0. 1. 1. 0. 1. 0. 0. 0. 1. 1.\n",
            " 0. 1. 0. 0. 1. 0. 1. 1. 1. 1. 1. 1. 0. 0. 1. 0. 0. 1. 0. 0. 0. 1. 1. 1.\n",
            " 0. 0. 0. 1. 0. 0. 1. 1. 0. 0. 0. 1. 0. 1. 1. 1. 1. 0. 0. 1. 0. 0. 1. 0.\n",
            " 1. 1. 1. 1. 1. 0. 1. 0. 1. 1. 1. 1. 1. 1. 1. 0. 1. 1. 1. 0. 1. 1. 1. 1.\n",
            " 1. 1. 0. 1. 1. 0. 1. 0. 0. 0. 1. 1. 1. 0. 1. 1. 1. 1. 0. 1. 0. 1. 0. 1.\n",
            " 0. 1. 1.]\n",
            "[0. 0. 0. 0. 1. 1. 0. 1. 1. 1. 0. 0. 1. 1. 0. 1. 1. 1. 1. 1. 1. 1. 0. 1.\n",
            " 1. 1. 0. 0. 0. 0. 0. 1. 0. 1. 1. 1. 1. 0. 0. 1. 1. 1. 0. 0. 1. 1. 1. 1.\n",
            " 1. 1. 0. 0. 1. 1. 0. 1. 0. 1. 0. 1. 1. 0. 0. 1. 1. 0. 1. 0. 0. 0. 1. 1.\n",
            " 0. 1. 0. 0. 1. 0. 1. 1. 1. 1. 1. 1. 0. 0. 1. 0. 0. 1. 0. 0. 0. 1. 1. 1.\n",
            " 0. 0. 0. 1. 0. 0. 1. 1. 0. 0. 0. 1. 0. 1. 1. 1. 1. 0. 0. 1. 0. 0. 1. 0.\n",
            " 1. 1. 1. 1. 1. 1. 1. 0. 1. 1. 1. 0. 1. 1. 1. 0. 1. 1. 1. 0. 1. 1. 1. 1.\n",
            " 1. 1. 0. 1. 1. 0. 1. 0. 0. 0. 1. 1. 1. 0. 0. 1. 1. 0. 0. 1. 0. 1. 1. 1.\n",
            " 0. 1. 1.]\n",
            "[0. 0. 0. 0. 1. 1. 0. 1. 1. 1. 0. 0. 1. 1. 0. 1. 1. 1. 1. 1. 1. 1. 0. 0.\n",
            " 1. 1. 0. 0. 0. 0. 0. 1. 0. 1. 0. 1. 1. 0. 0. 1. 0. 1. 0. 0. 1. 1. 1. 1.\n",
            " 1. 1. 0. 0. 1. 1. 0. 1. 0. 1. 0. 0. 1. 0. 0. 1. 1. 0. 1. 0. 0. 0. 1. 1.\n",
            " 0. 1. 0. 0. 1. 0. 1. 1. 1. 1. 1. 1. 0. 0. 1. 0. 0. 1. 0. 0. 0. 1. 1. 1.\n",
            " 0. 0. 0. 1. 0. 0. 1. 1. 0. 0. 0. 1. 0. 1. 1. 1. 1. 0. 0. 1. 0. 0. 1. 0.\n",
            " 1. 1. 1. 1. 1. 0. 1. 0. 1. 1. 1. 0. 1. 1. 1. 0. 1. 1. 1. 0. 1. 1. 1. 1.\n",
            " 1. 1. 0. 1. 1. 0. 1. 0. 0. 0. 1. 1. 1. 0. 1. 1. 1. 1. 0. 1. 0. 1. 0. 1.\n",
            " 1. 1. 1.]\n",
            "[0. 0. 0. 0. 1. 1. 0. 1. 1. 1. 0. 0. 1. 1. 0. 1. 1. 1. 0. 0. 1. 1. 0. 1.\n",
            " 1. 1. 0. 0. 0. 0. 0. 0. 0. 1. 0. 1. 1. 0. 0. 1. 1. 1. 0. 0. 0. 1. 1. 1.\n",
            " 1. 1. 0. 0. 1. 1. 0. 1. 0. 1. 0. 1. 1. 0. 0. 1. 1. 0. 1. 0. 0. 0. 1. 1.\n",
            " 0. 1. 0. 0. 1. 0. 1. 1. 1. 1. 1. 1. 0. 0. 0. 0. 0. 1. 0. 0. 0. 1. 1. 1.\n",
            " 0. 0. 0. 1. 0. 0. 1. 1. 0. 0. 0. 1. 0. 1. 1. 1. 1. 0. 0. 1. 0. 0. 1. 0.\n",
            " 1. 1. 1. 1. 1. 0. 1. 0. 1. 1. 1. 0. 1. 1. 1. 0. 1. 1. 1. 0. 1. 1. 1. 1.\n",
            " 1. 1. 0. 1. 1. 0. 1. 0. 0. 0. 1. 1. 1. 0. 1. 1. 1. 1. 0. 1. 0. 1. 0. 1.\n",
            " 0. 1. 1.]\n",
            "<class 'list'>\n",
            "final answer =  [0.0, 0.0, 0.0, 0.0, 1.0, 1.0, 0.0, 1.0, 1.0, 1.0, 0.0, 0.0, 1.0, 1.0, 0.0, 1.0, 1.0, 1.0, 1.0, 1.0, 1.0, 1.0, 0.0, 1.0, 1.0, 1.0, 0.0, 0.0, 0.0, 0.0, 0.0, 1.0, 0.0, 1.0, 0.0, 1.0, 1.0, 0.0, 0.0, 1.0, 1.0, 1.0, 0.0, 0.0, 1.0, 1.0, 1.0, 1.0, 1.0, 1.0, 0.0, 0.0, 1.0, 1.0, 0.0, 1.0, 0.0, 1.0, 0.0, 1.0, 1.0, 0.0, 0.0, 1.0, 1.0, 0.0, 1.0, 0.0, 0.0, 0.0, 1.0, 1.0, 0.0, 1.0, 0.0, 0.0, 1.0, 0.0, 1.0, 1.0, 1.0, 1.0, 1.0, 1.0, 0.0, 0.0, 1.0, 0.0, 0.0, 1.0, 0.0, 0.0, 0.0, 1.0, 1.0, 1.0, 0.0, 0.0, 0.0, 1.0, 0.0, 0.0, 1.0, 1.0, 0.0, 0.0, 0.0, 1.0, 0.0, 1.0, 1.0, 1.0, 1.0, 0.0, 0.0, 1.0, 0.0, 0.0, 1.0, 0.0, 1.0, 1.0, 1.0, 1.0, 1.0, 0.0, 1.0, 0.0, 1.0, 1.0, 1.0, 0.0, 1.0, 1.0, 1.0, 0.0, 1.0, 1.0, 1.0, 0.0, 1.0, 1.0, 1.0, 1.0, 1.0, 1.0, 0.0, 1.0, 1.0, 0.0, 1.0, 0.0, 0.0, 0.0, 1.0, 1.0, 1.0, 0.0, 1.0, 1.0, 1.0, 1.0, 0.0, 1.0, 0.0, 1.0, 0.0, 1.0, 0.0, 1.0, 1.0]\n",
            "[0 0 0 0 1 1 0 1 1 1 0 0 1 1 0 1 1 1 1 1 1 1 0 1 1 1 0 0 0 0 0 1 0 1 0 1 1\n",
            " 0 0 1 1 1 0 0 1 1 1 1 1 1 0 0 1 1 0 1 0 1 0 1 1 0 0 1 1 0 1 0 0 0 1 1 0 1\n",
            " 0 0 1 0 1 1 1 1 1 1 0 0 1 0 0 1 0 0 0 1 1 1 0 0 0 1 0 0 1 1 0 0 0 1 0 1 1\n",
            " 1 1 0 0 1 0 0 1 0 1 1 1 1 1 0 1 0 1 1 1 0 1 1 1 0 1 1 1 0 1 1 1 1 1 1 0 1\n",
            " 1 0 1 0 0 0 1 1 1 0 1 1 1 1 0 1 0 1 0 1 0 1 1]\n",
            "Accuracy: 1.0\n"
          ]
        }
      ]
    },
    {
      "cell_type": "code",
      "source": [
        "prf4.info"
      ],
      "metadata": {
        "id": "CKxUdRVjuIlG",
        "colab": {
          "base_uri": "https://localhost:8080/"
        },
        "outputId": "1bc1d0dd-2589-4304-83dc-f5ae68f9f1f0"
      },
      "execution_count": null,
      "outputs": [
        {
          "output_type": "execute_result",
          "data": {
            "text/plain": [
              "{0: {'accuracy': 0.915680794907623, 'cluster_idx': 1},\n",
              " 1: {'accuracy': 0.9262381617761216, 'cluster_idx': 4},\n",
              " 2: {'accuracy': 0.947290793355069, 'cluster_idx': 0},\n",
              " 3: {'accuracy': 0.9226983387672721, 'cluster_idx': 3},\n",
              " 4: {'accuracy': 0.9402421984163949, 'cluster_idx': 3},\n",
              " 5: {'accuracy': 0.9174041297935103, 'cluster_idx': 1},\n",
              " 6: {'accuracy': 0.9279925477410339, 'cluster_idx': 4},\n",
              " 7: {'accuracy': 0.9156963204471357, 'cluster_idx': 1},\n",
              " 8: {'accuracy': 0.9280080732805466, 'cluster_idx': 1},\n",
              " 9: {'accuracy': 0.9139729855612482, 'cluster_idx': 1},\n",
              " 10: {'accuracy': 0.9209129017233348, 'cluster_idx': 1},\n",
              " 11: {'accuracy': 0.933193603477721, 'cluster_idx': 2},\n",
              " 12: {'accuracy': 0.9314702685918336, 'cluster_idx': 1},\n",
              " 13: {'accuracy': 0.9086943021269989, 'cluster_idx': 1},\n",
              " 14: {'accuracy': 0.9174196553330228, 'cluster_idx': 1},\n",
              " 15: {'accuracy': 0.9279459711224964, 'cluster_idx': 3},\n",
              " 16: {'accuracy': 0.9244216736531593, 'cluster_idx': 3},\n",
              " 17: {'accuracy': 0.943766495885732, 'cluster_idx': 0},\n",
              " 18: {'accuracy': 0.9051079024996118, 'cluster_idx': 1},\n",
              " 19: {'accuracy': 0.9156652693681104, 'cluster_idx': 1},\n",
              " 20: {'accuracy': 0.9068312373854992, 'cluster_idx': 1},\n",
              " 21: {'accuracy': 0.9226517621487347, 'cluster_idx': 1},\n",
              " 22: {'accuracy': 0.9420276354603322, 'cluster_idx': 0},\n",
              " 23: {'accuracy': 0.912063344201211, 'cluster_idx': 0},\n",
              " 24: {'accuracy': 0.9349945660611707, 'cluster_idx': 1},\n",
              " 25: {'accuracy': 0.9296848315478963, 'cluster_idx': 4},\n",
              " 26: {'accuracy': 0.9192206179164726, 'cluster_idx': 2},\n",
              " 27: {'accuracy': 0.9226517621487347, 'cluster_idx': 0},\n",
              " 28: {'accuracy': 0.9349324639031206, 'cluster_idx': 3},\n",
              " 29: {'accuracy': 0.9279770222015216, 'cluster_idx': 0},\n",
              " 30: {'accuracy': 0.9209284272628473, 'cluster_idx': 4},\n",
              " 31: {'accuracy': 0.9226828132277596, 'cluster_idx': 3},\n",
              " 32: {'accuracy': 0.9262071106970968, 'cluster_idx': 4},\n",
              " 33: {'accuracy': 0.9349014128240956, 'cluster_idx': 3},\n",
              " 34: {'accuracy': 0.9209284272628473, 'cluster_idx': 3},\n",
              " 35: {'accuracy': 0.9279614966620089, 'cluster_idx': 2},\n",
              " 36: {'accuracy': 0.9420276354603322, 'cluster_idx': 4},\n",
              " 37: {'accuracy': 0.9367179009470579, 'cluster_idx': 2},\n",
              " 38: {'accuracy': 0.908539046731874, 'cluster_idx': 1},\n",
              " 39: {'accuracy': 0.9279770222015216, 'cluster_idx': 1},\n",
              " 40: {'accuracy': 0.9279925477410339, 'cluster_idx': 1},\n",
              " 41: {'accuracy': 0.9279459711224967, 'cluster_idx': 1},\n",
              " 42: {'accuracy': 0.9244216736531594, 'cluster_idx': 1},\n",
              " 43: {'accuracy': 0.9033069399161622, 'cluster_idx': 2},\n",
              " 44: {'accuracy': 0.9244216736531594, 'cluster_idx': 2},\n",
              " 45: {'accuracy': 0.9455829840086943, 'cluster_idx': 1},\n",
              " 46: {'accuracy': 0.9314081664337837, 'cluster_idx': 2},\n",
              " 47: {'accuracy': 0.9437975469647568, 'cluster_idx': 0},\n",
              " 48: {'accuracy': 0.9349635149821458, 'cluster_idx': 1},\n",
              " 49: {'accuracy': 0.9121409718987735, 'cluster_idx': 1},\n",
              " 50: {'accuracy': 0.9314857941313461, 'cluster_idx': 3},\n",
              " 51: {'accuracy': 0.9226983387672721, 'cluster_idx': 1},\n",
              " 52: {'accuracy': 0.9191585157584227, 'cluster_idx': 0},\n",
              " 53: {'accuracy': 0.9261605340785592, 'cluster_idx': 4},\n",
              " 54: {'accuracy': 0.9104021114733737, 'cluster_idx': 2},\n",
              " 55: {'accuracy': 0.9209284272628473, 'cluster_idx': 3},\n",
              " 56: {'accuracy': 0.9490762303990063, 'cluster_idx': 2},\n",
              " 57: {'accuracy': 0.9314857941313461, 'cluster_idx': 4},\n",
              " 58: {'accuracy': 0.9279770222015216, 'cluster_idx': 1},\n",
              " 59: {'accuracy': 0.9138022046266109, 'cluster_idx': 3},\n",
              " 60: {'accuracy': 0.9068157118459865, 'cluster_idx': 1},\n",
              " 61: {'accuracy': 0.9349945660611706, 'cluster_idx': 2},\n",
              " 62: {'accuracy': 0.9455519329296692, 'cluster_idx': 0},\n",
              " 63: {'accuracy': 0.927930445582984, 'cluster_idx': 1},\n",
              " 64: {'accuracy': 0.9191740412979351, 'cluster_idx': 1},\n",
              " 65: {'accuracy': 0.9297314081664337, 'cluster_idx': 3},\n",
              " 66: {'accuracy': 0.9208507995652848, 'cluster_idx': 1},\n",
              " 67: {'accuracy': 0.9069243906225741, 'cluster_idx': 2},\n",
              " 68: {'accuracy': 0.9173730787144854, 'cluster_idx': 2},\n",
              " 69: {'accuracy': 0.9209129017233348, 'cluster_idx': 1},\n",
              " 70: {'accuracy': 0.915618692749573, 'cluster_idx': 4},\n",
              " 71: {'accuracy': 0.9508306163639185, 'cluster_idx': 2},\n",
              " 72: {'accuracy': 0.9209284272628473, 'cluster_idx': 1},\n",
              " 73: {'accuracy': 0.9227138643067846, 'cluster_idx': 1},\n",
              " 74: {'accuracy': 0.9349635149821456, 'cluster_idx': 4},\n",
              " 75: {'accuracy': 0.927930445582984, 'cluster_idx': 2},\n",
              " 76: {'accuracy': 0.9226672876882471, 'cluster_idx': 4},\n",
              " 77: {'accuracy': 0.924406148113647, 'cluster_idx': 1},\n",
              " 78: {'accuracy': 0.9384722869119703, 'cluster_idx': 1},\n",
              " 79: {'accuracy': 0.9139574600217356, 'cluster_idx': 1},\n",
              " 80: {'accuracy': 0.9332712311752832, 'cluster_idx': 2},\n",
              " 81: {'accuracy': 0.9051389535786368, 'cluster_idx': 1},\n",
              " 82: {'accuracy': 0.924468250271697, 'cluster_idx': 1},\n",
              " 83: {'accuracy': 0.9402887750349326, 'cluster_idx': 1},\n",
              " 84: {'accuracy': 0.9331936034777207, 'cluster_idx': 1},\n",
              " 85: {'accuracy': 0.9191119391398852, 'cluster_idx': 2},\n",
              " 86: {'accuracy': 0.9297003570874087, 'cluster_idx': 3},\n",
              " 87: {'accuracy': 0.9314547430523211, 'cluster_idx': 0},\n",
              " 88: {'accuracy': 0.9384567613724576, 'cluster_idx': 1},\n",
              " 89: {'accuracy': 0.927899394503959, 'cluster_idx': 3},\n",
              " 90: {'accuracy': 0.9313926408942711, 'cluster_idx': 3},\n",
              " 91: {'accuracy': 0.9209594783418724, 'cluster_idx': 1},\n",
              " 92: {'accuracy': 0.924437199192672, 'cluster_idx': 2},\n",
              " 93: {'accuracy': 0.9419965843813072, 'cluster_idx': 1},\n",
              " 94: {'accuracy': 0.920975003881385, 'cluster_idx': 1},\n",
              " 95: {'accuracy': 0.9190964136003726, 'cluster_idx': 0},\n",
              " 96: {'accuracy': 0.9226983387672721, 'cluster_idx': 4},\n",
              " 97: {'accuracy': 0.9332557056357709, 'cluster_idx': 1},\n",
              " 98: {'accuracy': 0.9261915851575842, 'cluster_idx': 3},\n",
              " 99: {'accuracy': 0.9191274646793977, 'cluster_idx': 1}}"
            ]
          },
          "metadata": {},
          "execution_count": 25
        }
      ]
    },
    {
      "cell_type": "code",
      "source": [
        "#spectral\n",
        "getMaxAccuracyCluster(prf4.info)"
      ],
      "metadata": {
        "id": "DR6fU8l7jzxK",
        "colab": {
          "base_uri": "https://localhost:8080/"
        },
        "outputId": "ef2e1f61-e0c7-42db-dabe-34660e0dd76d"
      },
      "execution_count": null,
      "outputs": [
        {
          "output_type": "stream",
          "name": "stdout",
          "text": [
            "{'1': [45], '4': [36], '0': [2], '3': [4], '2': [71]}\n",
            "Selecting first maximum accuracy of a decision tree in each cluster:\n",
            "{'1': 45}\n",
            "{'4': 36}\n",
            "{'0': 2}\n",
            "{'3': 4}\n",
            "{'2': 71}\n"
          ]
        },
        {
          "output_type": "execute_result",
          "data": {
            "text/plain": [
              "{'0': [2], '1': [45], '2': [71], '3': [4], '4': [36]}"
            ]
          },
          "metadata": {},
          "execution_count": 26
        }
      ]
    },
    {
      "cell_type": "code",
      "source": [
        "treeList = getTreeList(X, getMaxAccuracyCluster(prf4.info))\n",
        "\n",
        "y_preed = predict(X_test, treeList, prf4)\n",
        "\n",
        "print(\"final answer = \", y_preed)\n",
        "print(y_test)\n",
        "  \n",
        "print(\"Accuracy:\",metrics.accuracy_score(y_test, y_preed))"
      ],
      "metadata": {
        "id": "aYLQ3qAf-n7S",
        "colab": {
          "base_uri": "https://localhost:8080/"
        },
        "outputId": "4292c5a0-ac57-4568-d32f-1807c3123e01"
      },
      "execution_count": null,
      "outputs": [
        {
          "output_type": "stream",
          "name": "stdout",
          "text": [
            "{'1': [45], '4': [36], '0': [2], '3': [4], '2': [71]}\n",
            "Selecting first maximum accuracy of a decision tree in each cluster:\n",
            "{'1': 45}\n",
            "{'4': 36}\n",
            "{'0': 2}\n",
            "{'3': 4}\n",
            "{'2': 71}\n",
            "[0. 0. 0. 0. 1. 1. 1. 1. 1. 0. 0. 0. 1. 1. 0. 1. 1. 1. 1. 1. 1. 1. 0. 1.\n",
            " 1. 1. 0. 0. 0. 0. 0. 1. 0. 1. 0. 1. 1. 0. 0. 1. 1. 1. 0. 0. 1. 1. 1. 1.\n",
            " 1. 1. 0. 0. 1. 1. 0. 1. 0. 0. 0. 1. 1. 0. 0. 1. 1. 0. 1. 0. 0. 0. 1. 1.\n",
            " 0. 1. 0. 0. 1. 0. 1. 1. 1. 1. 1. 1. 0. 0. 1. 0. 0. 1. 0. 0. 0. 1. 1. 1.\n",
            " 0. 0. 0. 1. 0. 0. 1. 1. 0. 0. 0. 1. 0. 1. 1. 1. 1. 0. 0. 1. 0. 0. 1. 0.\n",
            " 1. 1. 1. 1. 1. 1. 1. 0. 0. 1. 1. 0. 1. 1. 1. 1. 1. 1. 1. 0. 1. 1. 1. 1.\n",
            " 1. 1. 0. 1. 1. 0. 1. 0. 0. 0. 1. 1. 1. 0. 1. 1. 1. 1. 0. 1. 0. 1. 0. 1.\n",
            " 0. 1. 1.]\n",
            "[0. 1. 0. 0. 1. 1. 0. 1. 1. 1. 1. 0. 1. 1. 0. 1. 1. 1. 1. 1. 1. 1. 0. 1.\n",
            " 1. 1. 0. 0. 0. 0. 0. 1. 0. 1. 1. 1. 0. 0. 0. 1. 1. 1. 0. 0. 1. 1. 1. 1.\n",
            " 1. 1. 0. 0. 1. 1. 0. 1. 0. 1. 0. 1. 1. 0. 0. 1. 1. 0. 1. 0. 0. 0. 1. 1.\n",
            " 0. 1. 0. 0. 1. 0. 1. 1. 1. 1. 1. 1. 0. 0. 1. 0. 0. 1. 0. 1. 0. 1. 1. 1.\n",
            " 0. 0. 0. 1. 0. 0. 1. 1. 0. 0. 0. 1. 0. 1. 1. 1. 1. 0. 0. 1. 0. 0. 1. 0.\n",
            " 1. 1. 1. 1. 1. 1. 1. 0. 1. 1. 1. 0. 1. 1. 1. 0. 1. 1. 1. 0. 1. 1. 1. 1.\n",
            " 1. 1. 0. 1. 1. 0. 1. 0. 0. 0. 1. 1. 1. 0. 1. 1. 1. 1. 0. 1. 0. 1. 0. 1.\n",
            " 0. 1. 1.]\n",
            "[0. 0. 0. 0. 1. 1. 0. 1. 1. 1. 0. 0. 1. 1. 0. 1. 1. 1. 1. 1. 1. 1. 0. 1.\n",
            " 1. 1. 0. 0. 0. 0. 0. 1. 0. 1. 0. 1. 1. 0. 0. 1. 1. 1. 0. 0. 1. 1. 0. 1.\n",
            " 1. 1. 0. 0. 1. 1. 0. 1. 0. 0. 0. 1. 1. 0. 0. 1. 1. 0. 1. 0. 0. 0. 1. 1.\n",
            " 0. 1. 0. 0. 1. 0. 1. 1. 1. 1. 1. 1. 0. 0. 1. 0. 0. 1. 0. 0. 0. 1. 1. 1.\n",
            " 0. 0. 0. 1. 0. 0. 1. 1. 0. 0. 0. 1. 0. 1. 1. 1. 1. 0. 0. 1. 0. 0. 1. 0.\n",
            " 1. 1. 1. 1. 1. 0. 1. 0. 1. 1. 1. 0. 1. 1. 1. 0. 1. 1. 1. 0. 1. 1. 1. 1.\n",
            " 1. 1. 0. 1. 1. 0. 1. 0. 0. 0. 1. 1. 1. 0. 1. 1. 1. 1. 0. 1. 0. 1. 0. 1.\n",
            " 0. 1. 1.]\n",
            "[0. 0. 0. 0. 1. 1. 0. 1. 1. 1. 0. 0. 0. 1. 0. 1. 1. 1. 1. 1. 1. 1. 0. 1.\n",
            " 1. 1. 0. 0. 0. 0. 0. 1. 0. 1. 0. 1. 1. 0. 0. 1. 1. 1. 0. 0. 1. 1. 0. 1.\n",
            " 1. 1. 0. 0. 1. 1. 0. 1. 0. 1. 0. 1. 1. 0. 0. 1. 1. 0. 1. 0. 0. 1. 1. 1.\n",
            " 0. 1. 0. 0. 1. 0. 1. 1. 1. 1. 1. 1. 0. 0. 0. 0. 0. 1. 0. 0. 0. 1. 1. 1.\n",
            " 0. 0. 0. 1. 0. 0. 1. 1. 0. 0. 0. 1. 0. 1. 1. 1. 1. 0. 0. 1. 0. 0. 1. 0.\n",
            " 1. 1. 1. 1. 1. 0. 1. 0. 0. 1. 1. 0. 1. 1. 1. 0. 1. 1. 1. 0. 1. 0. 1. 1.\n",
            " 1. 1. 0. 1. 1. 0. 1. 0. 0. 0. 1. 1. 1. 0. 1. 1. 1. 1. 0. 1. 0. 1. 1. 1.\n",
            " 0. 1. 1.]\n",
            "[0. 0. 0. 0. 1. 1. 0. 1. 1. 1. 1. 0. 1. 1. 0. 1. 1. 1. 1. 1. 1. 1. 0. 0.\n",
            " 1. 1. 0. 0. 0. 0. 0. 1. 0. 1. 0. 1. 1. 0. 0. 1. 1. 1. 0. 0. 1. 1. 1. 1.\n",
            " 1. 1. 0. 0. 1. 1. 0. 1. 0. 0. 0. 1. 1. 0. 0. 1. 1. 0. 1. 0. 0. 0. 1. 1.\n",
            " 0. 1. 0. 0. 1. 0. 1. 1. 1. 1. 1. 1. 1. 0. 1. 0. 0. 1. 0. 0. 0. 1. 1. 1.\n",
            " 0. 0. 0. 1. 0. 0. 1. 1. 0. 0. 0. 1. 0. 1. 1. 1. 1. 0. 0. 1. 0. 0. 1. 0.\n",
            " 1. 1. 1. 1. 1. 1. 1. 0. 1. 1. 1. 0. 1. 1. 1. 0. 1. 1. 1. 0. 1. 1. 1. 1.\n",
            " 1. 1. 0. 1. 1. 0. 0. 0. 0. 0. 1. 1. 1. 0. 1. 1. 1. 0. 0. 1. 1. 1. 0. 1.\n",
            " 0. 1. 1.]\n",
            "<class 'list'>\n",
            "final answer =  [0.0, 0.0, 0.0, 0.0, 1.0, 1.0, 0.0, 1.0, 1.0, 1.0, 0.0, 0.0, 1.0, 1.0, 0.0, 1.0, 1.0, 1.0, 1.0, 1.0, 1.0, 1.0, 0.0, 1.0, 1.0, 1.0, 0.0, 0.0, 0.0, 0.0, 0.0, 1.0, 0.0, 1.0, 0.0, 1.0, 1.0, 0.0, 0.0, 1.0, 1.0, 1.0, 0.0, 0.0, 1.0, 1.0, 1.0, 1.0, 1.0, 1.0, 0.0, 0.0, 1.0, 1.0, 0.0, 1.0, 0.0, 0.0, 0.0, 1.0, 1.0, 0.0, 0.0, 1.0, 1.0, 0.0, 1.0, 0.0, 0.0, 0.0, 1.0, 1.0, 0.0, 1.0, 0.0, 0.0, 1.0, 0.0, 1.0, 1.0, 1.0, 1.0, 1.0, 1.0, 0.0, 0.0, 1.0, 0.0, 0.0, 1.0, 0.0, 0.0, 0.0, 1.0, 1.0, 1.0, 0.0, 0.0, 0.0, 1.0, 0.0, 0.0, 1.0, 1.0, 0.0, 0.0, 0.0, 1.0, 0.0, 1.0, 1.0, 1.0, 1.0, 0.0, 0.0, 1.0, 0.0, 0.0, 1.0, 0.0, 1.0, 1.0, 1.0, 1.0, 1.0, 1.0, 1.0, 0.0, 1.0, 1.0, 1.0, 0.0, 1.0, 1.0, 1.0, 0.0, 1.0, 1.0, 1.0, 0.0, 1.0, 1.0, 1.0, 1.0, 1.0, 1.0, 0.0, 1.0, 1.0, 0.0, 1.0, 0.0, 0.0, 0.0, 1.0, 1.0, 1.0, 0.0, 1.0, 1.0, 1.0, 1.0, 0.0, 1.0, 0.0, 1.0, 0.0, 1.0, 0.0, 1.0, 1.0]\n",
            "[0 0 0 0 1 1 0 1 1 1 0 0 1 1 0 1 1 1 1 1 1 1 0 1 1 1 0 0 0 0 0 1 0 1 0 1 1\n",
            " 0 0 1 1 1 0 0 1 1 1 1 1 1 0 0 1 1 0 1 0 1 0 1 1 0 0 1 1 0 1 0 0 0 1 1 0 1\n",
            " 0 0 1 0 1 1 1 1 1 1 0 0 1 0 0 1 0 0 0 1 1 1 0 0 0 1 0 0 1 1 0 0 0 1 0 1 1\n",
            " 1 1 0 0 1 0 0 1 0 1 1 1 1 1 0 1 0 1 1 1 0 1 1 1 0 1 1 1 0 1 1 1 1 1 1 0 1\n",
            " 1 0 1 0 0 0 1 1 1 0 1 1 1 1 0 1 0 1 0 1 0 1 1]\n",
            "Accuracy: 0.9883040935672515\n"
          ]
        }
      ]
    },
    {
      "cell_type": "code",
      "execution_count": null,
      "metadata": {
        "id": "Mrj0TvcTJWKC",
        "colab": {
          "base_uri": "https://localhost:8080/"
        },
        "outputId": "1c8f16f7-4308-4b5d-eb5f-64ac15beb3d3"
      },
      "outputs": [
        {
          "output_type": "execute_result",
          "data": {
            "text/plain": [
              "0.9173420276354604"
            ]
          },
          "metadata": {},
          "execution_count": 28
        }
      ],
      "source": [
        "rf = DecisionTreeClassifier()\n",
        "\n",
        "rf.fit(X,y)\n",
        "\n",
        "cross_val_score(rf, X, y, cv = 5).mean()"
      ]
    },
    {
      "cell_type": "code",
      "execution_count": null,
      "metadata": {
        "id": "VmF1OeRuUfQT"
      },
      "outputs": [],
      "source": [
        "def plot_accuracy(ax, prf, cluster_idx):\n",
        "    y = []\n",
        "\n",
        "    for key in prf.info:\n",
        "        if prf.info[key][\"cluster_idx\"] == cluster_idx:\n",
        "            y.append(prf.info[key][\"accuracy\"])\n",
        "    ax.set_title(\"cluster \" + str(cluster_idx))\n",
        "    ax.bar(range(len(y)), y)\n",
        "    "
      ]
    },
    {
      "cell_type": "code",
      "execution_count": null,
      "metadata": {
        "id": "ECC8fkUvVsC6",
        "colab": {
          "base_uri": "https://localhost:8080/",
          "height": 275
        },
        "outputId": "73b427b2-e5bd-44fa-cc86-daf42f72095f"
      },
      "outputs": [
        {
          "output_type": "display_data",
          "data": {
            "text/plain": [
              "<Figure size 1800x360 with 5 Axes>"
            ],
            "image/png": "[encoded data removed]"
          },
          "metadata": {
            "needs_background": "light"
          }
        }
      ],
      "source": [
        "#kmeans\n",
        "f, axes = plt.subplots(1, len(prf.clusters), figsize=(len(prf.clusters) * 5,5))\n",
        "for i in range(len(prf.clusters)):\n",
        "    plot_accuracy(axes[i], prf, i)\n"
      ]
    },
    {
      "cell_type": "code",
      "execution_count": null,
      "metadata": {
        "id": "K2pXN9K8WD6K",
        "colab": {
          "base_uri": "https://localhost:8080/",
          "height": 275
        },
        "outputId": "77c38b15-9c6a-41b7-80d0-afbf69bad345"
      },
      "outputs": [
        {
          "output_type": "display_data",
          "data": {
            "text/plain": [
              "<Figure size 1800x360 with 5 Axes>"
            ],
            "image/png": "[encoded data removed]"
          },
          "metadata": {
            "needs_background": "light"
          }
        }
      ],
      "source": [
        "#dbscan\n",
        "f, axes = plt.subplots(1, len(prf1.clusters), figsize=(len(prf1.clusters) * 5,5))\n",
        "for i in range(len(prf1.clusters)):\n",
        "    plot_accuracy(axes[i], prf1, i)"
      ]
    },
    {
      "cell_type": "code",
      "execution_count": null,
      "metadata": {
        "id": "ctNEHJTjewHN",
        "colab": {
          "base_uri": "https://localhost:8080/"
        },
        "outputId": "c26454ca-9924-4e2b-fdac-4d8db3f59c36"
      },
      "outputs": [
        {
          "output_type": "display_data",
          "data": {
            "text/plain": [
              "<Figure size 1800x360 with 5 Axes>"
            ],
            "image/png": "[encoded data removed]"
          },
          "metadata": {
            "needs_background": "light"
          }
        }
      ],
      "source": [
        "#agglomerative\n",
        "f, axes = plt.subplots(1, len(prf2.clusters), figsize=(len(prf2.clusters) * 5,5))\n",
        "for i in range(len(prf2.clusters)):\n",
        "    plot_accuracy(axes[i], prf2, i)\n",
        "    "
      ]
    },
    {
      "cell_type": "code",
      "execution_count": null,
      "metadata": {
        "id": "9lFSKVy3e9si",
        "colab": {
          "base_uri": "https://localhost:8080/",
          "height": 275
        },
        "outputId": "3294acaa-6e6e-45d5-d3d9-7df78e70be5b"
      },
      "outputs": [
        {
          "output_type": "display_data",
          "data": {
            "text/plain": [
              "<Figure size 1800x360 with 5 Axes>"
            ],
            "image/png": "[encoded data removed]"
          },
          "metadata": {
            "needs_background": "light"
          }
        }
      ],
      "source": [
        "#gaussian\n",
        "f, axes = plt.subplots(1, len(prf3.clusters), figsize=(len(prf3.clusters) * 5,5))\n",
        "for i in range(len(prf3.clusters)):\n",
        "    plot_accuracy(axes[i], prf3, i)"
      ]
    },
    {
      "cell_type": "code",
      "execution_count": null,
      "metadata": {
        "id": "T7YZS7C6kJ7X",
        "colab": {
          "base_uri": "https://localhost:8080/"
        },
        "outputId": "df6c9b55-6a39-4282-fbda-9b305d8695a0"
      },
      "outputs": [
        {
          "output_type": "display_data",
          "data": {
            "text/plain": [
              "<Figure size 1800x360 with 5 Axes>"
            ],
            "image/png": "[encoded data removed]"
          },
          "metadata": {
            "needs_background": "light"
          }
        }
      ],
      "source": [
        "#spectral clusterings\n",
        "f, axes = plt.subplots(1, len(prf4.clusters), figsize=(len(prf4.clusters) * 5,5))\n",
        "for i in range(len(prf4.clusters)):\n",
        "    plot_accuracy(axes[i], prf4, i)"
      ]
    },
    {
      "cell_type": "code",
      "execution_count": null,
      "metadata": {
        "id": "or0wJBAFfSgr",
        "colab": {
          "base_uri": "https://localhost:8080/"
        },
        "outputId": "7bb394ed-167a-4d96-e81d-14a0ee917da2"
      },
      "outputs": [
        {
          "output_type": "execute_result",
          "data": {
            "text/plain": [
              "array([[1, 2],\n",
              "       [3, 4],\n",
              "       [5, 6]])"
            ]
          },
          "metadata": {},
          "execution_count": 35
        }
      ],
      "source": [
        "test = np.array([[1, 2], [3, 4], [5, 6]])\n",
        "test"
      ]
    },
    {
      "cell_type": "code",
      "source": [
        "test.shape"
      ],
      "metadata": {
        "colab": {
          "base_uri": "https://localhost:8080/"
        },
        "id": "IwbNWXHliN7y",
        "outputId": "51846881-6db0-45f8-b153-81cb2bc680ad"
      },
      "execution_count": null,
      "outputs": [
        {
          "output_type": "execute_result",
          "data": {
            "text/plain": [
              "(3, 2)"
            ]
          },
          "metadata": {},
          "execution_count": 36
        }
      ]
    },
    {
      "cell_type": "code",
      "source": [],
      "metadata": {
        "id": "8UVX4qx7iRCx"
      },
      "execution_count": null,
      "outputs": []
    }
  ],
  "metadata": {
    "colab": {
      "collapsed_sections": [],
      "provenance": []
    },
    "kernelspec": {
      "display_name": "Python 3",
      "name": "python3"
    },
    "language_info": {
      "name": "python"
    }
  },
  "nbformat": 4,
  "nbformat_minor": 0
}