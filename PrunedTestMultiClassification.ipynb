{
  "cells": [
    {
      "cell_type": "code",
      "execution_count": null,
      "metadata": {
        "colab": {
          "base_uri": "https://localhost:8080/"
        },
        "id": "GZwIlEBn4E3o",
        "outputId": "8366295d-1772-495d-b3a8-e440767f807c"
      },
      "outputs": [
        {
          "output_type": "stream",
          "name": "stdout",
          "text": [
            "(150, 4)\n",
            "['sepal length (cm)', 'sepal width (cm)', 'petal length (cm)', 'petal width (cm)']\n",
            "[0 0 0 0 0 0 0 0 0 0 0 0 0 0 0 0 0 0 0 0 0 0 0 0 0 0 0 0 0 0 0 0 0 0 0 0 0\n",
            " 0 0 0 0 0 0 0 0 0 0 0 0 0 1 1 1 1 1 1 1 1 1 1 1 1 1 1 1 1 1 1 1 1 1 1 1 1\n",
            " 1 1 1 1 1 1 1 1 1 1 1 1 1 1 1 1 1 1 1 1 1 1 1 1 1 1 2 2 2 2 2 2 2 2 2 2 2\n",
            " 2 2 2 2 2 2 2 2 2 2 2 2 2 2 2 2 2 2 2 2 2 2 2 2 2 2 2 2 2 2 2 2 2 2 2 2 2\n",
            " 2 2]\n",
            "['setosa' 'versicolor' 'virginica']\n"
          ]
        }
      ],
      "source": [
        "import numpy as np\n",
        "import pandas as pd\n",
        "import matplotlib.pyplot as plt\n",
        "from sklearn import datasets\n",
        "from sklearn.datasets import load_iris\n",
        "from sklearn.ensemble import RandomForestClassifier\n",
        "from sklearn.tree import DecisionTreeClassifier\n",
        "from sklearn.datasets import make_classification\n",
        "from sklearn import tree\n",
        "from sklearn.model_selection import train_test_split\n",
        "from sklearn.cluster import KMeans\n",
        "from sklearn.metrics import silhouette_score\n",
        "from sklearn.metrics import classification_report\n",
        "from sklearn.cluster import AgglomerativeClustering\n",
        "import scipy.cluster.hierarchy as shc\n",
        "from sklearn.cluster import DBSCAN\n",
        "from sklearn.cluster import SpectralClustering\n",
        "from sklearn.mixture import GaussianMixture\n",
        "from sklearn import cluster, datasets, mixture\n",
        "from sklearn import metrics\n",
        "from numpy import unique\n",
        "from numpy import where\n",
        "from matplotlib import pyplot\n",
        "from sklearn.model_selection import cross_val_score\n",
        "import matplotlib.pyplot as plt\n",
        "\n",
        "iris_data = load_iris()\n",
        "\n",
        "# print(iris_data)\n",
        "\n",
        "X = iris_data.data\n",
        "y = iris_data.target\n",
        "\n",
        "print(iris_data.data.shape)\n",
        "print(iris_data.feature_names)# 4 columns-'sepal length', 'sepal width', 'petal length', 'petal width'\n",
        "print(y)\n",
        "print(iris_data.target_names) # 0-setosa, 1-versicolor, 2-virginica"
      ]
    },
    {
      "cell_type": "code",
      "execution_count": null,
      "metadata": {
        "colab": {
          "base_uri": "https://localhost:8080/",
          "height": 206
        },
        "id": "dSmc2uuw4tOW",
        "outputId": "7873548f-89c8-4e21-bcb7-159f5bf3a3e9"
      },
      "outputs": [
        {
          "output_type": "execute_result",
          "data": {
            "text/plain": [
              "   sepal length  sepal width  petal length  petal width  species\n",
              "0           5.1          3.5           1.4          0.2        0\n",
              "1           4.9          3.0           1.4          0.2        0\n",
              "2           4.7          3.2           1.3          0.2        0\n",
              "3           4.6          3.1           1.5          0.2        0\n",
              "4           5.0          3.6           1.4          0.2        0"
            ],
            "text/html": [
              "\n",
              "  <div id=\"df-605aa5c9-bc29-40a7-a339-d4e19d3ed7b1\">\n",
              "    <div class=\"colab-df-container\">\n",
              "      <div>\n",
              "<style scoped>\n",
              "    .dataframe tbody tr th:only-of-type {\n",
              "        vertical-align: middle;\n",
              "    }\n",
              "\n",
              "    .dataframe tbody tr th {\n",
              "        vertical-align: top;\n",
              "    }\n",
              "\n",
              "    .dataframe thead th {\n",
              "        text-align: right;\n",
              "    }\n",
              "</style>\n",
              "<table border=\"1\" class=\"dataframe\">\n",
              "  <thead>\n",
              "    <tr style=\"text-align: right;\">\n",
              "      <th></th>\n",
              "      <th>sepal length</th>\n",
              "      <th>sepal width</th>\n",
              "      <th>petal length</th>\n",
              "      <th>petal width</th>\n",
              "      <th>species</th>\n",
              "    </tr>\n",
              "  </thead>\n",
              "  <tbody>\n",
              "    <tr>\n",
              "      <th>0</th>\n",
              "      <td>5.1</td>\n",
              "      <td>3.5</td>\n",
              "      <td>1.4</td>\n",
              "      <td>0.2</td>\n",
              "      <td>0</td>\n",
              "    </tr>\n",
              "    <tr>\n",
              "      <th>1</th>\n",
              "      <td>4.9</td>\n",
              "      <td>3.0</td>\n",
              "      <td>1.4</td>\n",
              "      <td>0.2</td>\n",
              "      <td>0</td>\n",
              "    </tr>\n",
              "    <tr>\n",
              "      <th>2</th>\n",
              "      <td>4.7</td>\n",
              "      <td>3.2</td>\n",
              "      <td>1.3</td>\n",
              "      <td>0.2</td>\n",
              "      <td>0</td>\n",
              "    </tr>\n",
              "    <tr>\n",
              "      <th>3</th>\n",
              "      <td>4.6</td>\n",
              "      <td>3.1</td>\n",
              "      <td>1.5</td>\n",
              "      <td>0.2</td>\n",
              "      <td>0</td>\n",
              "    </tr>\n",
              "    <tr>\n",
              "      <th>4</th>\n",
              "      <td>5.0</td>\n",
              "      <td>3.6</td>\n",
              "      <td>1.4</td>\n",
              "      <td>0.2</td>\n",
              "      <td>0</td>\n",
              "    </tr>\n",
              "  </tbody>\n",
              "</table>\n",
              "</div>\n",
              "      <button class=\"colab-df-convert\" onclick=\"convertToInteractive('df-605aa5c9-bc29-40a7-a339-d4e19d3ed7b1')\"\n",
              "              title=\"Convert this dataframe to an interactive table.\"\n",
              "              style=\"display:none;\">\n",
              "        \n",
              "  <svg xmlns=\"http://www.w3.org/2000/svg\" height=\"24px\"viewBox=\"0 0 24 24\"\n",
              "       width=\"24px\">\n",
              "    <path d=\"M0 0h24v24H0V0z\" fill=\"none\"/>\n",
              "    <path d=\"M18.56 5.44l.94 2.06.94-2.06 2.06-.94-2.06-.94-.94-2.06-.94 2.06-2.06.94zm-11 1L8.5 8.5l.94-2.06 2.06-.94-2.06-.94L8.5 2.5l-.94 2.06-2.06.94zm10 10l.94 2.06.94-2.06 2.06-.94-2.06-.94-.94-2.06-.94 2.06-2.06.94z\"/><path d=\"M17.41 7.96l-1.37-1.37c-.4-.4-.92-.59-1.43-.59-.52 0-1.04.2-1.43.59L10.3 9.45l-7.72 7.72c-.78.78-.78 2.05 0 2.83L4 21.41c.39.39.9.59 1.41.59.51 0 1.02-.2 1.41-.59l7.78-7.78 2.81-2.81c.8-.78.8-2.07 0-2.86zM5.41 20L4 18.59l7.72-7.72 1.47 1.35L5.41 20z\"/>\n",
              "  </svg>\n",
              "      </button>\n",
              "      \n",
              "  <style>\n",
              "    .colab-df-container {\n",
              "      display:flex;\n",
              "      flex-wrap:wrap;\n",
              "      gap: 12px;\n",
              "    }\n",
              "\n",
              "    .colab-df-convert {\n",
              "      background-color: #E8F0FE;\n",
              "      border: none;\n",
              "      border-radius: 50%;\n",
              "      cursor: pointer;\n",
              "      display: none;\n",
              "      fill: #1967D2;\n",
              "      height: 32px;\n",
              "      padding: 0 0 0 0;\n",
              "      width: 32px;\n",
              "    }\n",
              "\n",
              "    .colab-df-convert:hover {\n",
              "      background-color: #E2EBFA;\n",
              "      box-shadow: 0px 1px 2px rgba(60, 64, 67, 0.3), 0px 1px 3px 1px rgba(60, 64, 67, 0.15);\n",
              "      fill: #174EA6;\n",
              "    }\n",
              "\n",
              "    [theme=dark] .colab-df-convert {\n",
              "      background-color: #3B4455;\n",
              "      fill: #D2E3FC;\n",
              "    }\n",
              "\n",
              "    [theme=dark] .colab-df-convert:hover {\n",
              "      background-color: #434B5C;\n",
              "      box-shadow: 0px 1px 3px 1px rgba(0, 0, 0, 0.15);\n",
              "      filter: drop-shadow(0px 1px 2px rgba(0, 0, 0, 0.3));\n",
              "      fill: #FFFFFF;\n",
              "    }\n",
              "  </style>\n",
              "\n",
              "      <script>\n",
              "        const buttonEl =\n",
              "          document.querySelector('#df-605aa5c9-bc29-40a7-a339-d4e19d3ed7b1 button.colab-df-convert');\n",
              "        buttonEl.style.display =\n",
              "          google.colab.kernel.accessAllowed ? 'block' : 'none';\n",
              "\n",
              "        async function convertToInteractive(key) {\n",
              "          const element = document.querySelector('#df-605aa5c9-bc29-40a7-a339-d4e19d3ed7b1');\n",
              "          const dataTable =\n",
              "            await google.colab.kernel.invokeFunction('convertToInteractive',\n",
              "                                                     [key], {});\n",
              "          if (!dataTable) return;\n",
              "\n",
              "          const docLinkHtml = 'Like what you see? Visit the ' +\n",
              "            '<a target=\"_blank\" href=https://colab.research.google.com/notebooks/data_table.ipynb>data table notebook</a>'\n",
              "            + ' to learn more about interactive tables.';\n",
              "          element.innerHTML = '';\n",
              "          dataTable['output_type'] = 'display_data';\n",
              "          await google.colab.output.renderOutput(dataTable, element);\n",
              "          const docLink = document.createElement('div');\n",
              "          docLink.innerHTML = docLinkHtml;\n",
              "          element.appendChild(docLink);\n",
              "        }\n",
              "      </script>\n",
              "    </div>\n",
              "  </div>\n",
              "  "
            ]
          },
          "metadata": {},
          "execution_count": 74
        }
      ],
      "source": [
        "data=pd.DataFrame({\n",
        "    'sepal length':iris_data.data[:,0],\n",
        "    'sepal width':iris_data.data[:,1],\n",
        "    'petal length':iris_data.data[:,2],\n",
        "    'petal width':iris_data.data[:,3],\n",
        "    'species':iris_data.target\n",
        "})\n",
        "data.head()"
      ]
    },
    {
      "cell_type": "code",
      "execution_count": null,
      "metadata": {
        "id": "xIW45Zcf45c4",
        "colab": {
          "base_uri": "https://localhost:8080/"
        },
        "outputId": "716891d8-1ec8-4b25-a932-68019e52cc8f"
      },
      "outputs": [
        {
          "output_type": "stream",
          "name": "stdout",
          "text": [
            "CPU times: user 4 µs, sys: 0 ns, total: 4 µs\n",
            "Wall time: 8.82 µs\n",
            "Accuracy: 0.9333333333333333\n",
            "CLASSIFICATION REPORT\n",
            "              precision    recall  f1-score   support\n",
            "\n",
            "           0       1.00      1.00      1.00        13\n",
            "           1       0.93      0.87      0.90        15\n",
            "           2       0.89      0.94      0.91        17\n",
            "\n",
            "    accuracy                           0.93        45\n",
            "   macro avg       0.94      0.94      0.94        45\n",
            "weighted avg       0.93      0.93      0.93        45\n",
            "\n"
          ]
        }
      ],
      "source": [
        "%time\n",
        "X_train, X_test, y_train, y_test = train_test_split(X, y, test_size=0.3) # 70% training and 30% test\n",
        "\n",
        "# X, y = make_classification(n_samples=10, n_features=4,\n",
        "#                            n_informative=2, n_redundant=0, \n",
        "#                            random_state=0, shuffle=False)\n",
        "clf = RandomForestClassifier(n_estimators=100)\n",
        "#clf=RandomForestClassifier(n_estimators=100)\n",
        "\n",
        "clf.fit(X_train,y_train)\n",
        "\n",
        "y_pred=clf.predict(X_test)\n",
        "\n",
        "print(\"Accuracy:\",metrics.accuracy_score(y_test, y_pred))\n",
        "\n",
        "prec_rec = classification_report(y_pred, y_test)\n",
        "print(\"CLASSIFICATION REPORT\")\n",
        "print(prec_rec)"
      ]
    },
    {
      "cell_type": "code",
      "execution_count": null,
      "metadata": {
        "colab": {
          "base_uri": "https://localhost:8080/"
        },
        "id": "gU2-2UBn6ZOt",
        "outputId": "7ab78f95-ce7e-4af8-c0b1-5f70e1915de3"
      },
      "outputs": [
        {
          "output_type": "stream",
          "name": "stdout",
          "text": [
            "DecisionTreeClassifier(max_features='auto', random_state=805460748)\n"
          ]
        }
      ],
      "source": [
        "ind_tree = (clf.estimators_[4])\n",
        "print(ind_tree)"
      ]
    },
    {
      "cell_type": "code",
      "execution_count": null,
      "metadata": {
        "id": "FIaBQoGR7gdl",
        "colab": {
          "base_uri": "https://localhost:8080/"
        },
        "outputId": "cee51d66-9e48-413d-af0d-72384cfc3316"
      },
      "outputs": [
        {
          "output_type": "stream",
          "name": "stdout",
          "text": [
            "CPU times: user 6 µs, sys: 0 ns, total: 6 µs\n",
            "Wall time: 11.2 µs\n"
          ]
        }
      ],
      "source": [
        "%time\n",
        "class PrunedRandomForest:\n",
        "\n",
        "\n",
        "    def __init__(self, n_clusters = 5 , n_estimators = 100, cv = 5):\n",
        "        \"\"\" this is the unpruned random forest \"\"\"\n",
        "        self.rf = RandomForestClassifier(n_estimators = n_estimators)\n",
        "\n",
        "        \"\"\" this is the final pruned random forest \"\"\"\n",
        "        self.prf = None \n",
        "        self.prf1 = None \n",
        "\n",
        "        \n",
        "        \"\"\"this is a list of decision tree object present in original unpruned random forest\"\"\"\n",
        "        self.decision_trees = None \n",
        "        \n",
        "        \"\"\"number of clusters for pruning\"\"\"\n",
        "        self.n_clusters = n_clusters \n",
        "        \n",
        "        \n",
        "\n",
        "        \"\"\" \n",
        "            this contains dictionary of lists where each element of dictionary represetns a\n",
        "            pair (cluster_idx, tree_idx_list)\n",
        "\n",
        "            where tree_idx_list is list of decision tree indices and cluster_idx is index of cluster \n",
        "            e.g.\n",
        "            \n",
        "            {\n",
        "                0 : [2, 0]\n",
        "                1 : [1, 3]\n",
        "            }\n",
        "            it means decision tree at 2nd index and 0th index \n",
        "            are in same cluster similarly 1st and 3rd in second cluster\n",
        "\n",
        "        \"\"\" \n",
        "        self.clusters = {}\n",
        "        \n",
        "        self.cv = cv\n",
        "\n",
        "\n",
        "        \"\"\"\n",
        "            Information about all trees in the random forest present in this \n",
        "            form\n",
        "            {\n",
        "                idx : { \n",
        "                    accuracy : 89.34\n",
        "                    cluster : 2\n",
        "                }\n",
        "\n",
        "                idx1 : {\n",
        "\n",
        "                }\n",
        "            }\n",
        "        \"\"\"\n",
        "        self.info = {}\n",
        "        #self.maxs_accuracy = {}\n",
        "        self.fimps = None\n",
        "\n",
        "    def prune(self):\n",
        "        pass\n",
        "\n",
        "    \n",
        "    def fit(self, X, y):\n",
        "        self.rf.fit(X,y)\n",
        "        self.decision_trees = self.rf.estimators_\n",
        "        self.create_feature_imp_clusters()\n",
        "        self.create_feature_imp_clusters1()\n",
        "        self.create_fimp_agglomerative()\n",
        "        self.create_fimp_gaussian()\n",
        "        self.create_fimp_spectral_clustering()\n",
        "        #self.plot_clusters(X,y)\n",
        "        #self.all_algorithms()\n",
        "\n",
        "        self.fill_info(X, y)\n",
        "        #self.max_accuracy(X,y)\n",
        "        self.prune()\n",
        "\n",
        "    def fill_info(self, X, y):\n",
        "        for idx, tree in enumerate(self.decision_trees):\n",
        "            self.info[idx] = self.fill_for_tree(tree, X, y)\n",
        "\n",
        "        for cluster_idx in self.clusters:\n",
        "            for tree_idx in self.clusters[cluster_idx]:\n",
        "                self.info[tree_idx][\"cluster_idx\"] = cluster_idx \n",
        "       \n",
        "\n",
        "    \"\"\"\n",
        "        {\n",
        "            \"accuracy\" : 98.45,\n",
        "            \n",
        "        } \n",
        "    \"\"\"\n",
        "\n",
        "\n",
        "    def fill_for_tree(self, tree, X, y):\n",
        "        info = {}\n",
        "        mean_score = cross_val_score(tree, X, y, cv=self.cv).mean()\n",
        "        info[\"accuracy\"] = (mean_score)\n",
        "        return info\n",
        "\n",
        "    def predict(self, X):\n",
        "        if(self.prf is None):\n",
        "            return None\n",
        "        \n",
        "        return self.prf.predict(X)\n",
        "\n",
        "    \n",
        "    def get_decision_trees(self):\n",
        "        return self.decision_trees\n",
        "\n",
        "    def get_feature_imps_from_rf(self):\n",
        "        feature_imp_list = []\n",
        "        dts = self.get_decision_trees()\n",
        "        for tree in dts:\n",
        "            feature_imp_list.append(tree.feature_importances_)\n",
        "        return feature_imp_list\n",
        "\n",
        "    def create_feature_imp_clusters(self):\n",
        "        fimps = self.get_feature_imps_from_rf()\n",
        "        #print(fimps)\n",
        "        #print(\"KMEANS\")\n",
        "        kmeans = KMeans(n_clusters=self.n_clusters, random_state=0).fit(fimps)\n",
        "\n",
        "        print(\" fimps len = \" + str(len(fimps)))\n",
        "        labels = kmeans.labels_\n",
        "        score = silhouette_score(fimps, labels, metric='euclidean')\n",
        "        print('Silhouetter Score: %.3f' % score)\n",
        "        #print(labels)\n",
        "        print(\" kmeans.labels_ len = \" + str(len(kmeans.labels_)))\n",
        "        for (tree_idx, cluster_idx) in enumerate(kmeans.labels_):\n",
        "            if cluster_idx in self.clusters:\n",
        "                self.clusters[cluster_idx].append(tree_idx)\n",
        "            else:\n",
        "                self.clusters[cluster_idx] = [tree_idx]\n",
        "        \n",
        "    def create_feature_imp_clusters1(self):\n",
        "        fimps = self.get_feature_imps_from_rf()\n",
        "        #print(\"DBSCAN-\")\n",
        "        dbscan = DBSCAN().fit(fimps)\n",
        "\n",
        "        print(\" fimps len = \" + str(len(fimps)))\n",
        "        labels = dbscan.labels_\n",
        "        #print(labels)\n",
        "        print(\" dbscan.labels_ len = \" + str(len(labels)))\n",
        "        \n",
        "\n",
        "    def create_fimp_agglomerative(self):\n",
        "        fimps = self.get_feature_imps_from_rf()\n",
        "        #print(\"AGGLOMERATIVE CLUSTERING-\")\n",
        "        groups = AgglomerativeClustering(n_clusters=self.n_clusters).fit(fimps)\n",
        "        #print(groups.labels_)\n",
        "\n",
        "    def create_fimp_gaussian(self):\n",
        "      fimps = self.get_feature_imps_from_rf()\n",
        "      #print(\"GAUSSIAN CLUSTERING-\")\n",
        "      gmm =GaussianMixture(n_components = 5)\n",
        "      gmm.fit(fimps)\n",
        "      labelsgmm = gmm.predict(fimps)\n",
        "      #print(labelsgmm)\n",
        "      \n",
        "    def create_fimp_spectral_clustering(self):\n",
        "      fimps = self.get_feature_imps_from_rf()\n",
        "      models = SpectralClustering(n_clusters=6, random_state=25, n_neighbors=8, affinity='nearest_neighbors')\n",
        "      models.fit(fimps)\n",
        "      labelsx = models.fit_predict(fimps)\n",
        "      #print(labelsx)\n"
      ]
    },
    {
      "cell_type": "code",
      "execution_count": null,
      "metadata": {
        "colab": {
          "base_uri": "https://localhost:8080/"
        },
        "id": "ZzfqyHYkr1Jo",
        "outputId": "32c23459-ed45-49b4-a8f5-c98013060fc3"
      },
      "outputs": [
        {
          "output_type": "stream",
          "name": "stdout",
          "text": [
            " fimps len = 100\n",
            "Silhouetter Score: 0.588\n",
            " kmeans.labels_ len = 100\n",
            " fimps len = 100\n",
            " dbscan.labels_ len = 100\n",
            "KMEANS-\n",
            "4 ==>  [0, 8, 10, 11, 13, 14, 26, 31, 35, 38, 41, 42, 43, 55, 66, 74, 77, 91]\n",
            "3 ==>  [1, 3, 30, 36, 40, 71, 76, 78, 85, 86, 90]\n",
            "0 ==>  [2, 4, 12, 19, 20, 21, 22, 25, 27, 32, 34, 44, 45, 48, 54, 60, 61, 64, 67, 72, 73, 80, 81, 83, 88, 92, 96, 99]\n",
            "1 ==>  [5, 7, 9, 17, 18, 24, 28, 33, 46, 47, 49, 51, 56, 58, 59, 62, 63, 65, 82, 87, 93, 94, 97, 98]\n",
            "2 ==>  [6, 15, 16, 23, 29, 37, 39, 50, 52, 53, 57, 68, 69, 70, 75, 79, 84, 89, 95]\n",
            " fimps len = 100\n",
            "Silhouetter Score: 0.649\n",
            " kmeans.labels_ len = 100\n",
            " fimps len = 100\n",
            " dbscan.labels_ len = 100\n",
            "DBSCAN-\n",
            "0 ==>  [0, 3, 5, 6, 8, 9, 13, 15, 20, 21, 22, 26, 30, 31, 33, 38, 41, 44, 47, 51, 52, 56, 59, 65, 67, 69, 71, 81, 82, 84, 85, 86, 88, 89, 93, 99]\n",
            "2 ==>  [1, 14, 18, 23, 28, 29, 32, 34, 35, 36, 42, 50, 53, 60, 64, 66, 72, 75, 76, 78, 87, 92, 96, 97]\n",
            "1 ==>  [2, 4, 12, 16, 17, 27, 45, 48, 49, 54, 55, 57, 61, 63, 68, 70, 77, 80, 83, 91, 94, 95, 98]\n",
            "4 ==>  [7, 11, 24, 25, 39, 40, 43, 58, 62, 74, 90]\n",
            "3 ==>  [10, 19, 37, 46, 73, 79]\n",
            " fimps len = 100\n",
            "Silhouetter Score: 0.678\n",
            " kmeans.labels_ len = 100\n",
            " fimps len = 100\n",
            " dbscan.labels_ len = 100\n",
            "AGGLO\n",
            "1 ==>  [0, 8, 23, 24, 27, 39, 41, 46, 56, 67, 68, 73, 76, 84, 90, 96, 99]\n",
            "3 ==>  [1, 10, 18, 19, 22, 25, 26, 30, 40, 47, 52, 63, 77, 81, 82, 87]\n",
            "0 ==>  [2, 4, 7, 11, 13, 17, 20, 21, 28, 29, 32, 33, 34, 37, 42, 43, 48, 50, 54, 55, 57, 58, 61, 62, 65, 69, 71, 74, 78, 79, 80, 85, 88, 92, 94, 98]\n",
            "2 ==>  [3, 5, 6, 9, 15, 31, 35, 38, 44, 45, 49, 51, 53, 59, 64, 66, 70, 72, 83, 86, 89, 91, 93, 95]\n",
            "4 ==>  [12, 14, 16, 36, 60, 75, 97]\n",
            " fimps len = 100\n",
            "Silhouetter Score: 0.662\n",
            " kmeans.labels_ len = 100\n",
            " fimps len = 100\n",
            " dbscan.labels_ len = 100\n",
            "Gaussian\n",
            "2 ==>  [0, 1, 10, 14, 16, 20, 22, 24, 30, 33, 35, 36, 40, 41, 46, 48, 60, 62, 64, 66, 67, 75, 98, 99]\n",
            "1 ==>  [2, 3, 4, 6, 11, 12, 15, 17, 19, 23, 25, 26, 27, 31, 42, 43, 52, 53, 54, 55, 57, 58, 61, 63, 65, 68, 71, 76, 80, 83, 87, 88, 91, 92, 94, 96]\n",
            "0 ==>  [5, 7, 9, 13, 21, 28, 29, 38, 45, 49, 50, 59, 69, 72, 74, 77, 79, 81, 86, 97]\n",
            "4 ==>  [8, 18, 37, 39, 44, 56, 78, 82, 90]\n",
            "3 ==>  [32, 34, 47, 51, 70, 73, 84, 85, 89, 93, 95]\n",
            " fimps len = 100\n",
            "Silhouetter Score: 0.628\n",
            " kmeans.labels_ len = 100\n",
            " fimps len = 100\n",
            " dbscan.labels_ len = 100\n",
            "spectral clustering\n",
            "4 ==>  [0, 4, 6, 15, 20, 27, 31, 40, 72, 75, 84, 90]\n",
            "3 ==>  [1, 2, 8, 9, 14, 16, 24, 33, 34, 36, 38, 57, 65, 66, 69, 70, 78, 81, 82, 89]\n",
            "2 ==>  [3, 5, 11, 21, 30, 32, 35, 39, 41, 46, 47, 48, 49, 50, 51, 54, 56, 59, 61, 63, 67, 73, 77, 86, 87, 88, 94, 96, 98]\n",
            "1 ==>  [7, 12, 18, 19, 22, 26, 28, 37, 42, 45, 58, 60, 62, 64, 68, 71, 74, 76, 79, 80, 85, 92, 93, 99]\n",
            "0 ==>  [10, 13, 17, 23, 25, 29, 43, 44, 52, 53, 55, 83, 91, 95, 97]\n"
          ]
        }
      ],
      "source": [
        "prf = PrunedRandomForest(5, 100)\n",
        "prf.fit(X, y)\n",
        "print('KMEANS-')\n",
        "for cluster_idx in prf.clusters:\n",
        "          print(str(cluster_idx) + \" ==> \", prf.clusters[cluster_idx])\n",
        "\n",
        "prf1 = PrunedRandomForest()\n",
        "prf1.fit(X, y)\n",
        "print('DBSCAN-')\n",
        "for cluster_idx in prf1.clusters:\n",
        "          print(str(cluster_idx) + \" ==> \", prf1.clusters[cluster_idx])\n",
        "\n",
        "prf2 = PrunedRandomForest()\n",
        "prf2.fit(X, y)\n",
        "print('AGGLO')\n",
        "for cluster_idx in prf2.clusters:\n",
        "          print(str(cluster_idx) + \" ==> \", prf2.clusters[cluster_idx])\n",
        "\n",
        "prf3 = PrunedRandomForest()\n",
        "prf3.fit(X,y)\n",
        "print('Gaussian')\n",
        "for cluster_idx in prf3.clusters:\n",
        "          print(str(cluster_idx) + \" ==> \", prf3.clusters[cluster_idx])\n",
        "\n",
        "prf4 = PrunedRandomForest()\n",
        "prf4.fit(X,y)\n",
        "print('spectral clustering')\n",
        "for cluster_idx in prf4.clusters:\n",
        "          print(str(cluster_idx) + \" ==> \", prf4.clusters[cluster_idx])\n"
      ]
    },
    {
      "cell_type": "code",
      "execution_count": null,
      "metadata": {
        "id": "lYcN1727hdJv"
      },
      "outputs": [],
      "source": [
        "  # def plot_clusters(model, X):\n",
        "  #     pred = model.fit(X)\n",
        "  #     clusters = unique(pred)\n",
        "  #     for cluster in clusters:\n",
        "  #       row_idx = where(pred == cluster)\n",
        "  #       # create scatter of these samples\n",
        "  #       col0 = getColumn(X, row_idx, 0)\n",
        "  #       col1 = getColumn(X, row_idx, 1)\n",
        "  #       pyplot.scatter(col0, col1)\n",
        "  #   # show the plot\n",
        "  #   pyplot.show()\n",
        "\n",
        "  #   def all_algorithms(self):\n",
        "  #       fimps = self.get_feature_imps_from_rf()\n",
        "  #       print(\"KMEANS\")\n",
        "  #       kmeans = self.plot_clusters(KMeans(n_clusters=self.n_clusters, random_state=0), fimps)\n",
        "  #       print(\"DBSCAN-\")\n",
        "  #       dbscan = self.plot_clusters(DBSCAN(), fimps)\n",
        "  #       print(\"AGGLOMERATIVE CLUSTERING-\")\n",
        "  #       groups = self.plot_clusters(AgglomerativeClustering(n_clusters=self.n_clusters), fimps)\n",
        "  #       print(\" fimps len = \" + str(len(fimps)))\n",
        "  #       #print(labels)\n",
        "  #       print(\" kmeans.labels_ len = \" + str(len(kmeans.labels_)))"
      ]
    },
    {
      "cell_type": "code",
      "execution_count": null,
      "metadata": {
        "colab": {
          "base_uri": "https://localhost:8080/",
          "height": 298
        },
        "id": "PNOSc02PVaCY",
        "outputId": "0c9154a3-93ba-4a94-bdae-681d661d8a23"
      },
      "outputs": [
        {
          "output_type": "execute_result",
          "data": {
            "text/plain": [
              "AgglomerativeClustering(n_clusters=4)"
            ]
          },
          "metadata": {},
          "execution_count": 80
        },
        {
          "output_type": "display_data",
          "data": {
            "text/plain": [
              "<Figure size 432x288 with 1 Axes>"
            ],
            "image/png": "[encoded data removed]"
          },
          "metadata": {
            "needs_background": "light"
          }
        }
      ],
      "source": [
        "plt.title(\"Dendograms\")\n",
        "dend = shc.dendrogram(shc.linkage(X, method='ward'))\n",
        "groups = AgglomerativeClustering(n_clusters=4, affinity='euclidean', linkage=\"ward\")\n",
        "groups.fit(X)"
      ]
    },
    {
      "cell_type": "code",
      "source": [
        "prf.info"
      ],
      "metadata": {
        "colab": {
          "base_uri": "https://localhost:8080/"
        },
        "id": "drhPY0GiOF_q",
        "outputId": "90d299d8-bb31-4b95-ba95-29c90e5aa7fd"
      },
      "execution_count": null,
      "outputs": [
        {
          "output_type": "execute_result",
          "data": {
            "text/plain": [
              "{0: {'accuracy': 0.9400000000000001, 'cluster_idx': 4},\n",
              " 1: {'accuracy': 0.9333333333333332, 'cluster_idx': 3},\n",
              " 2: {'accuracy': 0.9533333333333334, 'cluster_idx': 0},\n",
              " 3: {'accuracy': 0.9533333333333334, 'cluster_idx': 3},\n",
              " 4: {'accuracy': 0.9266666666666665, 'cluster_idx': 0},\n",
              " 5: {'accuracy': 0.9600000000000002, 'cluster_idx': 1},\n",
              " 6: {'accuracy': 0.9533333333333334, 'cluster_idx': 2},\n",
              " 7: {'accuracy': 0.9399999999999998, 'cluster_idx': 1},\n",
              " 8: {'accuracy': 0.9600000000000002, 'cluster_idx': 4},\n",
              " 9: {'accuracy': 0.9666666666666668, 'cluster_idx': 1},\n",
              " 10: {'accuracy': 0.9466666666666667, 'cluster_idx': 4},\n",
              " 11: {'accuracy': 0.9466666666666667, 'cluster_idx': 4},\n",
              " 12: {'accuracy': 0.9666666666666668, 'cluster_idx': 0},\n",
              " 13: {'accuracy': 0.9466666666666665, 'cluster_idx': 4},\n",
              " 14: {'accuracy': 0.9266666666666665, 'cluster_idx': 4},\n",
              " 15: {'accuracy': 0.9533333333333334, 'cluster_idx': 2},\n",
              " 16: {'accuracy': 0.9466666666666667, 'cluster_idx': 2},\n",
              " 17: {'accuracy': 0.9466666666666667, 'cluster_idx': 1},\n",
              " 18: {'accuracy': 0.9533333333333334, 'cluster_idx': 1},\n",
              " 19: {'accuracy': 0.9466666666666667, 'cluster_idx': 0},\n",
              " 20: {'accuracy': 0.9333333333333333, 'cluster_idx': 0},\n",
              " 21: {'accuracy': 0.9533333333333334, 'cluster_idx': 0},\n",
              " 22: {'accuracy': 0.9200000000000002, 'cluster_idx': 0},\n",
              " 23: {'accuracy': 0.9466666666666667, 'cluster_idx': 2},\n",
              " 24: {'accuracy': 0.9399999999999998, 'cluster_idx': 1},\n",
              " 25: {'accuracy': 0.9466666666666667, 'cluster_idx': 0},\n",
              " 26: {'accuracy': 0.9666666666666668, 'cluster_idx': 4},\n",
              " 27: {'accuracy': 0.9333333333333333, 'cluster_idx': 0},\n",
              " 28: {'accuracy': 0.9600000000000002, 'cluster_idx': 1},\n",
              " 29: {'accuracy': 0.9466666666666667, 'cluster_idx': 2},\n",
              " 30: {'accuracy': 0.9400000000000001, 'cluster_idx': 3},\n",
              " 31: {'accuracy': 0.9400000000000001, 'cluster_idx': 4},\n",
              " 32: {'accuracy': 0.9533333333333334, 'cluster_idx': 0},\n",
              " 33: {'accuracy': 0.96, 'cluster_idx': 1},\n",
              " 34: {'accuracy': 0.9466666666666667, 'cluster_idx': 0},\n",
              " 35: {'accuracy': 0.9533333333333334, 'cluster_idx': 4},\n",
              " 36: {'accuracy': 0.9466666666666667, 'cluster_idx': 3},\n",
              " 37: {'accuracy': 0.96, 'cluster_idx': 2},\n",
              " 38: {'accuracy': 0.9600000000000002, 'cluster_idx': 4},\n",
              " 39: {'accuracy': 0.9533333333333334, 'cluster_idx': 2},\n",
              " 40: {'accuracy': 0.9466666666666667, 'cluster_idx': 3},\n",
              " 41: {'accuracy': 0.9400000000000001, 'cluster_idx': 4},\n",
              " 42: {'accuracy': 0.9466666666666667, 'cluster_idx': 4},\n",
              " 43: {'accuracy': 0.9399999999999998, 'cluster_idx': 4},\n",
              " 44: {'accuracy': 0.9333333333333333, 'cluster_idx': 0},\n",
              " 45: {'accuracy': 0.9400000000000001, 'cluster_idx': 0},\n",
              " 46: {'accuracy': 0.9533333333333334, 'cluster_idx': 1},\n",
              " 47: {'accuracy': 0.9800000000000001, 'cluster_idx': 1},\n",
              " 48: {'accuracy': 0.9200000000000002, 'cluster_idx': 0},\n",
              " 49: {'accuracy': 0.9333333333333332, 'cluster_idx': 1},\n",
              " 50: {'accuracy': 0.9333333333333333, 'cluster_idx': 2},\n",
              " 51: {'accuracy': 0.9400000000000001, 'cluster_idx': 1},\n",
              " 52: {'accuracy': 0.9466666666666667, 'cluster_idx': 2},\n",
              " 53: {'accuracy': 0.9466666666666667, 'cluster_idx': 2},\n",
              " 54: {'accuracy': 0.9600000000000002, 'cluster_idx': 0},\n",
              " 55: {'accuracy': 0.9600000000000002, 'cluster_idx': 4},\n",
              " 56: {'accuracy': 0.9666666666666668, 'cluster_idx': 1},\n",
              " 57: {'accuracy': 0.9400000000000001, 'cluster_idx': 2},\n",
              " 58: {'accuracy': 0.9666666666666668, 'cluster_idx': 1},\n",
              " 59: {'accuracy': 0.9266666666666665, 'cluster_idx': 1},\n",
              " 60: {'accuracy': 0.96, 'cluster_idx': 0},\n",
              " 61: {'accuracy': 0.9533333333333334, 'cluster_idx': 0},\n",
              " 62: {'accuracy': 0.9600000000000002, 'cluster_idx': 1},\n",
              " 63: {'accuracy': 0.9400000000000001, 'cluster_idx': 1},\n",
              " 64: {'accuracy': 0.9466666666666667, 'cluster_idx': 0},\n",
              " 65: {'accuracy': 0.9333333333333333, 'cluster_idx': 1},\n",
              " 66: {'accuracy': 0.9466666666666665, 'cluster_idx': 4},\n",
              " 67: {'accuracy': 0.9666666666666668, 'cluster_idx': 0},\n",
              " 68: {'accuracy': 0.96, 'cluster_idx': 2},\n",
              " 69: {'accuracy': 0.96, 'cluster_idx': 2},\n",
              " 70: {'accuracy': 0.9400000000000001, 'cluster_idx': 2},\n",
              " 71: {'accuracy': 0.9533333333333334, 'cluster_idx': 3},\n",
              " 72: {'accuracy': 0.9600000000000002, 'cluster_idx': 0},\n",
              " 73: {'accuracy': 0.9466666666666667, 'cluster_idx': 0},\n",
              " 74: {'accuracy': 0.9266666666666665, 'cluster_idx': 4},\n",
              " 75: {'accuracy': 0.9333333333333333, 'cluster_idx': 2},\n",
              " 76: {'accuracy': 0.9133333333333333, 'cluster_idx': 3},\n",
              " 77: {'accuracy': 0.96, 'cluster_idx': 4},\n",
              " 78: {'accuracy': 0.9333333333333333, 'cluster_idx': 3},\n",
              " 79: {'accuracy': 0.9400000000000001, 'cluster_idx': 2},\n",
              " 80: {'accuracy': 0.9533333333333334, 'cluster_idx': 0},\n",
              " 81: {'accuracy': 0.9533333333333334, 'cluster_idx': 0},\n",
              " 82: {'accuracy': 0.9066666666666666, 'cluster_idx': 1},\n",
              " 83: {'accuracy': 0.9400000000000001, 'cluster_idx': 0},\n",
              " 84: {'accuracy': 0.9266666666666665, 'cluster_idx': 2},\n",
              " 85: {'accuracy': 0.9399999999999998, 'cluster_idx': 3},\n",
              " 86: {'accuracy': 0.9333333333333333, 'cluster_idx': 3},\n",
              " 87: {'accuracy': 0.9399999999999998, 'cluster_idx': 1},\n",
              " 88: {'accuracy': 0.9733333333333334, 'cluster_idx': 0},\n",
              " 89: {'accuracy': 0.9600000000000002, 'cluster_idx': 2},\n",
              " 90: {'accuracy': 0.9533333333333334, 'cluster_idx': 3},\n",
              " 91: {'accuracy': 0.9466666666666667, 'cluster_idx': 4},\n",
              " 92: {'accuracy': 0.9466666666666667, 'cluster_idx': 0},\n",
              " 93: {'accuracy': 0.9533333333333334, 'cluster_idx': 1},\n",
              " 94: {'accuracy': 0.9600000000000002, 'cluster_idx': 1},\n",
              " 95: {'accuracy': 0.9533333333333334, 'cluster_idx': 2},\n",
              " 96: {'accuracy': 0.9466666666666667, 'cluster_idx': 0},\n",
              " 97: {'accuracy': 0.9666666666666668, 'cluster_idx': 1},\n",
              " 98: {'accuracy': 0.9600000000000002, 'cluster_idx': 1},\n",
              " 99: {'accuracy': 0.9533333333333334, 'cluster_idx': 0}}"
            ]
          },
          "metadata": {},
          "execution_count": 81
        }
      ]
    },
    {
      "cell_type": "code",
      "execution_count": null,
      "metadata": {
        "id": "tXGhTURny7i_",
        "colab": {
          "base_uri": "https://localhost:8080/"
        },
        "outputId": "cc44b67f-c413-4a74-bcc2-5787fda362d1"
      },
      "outputs": [
        {
          "output_type": "stream",
          "name": "stdout",
          "text": [
            "0.9800000000000001 1\n",
            "List of clusters with maximum accuracy is:\n",
            "\n",
            "Cluster index,Maximum accuracy,decision tree\n",
            " [[0, 0.9533333333333334, 2], [0, 0.9666666666666668, 12], [1, 0.9600000000000002, 5], [1, 0.9666666666666668, 9], [1, 0.9800000000000001, 47], [4, 0.9600000000000002, 8], [4, 0.9666666666666668, 26]]\n"
          ]
        }
      ],
      "source": [
        "max_acc = -1\n",
        "max_acc_in_cluster = -1\n",
        "idx = \"\"\n",
        "lists = []\n",
        "list1 = []\n",
        "res = set()\n",
        "dicts = prf.info\n",
        "for k, subdict in dicts.items():\n",
        "      res.add(subdict['cluster_idx'])\n",
        "      if subdict['accuracy'] >= max_acc:\n",
        "        max_acc = subdict['accuracy']\n",
        "        idx = subdict['cluster_idx']\n",
        "        lists.append([max_acc,idx, k])\n",
        "        for i in range(len(res)):\n",
        "          if i == idx:\n",
        "            list1.append([i,max_acc,k])\n",
        "\n",
        "print(max_acc, idx)\n",
        "result = set([c for a, c, t in lists])\n",
        "result\n",
        "print(\"List of clusters with maximum accuracy is:\\n\")\n",
        "print(\"Cluster index,Maximum accuracy,decision tree\\n\",sorted(list1))\n",
        "\n",
        "#for each cluster get max acc nd tree to be selected as representsative\n",
        "#once all the cluster representatives are found ..remove all others ..prune function\n",
        "# calculated overall performance of random forest again-challenging"
      ]
    },
    {
      "cell_type": "code",
      "source": [
        "# Highest acuracy selection-Cluster Representative\n",
        "def getMaxAccuracyCluster(dicts):\n",
        "    clusterObj = {}\n",
        "    for key, value in dicts.items():\n",
        "      if(clusterObj.get(str(value[\"cluster_idx\"])) != None):\n",
        "        clusterObj[str(value[\"cluster_idx\"])].append({\"index\" : key, \"accuracy\" : value['accuracy']})\n",
        "      else:\n",
        "        clusterObj[str(value[\"cluster_idx\"])] = []\n",
        "        clusterObj[str(value[\"cluster_idx\"])].append({\"index\" : key, \"accuracy\" : value['accuracy']})\n",
        "    #Restructured the object so the key for dictionary is cluster_idx\n",
        "    #Now you can access all the accuracies of cluster as below\n",
        "    #print(clusterObj[\"2\"])\n",
        "    clusterMaxAccuracyObj = {}\n",
        "    for clusterIndex in clusterObj.keys():\n",
        "      max_acc = -1;\n",
        "      for obj in clusterObj[clusterIndex]:\n",
        "        if obj['accuracy'] == max_acc:\n",
        "          clusterMaxAccuracyObj[str(clusterIndex)].append(obj['index'])\n",
        "        if obj['accuracy'] > max_acc:\n",
        "          max_acc = obj['accuracy']\n",
        "          clusterMaxAccuracyObj[str(clusterIndex)] = []\n",
        "          clusterMaxAccuracyObj[str(clusterIndex)].append(obj['index'])\n",
        "    print(clusterMaxAccuracyObj)\n",
        "    dict1 = {}\n",
        "    print(\"Selecting first maximum accuracy of a decision tree in each cluster:\")\n",
        "    for key,val in clusterMaxAccuracyObj.items():\n",
        "      output = {key : val[0]}\n",
        "      print(output)\n",
        "    return clusterMaxAccuracyObj"
      ],
      "metadata": {
        "id": "WW3VvbO-6Yah"
      },
      "execution_count": null,
      "outputs": []
    },
    {
      "cell_type": "code",
      "source": [
        "getMaxAccuracyCluster(prf.info)"
      ],
      "metadata": {
        "colab": {
          "base_uri": "https://localhost:8080/"
        },
        "id": "QQ__aUK-fUXj",
        "outputId": "c22d1923-bb80-48eb-906c-04db447e4309"
      },
      "execution_count": null,
      "outputs": [
        {
          "output_type": "stream",
          "name": "stdout",
          "text": [
            "{'4': [26], '3': [3, 71, 90], '0': [88], '1': [47], '2': [89]}\n",
            "Selecting first maximum accuracy of a decision tree in each cluster:\n",
            "{'4': 26}\n",
            "{'3': 3}\n",
            "{'0': 88}\n",
            "{'1': 47}\n",
            "{'2': 89}\n"
          ]
        },
        {
          "output_type": "execute_result",
          "data": {
            "text/plain": [
              "{'0': [88], '1': [47], '2': [89], '3': [3, 71, 90], '4': [26]}"
            ]
          },
          "metadata": {},
          "execution_count": 84
        }
      ]
    },
    {
      "cell_type": "code",
      "source": [
        "prf.decision_trees[0].predict(X)"
      ],
      "metadata": {
        "colab": {
          "base_uri": "https://localhost:8080/"
        },
        "id": "YnvPjJ_fUmQt",
        "outputId": "105e11e9-8462-4f50-9dc2-ef5e5c4218bc"
      },
      "execution_count": null,
      "outputs": [
        {
          "output_type": "execute_result",
          "data": {
            "text/plain": [
              "array([0., 0., 0., 0., 0., 0., 0., 0., 0., 0., 0., 0., 0., 0., 0., 0., 0.,\n",
              "       0., 0., 0., 0., 0., 0., 0., 0., 0., 0., 0., 0., 0., 0., 0., 0., 0.,\n",
              "       0., 0., 0., 0., 0., 0., 0., 0., 0., 0., 0., 0., 0., 0., 0., 0., 1.,\n",
              "       1., 1., 1., 1., 1., 1., 1., 1., 1., 1., 1., 1., 1., 1., 1., 1., 1.,\n",
              "       1., 1., 1., 1., 1., 1., 1., 1., 1., 1., 1., 1., 1., 1., 1., 1., 1.,\n",
              "       1., 1., 1., 1., 1., 1., 1., 1., 1., 1., 1., 1., 1., 1., 1., 2., 2.,\n",
              "       2., 2., 2., 2., 1., 2., 2., 2., 2., 2., 2., 2., 2., 2., 2., 2., 2.,\n",
              "       2., 2., 2., 2., 2., 2., 2., 2., 2., 2., 2., 2., 2., 2., 2., 2., 2.,\n",
              "       2., 2., 2., 2., 2., 2., 2., 2., 2., 2., 2., 2., 2., 2.])"
            ]
          },
          "metadata": {},
          "execution_count": 85
        }
      ]
    },
    {
      "cell_type": "code",
      "source": [
        "def getTreeList(X, dicts):\n",
        "    treeIdxs = []\n",
        "    for trees in dicts.values():\n",
        "        treeIdxs.append(trees[0])\n",
        "    return treeIdxs\n",
        "\n",
        "stored_ypred = []\n",
        "def predict(X, treeList, prf):\n",
        "    ypred = []\n",
        "    for treeIdx in treeList:\n",
        "        print(prf.decision_trees[treeIdx].predict(X))\n",
        "        ypred.append(prf.decision_trees[treeIdx].predict(X))\n",
        "    stored_ypred.append(ypred)\n",
        "    print(type(ypred))\n",
        "    return getMajorityLabels(ypred)\n",
        "\n",
        "def getMajorityLabels(pred):\n",
        "    predNp = np.array(pred)\n",
        "    rows,cols = predNp.shape\n",
        "    res = []\n",
        "    for colIdx in range(cols):\n",
        "        col = list(predNp[:, colIdx])\n",
        "        res.append(max(set(col), key = col.count))\n",
        "    return res\n",
        "\n",
        "\n"
      ],
      "metadata": {
        "id": "dnbQIEqiEq29"
      },
      "execution_count": null,
      "outputs": []
    },
    {
      "cell_type": "code",
      "source": [
        "%time\n",
        "treeList = getTreeList(X, getMaxAccuracyCluster(prf.info))\n",
        "# print(prf)\n",
        "# print(type(prf))\n",
        "# print(treeList)\n",
        "# print(X)\n",
        "# predict(X, treeList, prf)\n",
        "#print(prf.decision_trees[0].predict(X_test))\n",
        "\n",
        "y_preed = predict(X_test, treeList, prf)\n",
        "\n",
        "print(\"final answer = \", y_preed)\n",
        "# max_value=-1\n",
        "# stored_ypred = stored_ypred[0]\n",
        "# print(stored_ypred)\n",
        "\n",
        "# for i in range(len(stored_ypred[0])):\n",
        "#   final_flag = []\n",
        "#   flags = {}\n",
        "#   for j in range(len(stored_ypred)):\n",
        "#     if(flags.get(str(stored_ypred[j][i])) != None):\n",
        "#       flags[str(stored_ypred[j][i])] = flags.get(str(stored_ypred[j][i])) + 1\n",
        "#     else:\n",
        "#       flags[str(stored_ypred[j][i])] = 1\n",
        "#     final_flag.append(str(stored_ypred[j][i]))\n",
        "#   print(flags)\n",
        "#   print(final_flag)\n",
        "#   # for dicts in flags:\n",
        "#   #   if dicts.values()> max_value:\n",
        "#   #     max_value = dicts.values()\n",
        "#   #     final_flag.append([dicts.key(),max_value])\n",
        "#   # print(final_flag)\n",
        "\n",
        "\n",
        "  \n",
        "print(\"testing target data:\",y_test)\n",
        "  \n",
        "print(\"Accuracy:\",metrics.accuracy_score(y_test, y_preed))"
      ],
      "metadata": {
        "colab": {
          "base_uri": "https://localhost:8080/"
        },
        "id": "HcSWuOugEsLR",
        "outputId": "87e9c1c5-1da9-4c8b-825d-94066e57fa57"
      },
      "execution_count": null,
      "outputs": [
        {
          "output_type": "stream",
          "name": "stdout",
          "text": [
            "CPU times: user 5 µs, sys: 0 ns, total: 5 µs\n",
            "Wall time: 10 µs\n",
            "{'4': [26], '3': [3, 71, 90], '0': [88], '1': [47], '2': [89]}\n",
            "Selecting first maximum accuracy of a decision tree in each cluster:\n",
            "{'4': 26}\n",
            "{'3': 3}\n",
            "{'0': 88}\n",
            "{'1': 47}\n",
            "{'2': 89}\n",
            "[2. 1. 0. 0. 2. 0. 0. 2. 1. 0. 0. 2. 2. 2. 2. 0. 1. 2. 0. 0. 2. 2. 2. 1.\n",
            " 1. 2. 2. 2. 1. 0. 2. 1. 2. 1. 2. 0. 2. 1. 0. 1. 2. 0. 1. 1. 1.]\n",
            "[2. 1. 0. 0. 2. 0. 0. 2. 1. 0. 0. 2. 2. 2. 2. 0. 1. 1. 0. 0. 2. 2. 2. 1.\n",
            " 1. 2. 2. 2. 1. 0. 2. 1. 2. 1. 2. 0. 2. 1. 0. 1. 1. 0. 1. 1. 1.]\n",
            "[2. 1. 0. 0. 2. 0. 0. 2. 1. 0. 0. 2. 2. 2. 2. 0. 1. 1. 0. 0. 2. 2. 2. 1.\n",
            " 1. 2. 2. 1. 1. 0. 2. 1. 2. 1. 2. 0. 2. 1. 0. 1. 2. 0. 1. 1. 1.]\n",
            "[2. 1. 0. 0. 2. 0. 0. 2. 1. 0. 0. 2. 2. 2. 2. 0. 1. 1. 0. 0. 2. 2. 2. 1.\n",
            " 1. 2. 2. 2. 1. 0. 2. 2. 2. 1. 2. 0. 2. 1. 0. 1. 2. 0. 1. 1. 1.]\n",
            "[2. 1. 0. 0. 2. 0. 0. 2. 1. 0. 0. 2. 2. 2. 2. 0. 1. 1. 0. 0. 2. 2. 2. 1.\n",
            " 1. 2. 2. 2. 1. 0. 2. 2. 2. 1. 2. 0. 2. 1. 0. 1. 2. 0. 1. 1. 1.]\n",
            "<class 'list'>\n",
            "final answer =  [2.0, 1.0, 0.0, 0.0, 2.0, 0.0, 0.0, 2.0, 1.0, 0.0, 0.0, 2.0, 2.0, 2.0, 2.0, 0.0, 1.0, 1.0, 0.0, 0.0, 2.0, 2.0, 2.0, 1.0, 1.0, 2.0, 2.0, 2.0, 1.0, 0.0, 2.0, 1.0, 2.0, 1.0, 2.0, 0.0, 2.0, 1.0, 0.0, 1.0, 2.0, 0.0, 1.0, 1.0, 1.0]\n",
            "testing target data: [2 1 0 0 2 0 0 2 1 0 0 2 2 2 2 0 1 1 0 0 2 2 2 1 1 2 2 2 1 0 2 1 2 1 2 0 2\n",
            " 1 0 1 2 0 1 1 1]\n",
            "Accuracy: 1.0\n"
          ]
        }
      ]
    },
    {
      "cell_type": "markdown",
      "source": [
        "Most repeated accuracy selection-Mode\n",
        "Average accuracy selection-mean\n",
        "Choosing the middle value after sorting the accuracy-median\n",
        "Apart from accuracy-what else can be chosen for performance evaluation in decision tree???\n",
        "Next step? Pruning? How to evaluate performance after pruning?\n"
      ],
      "metadata": {
        "id": "E7zbgf29hYWJ"
      }
    },
    {
      "cell_type": "code",
      "source": [
        "prf1.info"
      ],
      "metadata": {
        "id": "p5RoK52lis_z",
        "colab": {
          "base_uri": "https://localhost:8080/"
        },
        "outputId": "932c022d-7257-4048-ffda-7e4550d6acac"
      },
      "execution_count": null,
      "outputs": [
        {
          "output_type": "execute_result",
          "data": {
            "text/plain": [
              "{0: {'accuracy': 0.9399999999999998, 'cluster_idx': 0},\n",
              " 1: {'accuracy': 0.9600000000000002, 'cluster_idx': 2},\n",
              " 2: {'accuracy': 0.96, 'cluster_idx': 1},\n",
              " 3: {'accuracy': 0.9666666666666668, 'cluster_idx': 0},\n",
              " 4: {'accuracy': 0.9666666666666668, 'cluster_idx': 1},\n",
              " 5: {'accuracy': 0.9533333333333334, 'cluster_idx': 0},\n",
              " 6: {'accuracy': 0.9266666666666667, 'cluster_idx': 0},\n",
              " 7: {'accuracy': 0.96, 'cluster_idx': 4},\n",
              " 8: {'accuracy': 0.96, 'cluster_idx': 0},\n",
              " 9: {'accuracy': 0.96, 'cluster_idx': 0},\n",
              " 10: {'accuracy': 0.9399999999999998, 'cluster_idx': 3},\n",
              " 11: {'accuracy': 0.9466666666666667, 'cluster_idx': 4},\n",
              " 12: {'accuracy': 0.9666666666666668, 'cluster_idx': 1},\n",
              " 13: {'accuracy': 0.9600000000000002, 'cluster_idx': 0},\n",
              " 14: {'accuracy': 0.9533333333333334, 'cluster_idx': 2},\n",
              " 15: {'accuracy': 0.9666666666666668, 'cluster_idx': 0},\n",
              " 16: {'accuracy': 0.9466666666666667, 'cluster_idx': 1},\n",
              " 17: {'accuracy': 0.9533333333333334, 'cluster_idx': 1},\n",
              " 18: {'accuracy': 0.9666666666666668, 'cluster_idx': 2},\n",
              " 19: {'accuracy': 0.9533333333333334, 'cluster_idx': 3},\n",
              " 20: {'accuracy': 0.9399999999999998, 'cluster_idx': 0},\n",
              " 21: {'accuracy': 0.9600000000000002, 'cluster_idx': 0},\n",
              " 22: {'accuracy': 0.9600000000000002, 'cluster_idx': 0},\n",
              " 23: {'accuracy': 0.9400000000000001, 'cluster_idx': 2},\n",
              " 24: {'accuracy': 0.9533333333333334, 'cluster_idx': 4},\n",
              " 25: {'accuracy': 0.9466666666666667, 'cluster_idx': 4},\n",
              " 26: {'accuracy': 0.9400000000000001, 'cluster_idx': 0},\n",
              " 27: {'accuracy': 0.9466666666666667, 'cluster_idx': 1},\n",
              " 28: {'accuracy': 0.9200000000000002, 'cluster_idx': 2},\n",
              " 29: {'accuracy': 0.9466666666666667, 'cluster_idx': 2},\n",
              " 30: {'accuracy': 0.9400000000000001, 'cluster_idx': 0},\n",
              " 31: {'accuracy': 0.9399999999999998, 'cluster_idx': 0},\n",
              " 32: {'accuracy': 0.9600000000000002, 'cluster_idx': 2},\n",
              " 33: {'accuracy': 0.9666666666666668, 'cluster_idx': 0},\n",
              " 34: {'accuracy': 0.9399999999999998, 'cluster_idx': 2},\n",
              " 35: {'accuracy': 0.9466666666666667, 'cluster_idx': 2},\n",
              " 36: {'accuracy': 0.9333333333333333, 'cluster_idx': 2},\n",
              " 37: {'accuracy': 0.9400000000000001, 'cluster_idx': 3},\n",
              " 38: {'accuracy': 0.9666666666666668, 'cluster_idx': 0},\n",
              " 39: {'accuracy': 0.9399999999999998, 'cluster_idx': 4},\n",
              " 40: {'accuracy': 0.9466666666666667, 'cluster_idx': 4},\n",
              " 41: {'accuracy': 0.9466666666666667, 'cluster_idx': 0},\n",
              " 42: {'accuracy': 0.9466666666666667, 'cluster_idx': 2},\n",
              " 43: {'accuracy': 0.9400000000000001, 'cluster_idx': 4},\n",
              " 44: {'accuracy': 0.9400000000000001, 'cluster_idx': 0},\n",
              " 45: {'accuracy': 0.9399999999999998, 'cluster_idx': 1},\n",
              " 46: {'accuracy': 0.9533333333333334, 'cluster_idx': 3},\n",
              " 47: {'accuracy': 0.96, 'cluster_idx': 0},\n",
              " 48: {'accuracy': 0.9466666666666667, 'cluster_idx': 1},\n",
              " 49: {'accuracy': 0.9533333333333334, 'cluster_idx': 1},\n",
              " 50: {'accuracy': 0.9466666666666667, 'cluster_idx': 2},\n",
              " 51: {'accuracy': 0.9600000000000002, 'cluster_idx': 0},\n",
              " 52: {'accuracy': 0.9333333333333332, 'cluster_idx': 0},\n",
              " 53: {'accuracy': 0.9399999999999998, 'cluster_idx': 2},\n",
              " 54: {'accuracy': 0.9399999999999998, 'cluster_idx': 1},\n",
              " 55: {'accuracy': 0.9666666666666668, 'cluster_idx': 1},\n",
              " 56: {'accuracy': 0.9600000000000002, 'cluster_idx': 0},\n",
              " 57: {'accuracy': 0.9466666666666667, 'cluster_idx': 1},\n",
              " 58: {'accuracy': 0.96, 'cluster_idx': 4},\n",
              " 59: {'accuracy': 0.9600000000000002, 'cluster_idx': 0},\n",
              " 60: {'accuracy': 0.9533333333333334, 'cluster_idx': 2},\n",
              " 61: {'accuracy': 0.9333333333333333, 'cluster_idx': 1},\n",
              " 62: {'accuracy': 0.9400000000000001, 'cluster_idx': 4},\n",
              " 63: {'accuracy': 0.9466666666666667, 'cluster_idx': 1},\n",
              " 64: {'accuracy': 0.96, 'cluster_idx': 2},\n",
              " 65: {'accuracy': 0.9666666666666668, 'cluster_idx': 0},\n",
              " 66: {'accuracy': 0.9400000000000001, 'cluster_idx': 2},\n",
              " 67: {'accuracy': 0.9466666666666667, 'cluster_idx': 0},\n",
              " 68: {'accuracy': 0.9400000000000001, 'cluster_idx': 1},\n",
              " 69: {'accuracy': 0.9266666666666665, 'cluster_idx': 0},\n",
              " 70: {'accuracy': 0.9666666666666668, 'cluster_idx': 1},\n",
              " 71: {'accuracy': 0.9399999999999998, 'cluster_idx': 0},\n",
              " 72: {'accuracy': 0.9666666666666668, 'cluster_idx': 2},\n",
              " 73: {'accuracy': 0.9466666666666667, 'cluster_idx': 3},\n",
              " 74: {'accuracy': 0.9600000000000002, 'cluster_idx': 4},\n",
              " 75: {'accuracy': 0.9199999999999999, 'cluster_idx': 2},\n",
              " 76: {'accuracy': 0.9333333333333332, 'cluster_idx': 2},\n",
              " 77: {'accuracy': 0.9333333333333333, 'cluster_idx': 1},\n",
              " 78: {'accuracy': 0.9133333333333333, 'cluster_idx': 2},\n",
              " 79: {'accuracy': 0.9333333333333333, 'cluster_idx': 3},\n",
              " 80: {'accuracy': 0.96, 'cluster_idx': 1},\n",
              " 81: {'accuracy': 0.9600000000000002, 'cluster_idx': 0},\n",
              " 82: {'accuracy': 0.9533333333333334, 'cluster_idx': 0},\n",
              " 83: {'accuracy': 0.9466666666666667, 'cluster_idx': 1},\n",
              " 84: {'accuracy': 0.9399999999999998, 'cluster_idx': 0},\n",
              " 85: {'accuracy': 0.9266666666666665, 'cluster_idx': 0},\n",
              " 86: {'accuracy': 0.9533333333333334, 'cluster_idx': 0},\n",
              " 87: {'accuracy': 0.9400000000000001, 'cluster_idx': 2},\n",
              " 88: {'accuracy': 0.9266666666666665, 'cluster_idx': 0},\n",
              " 89: {'accuracy': 0.9466666666666667, 'cluster_idx': 0},\n",
              " 90: {'accuracy': 0.96, 'cluster_idx': 4},\n",
              " 91: {'accuracy': 0.9533333333333334, 'cluster_idx': 1},\n",
              " 92: {'accuracy': 0.9533333333333334, 'cluster_idx': 2},\n",
              " 93: {'accuracy': 0.9533333333333334, 'cluster_idx': 0},\n",
              " 94: {'accuracy': 0.9600000000000002, 'cluster_idx': 1},\n",
              " 95: {'accuracy': 0.9466666666666667, 'cluster_idx': 1},\n",
              " 96: {'accuracy': 0.9400000000000001, 'cluster_idx': 2},\n",
              " 97: {'accuracy': 0.9533333333333334, 'cluster_idx': 2},\n",
              " 98: {'accuracy': 0.9466666666666667, 'cluster_idx': 1},\n",
              " 99: {'accuracy': 0.9600000000000002, 'cluster_idx': 0}}"
            ]
          },
          "metadata": {},
          "execution_count": 88
        }
      ]
    },
    {
      "cell_type": "code",
      "execution_count": null,
      "metadata": {
        "id": "6Y8_j6BElPT4",
        "colab": {
          "base_uri": "https://localhost:8080/"
        },
        "outputId": "faae488e-6ceb-45a8-e939-ce4ec1c8d9ac"
      },
      "outputs": [
        {
          "output_type": "stream",
          "name": "stdout",
          "text": [
            "{'0': [3, 15, 33, 38, 65], '2': [18, 72], '1': [4, 12, 55, 70], '4': [74], '3': [19, 46]}\n",
            "Selecting first maximum accuracy of a decision tree in each cluster:\n",
            "{'0': 3}\n",
            "{'2': 18}\n",
            "{'1': 4}\n",
            "{'4': 74}\n",
            "{'3': 19}\n"
          ]
        },
        {
          "output_type": "execute_result",
          "data": {
            "text/plain": [
              "{'0': [3, 15, 33, 38, 65],\n",
              " '1': [4, 12, 55, 70],\n",
              " '2': [18, 72],\n",
              " '3': [19, 46],\n",
              " '4': [74]}"
            ]
          },
          "metadata": {},
          "execution_count": 89
        }
      ],
      "source": [
        "#dbscan\n",
        "getMaxAccuracyCluster(prf1.info)"
      ]
    },
    {
      "cell_type": "code",
      "source": [
        "treeList = getTreeList(X, getMaxAccuracyCluster(prf1.info))\n",
        "\n",
        "y_preed = predict(X_test, treeList, prf1)\n",
        "\n",
        "print(\"final answer = \", y_preed)\n",
        "print(y_test)\n",
        "  \n",
        "print(\"Accuracy:\",metrics.accuracy_score(y_test, y_preed))"
      ],
      "metadata": {
        "id": "bX5EdMw-AXHc",
        "colab": {
          "base_uri": "https://localhost:8080/"
        },
        "outputId": "8f2eba81-22f7-4988-d584-d28ba3f3bbe5"
      },
      "execution_count": null,
      "outputs": [
        {
          "output_type": "stream",
          "name": "stdout",
          "text": [
            "{'0': [3, 15, 33, 38, 65], '2': [18, 72], '1': [4, 12, 55, 70], '4': [74], '3': [19, 46]}\n",
            "Selecting first maximum accuracy of a decision tree in each cluster:\n",
            "{'0': 3}\n",
            "{'2': 18}\n",
            "{'1': 4}\n",
            "{'4': 74}\n",
            "{'3': 19}\n",
            "[1. 0. 1. 1. 1. 0. 1. 0. 1. 0. 1. 1. 0. 0. 2. 2. 0. 2. 2. 2. 2. 1. 1. 2.\n",
            " 0. 2. 2. 2. 1. 1. 1. 2. 0. 2. 1. 0. 0. 1. 1. 2. 2. 1. 0. 1. 1.]\n",
            "[1. 0. 1. 1. 1. 0. 1. 0. 1. 0. 1. 1. 0. 0. 1. 2. 0. 2. 2. 2. 2. 1. 1. 2.\n",
            " 0. 2. 2. 2. 1. 1. 1. 2. 0. 2. 1. 0. 0. 1. 1. 2. 2. 1. 0. 1. 1.]\n",
            "[1. 0. 1. 1. 1. 0. 1. 0. 1. 0. 1. 1. 0. 0. 2. 2. 0. 2. 2. 2. 2. 1. 2. 2.\n",
            " 0. 2. 2. 2. 1. 1. 1. 2. 0. 2. 1. 0. 0. 1. 1. 2. 2. 1. 0. 1. 1.]\n",
            "[1. 0. 1. 1. 1. 0. 1. 0. 1. 0. 1. 1. 0. 0. 2. 2. 0. 2. 2. 1. 2. 1. 2. 2.\n",
            " 0. 2. 2. 2. 1. 1. 1. 2. 0. 2. 1. 0. 0. 1. 1. 2. 2. 1. 0. 1. 1.]\n",
            "[1. 0. 1. 1. 1. 0. 1. 0. 1. 0. 1. 1. 0. 0. 1. 2. 0. 2. 2. 2. 2. 1. 2. 2.\n",
            " 0. 2. 2. 2. 1. 1. 1. 2. 0. 2. 1. 0. 0. 1. 2. 2. 2. 1. 0. 1. 1.]\n",
            "<class 'list'>\n",
            "final answer =  [1.0, 0.0, 1.0, 1.0, 1.0, 0.0, 1.0, 0.0, 1.0, 0.0, 1.0, 1.0, 0.0, 0.0, 2.0, 2.0, 0.0, 2.0, 2.0, 2.0, 2.0, 1.0, 2.0, 2.0, 0.0, 2.0, 2.0, 2.0, 1.0, 1.0, 1.0, 2.0, 0.0, 2.0, 1.0, 0.0, 0.0, 1.0, 1.0, 2.0, 2.0, 1.0, 0.0, 1.0, 1.0]\n",
            "[1 0 1 1 1 0 1 0 1 0 1 1 0 0 1 2 0 2 2 2 2 1 2 2 0 2 2 2 1 1 1 2 0 2 1 0 0\n",
            " 1 1 2 2 1 0 1 1]\n",
            "Accuracy: 0.9777777777777777\n"
          ]
        }
      ]
    },
    {
      "cell_type": "markdown",
      "source": [
        "sample->output(class label)\n",
        "\n",
        "list of samples(vectors)->list of classes-predicted ones\n",
        "\n",
        "actual values->target \n",
        "\n",
        "compare(target,predicted)->accuracy\n",
        "\n",
        "compare the accuracy of 100 trees using random forest and the accuracy of 6 trees formed in the end\n",
        "\n",
        "aprt from accuracy, most seperated distance between two decision trees in each cluster"
      ],
      "metadata": {
        "id": "fzXC7mFilL-B"
      }
    },
    {
      "cell_type": "code",
      "execution_count": null,
      "metadata": {
        "id": "SMnACRQnjXhJ",
        "colab": {
          "base_uri": "https://localhost:8080/"
        },
        "outputId": "62d09f82-8ab6-4ecd-f373-72cf1cee357e"
      },
      "outputs": [
        {
          "output_type": "execute_result",
          "data": {
            "text/plain": [
              "{0: {'accuracy': 0.9600000000000002, 'cluster_idx': 1},\n",
              " 1: {'accuracy': 0.9533333333333334, 'cluster_idx': 3},\n",
              " 2: {'accuracy': 0.9266666666666665, 'cluster_idx': 0},\n",
              " 3: {'accuracy': 0.9533333333333334, 'cluster_idx': 2},\n",
              " 4: {'accuracy': 0.9400000000000001, 'cluster_idx': 0},\n",
              " 5: {'accuracy': 0.9533333333333334, 'cluster_idx': 2},\n",
              " 6: {'accuracy': 0.9533333333333334, 'cluster_idx': 2},\n",
              " 7: {'accuracy': 0.9733333333333334, 'cluster_idx': 0},\n",
              " 8: {'accuracy': 0.9533333333333334, 'cluster_idx': 1},\n",
              " 9: {'accuracy': 0.9266666666666665, 'cluster_idx': 2},\n",
              " 10: {'accuracy': 0.9533333333333334, 'cluster_idx': 3},\n",
              " 11: {'accuracy': 0.9600000000000002, 'cluster_idx': 0},\n",
              " 12: {'accuracy': 0.9533333333333334, 'cluster_idx': 4},\n",
              " 13: {'accuracy': 0.9400000000000001, 'cluster_idx': 0},\n",
              " 14: {'accuracy': 0.9400000000000001, 'cluster_idx': 4},\n",
              " 15: {'accuracy': 0.9333333333333332, 'cluster_idx': 2},\n",
              " 16: {'accuracy': 0.9266666666666665, 'cluster_idx': 4},\n",
              " 17: {'accuracy': 0.9600000000000002, 'cluster_idx': 0},\n",
              " 18: {'accuracy': 0.96, 'cluster_idx': 3},\n",
              " 19: {'accuracy': 0.9533333333333334, 'cluster_idx': 3},\n",
              " 20: {'accuracy': 0.9600000000000002, 'cluster_idx': 0},\n",
              " 21: {'accuracy': 0.9466666666666667, 'cluster_idx': 0},\n",
              " 22: {'accuracy': 0.9533333333333334, 'cluster_idx': 3},\n",
              " 23: {'accuracy': 0.96, 'cluster_idx': 1},\n",
              " 24: {'accuracy': 0.9333333333333332, 'cluster_idx': 1},\n",
              " 25: {'accuracy': 0.9399999999999998, 'cluster_idx': 3},\n",
              " 26: {'accuracy': 0.9333333333333332, 'cluster_idx': 3},\n",
              " 27: {'accuracy': 0.9333333333333332, 'cluster_idx': 1},\n",
              " 28: {'accuracy': 0.9666666666666668, 'cluster_idx': 0},\n",
              " 29: {'accuracy': 0.9533333333333334, 'cluster_idx': 0},\n",
              " 30: {'accuracy': 0.9466666666666667, 'cluster_idx': 3},\n",
              " 31: {'accuracy': 0.9666666666666668, 'cluster_idx': 2},\n",
              " 32: {'accuracy': 0.9733333333333334, 'cluster_idx': 0},\n",
              " 33: {'accuracy': 0.9666666666666668, 'cluster_idx': 0},\n",
              " 34: {'accuracy': 0.9666666666666668, 'cluster_idx': 0},\n",
              " 35: {'accuracy': 0.9400000000000001, 'cluster_idx': 2},\n",
              " 36: {'accuracy': 0.9533333333333334, 'cluster_idx': 4},\n",
              " 37: {'accuracy': 0.9399999999999998, 'cluster_idx': 0},\n",
              " 38: {'accuracy': 0.9266666666666665, 'cluster_idx': 2},\n",
              " 39: {'accuracy': 0.9533333333333334, 'cluster_idx': 1},\n",
              " 40: {'accuracy': 0.9333333333333333, 'cluster_idx': 3},\n",
              " 41: {'accuracy': 0.9333333333333333, 'cluster_idx': 1},\n",
              " 42: {'accuracy': 0.9533333333333334, 'cluster_idx': 0},\n",
              " 43: {'accuracy': 0.9666666666666668, 'cluster_idx': 0},\n",
              " 44: {'accuracy': 0.9266666666666665, 'cluster_idx': 2},\n",
              " 45: {'accuracy': 0.9333333333333332, 'cluster_idx': 2},\n",
              " 46: {'accuracy': 0.9533333333333334, 'cluster_idx': 1},\n",
              " 47: {'accuracy': 0.9666666666666668, 'cluster_idx': 3},\n",
              " 48: {'accuracy': 0.9466666666666667, 'cluster_idx': 0},\n",
              " 49: {'accuracy': 0.9266666666666665, 'cluster_idx': 2},\n",
              " 50: {'accuracy': 0.9533333333333334, 'cluster_idx': 0},\n",
              " 51: {'accuracy': 0.9400000000000001, 'cluster_idx': 2},\n",
              " 52: {'accuracy': 0.9400000000000001, 'cluster_idx': 3},\n",
              " 53: {'accuracy': 0.9533333333333334, 'cluster_idx': 2},\n",
              " 54: {'accuracy': 0.9466666666666667, 'cluster_idx': 0},\n",
              " 55: {'accuracy': 0.9600000000000002, 'cluster_idx': 0},\n",
              " 56: {'accuracy': 0.9533333333333334, 'cluster_idx': 1},\n",
              " 57: {'accuracy': 0.9666666666666668, 'cluster_idx': 0},\n",
              " 58: {'accuracy': 0.9333333333333333, 'cluster_idx': 0},\n",
              " 59: {'accuracy': 0.9733333333333334, 'cluster_idx': 2},\n",
              " 60: {'accuracy': 0.9533333333333335, 'cluster_idx': 4},\n",
              " 61: {'accuracy': 0.9533333333333334, 'cluster_idx': 0},\n",
              " 62: {'accuracy': 0.9333333333333333, 'cluster_idx': 0},\n",
              " 63: {'accuracy': 0.9600000000000002, 'cluster_idx': 3},\n",
              " 64: {'accuracy': 0.9533333333333334, 'cluster_idx': 2},\n",
              " 65: {'accuracy': 0.9600000000000002, 'cluster_idx': 0},\n",
              " 66: {'accuracy': 0.9533333333333334, 'cluster_idx': 2},\n",
              " 67: {'accuracy': 0.9333333333333332, 'cluster_idx': 1},\n",
              " 68: {'accuracy': 0.9600000000000002, 'cluster_idx': 1},\n",
              " 69: {'accuracy': 0.9266666666666667, 'cluster_idx': 0},\n",
              " 70: {'accuracy': 0.9400000000000001, 'cluster_idx': 2},\n",
              " 71: {'accuracy': 0.9466666666666667, 'cluster_idx': 0},\n",
              " 72: {'accuracy': 0.9466666666666665, 'cluster_idx': 2},\n",
              " 73: {'accuracy': 0.9333333333333332, 'cluster_idx': 1},\n",
              " 74: {'accuracy': 0.9600000000000002, 'cluster_idx': 0},\n",
              " 75: {'accuracy': 0.9466666666666667, 'cluster_idx': 4},\n",
              " 76: {'accuracy': 0.9133333333333333, 'cluster_idx': 1},\n",
              " 77: {'accuracy': 0.9333333333333333, 'cluster_idx': 3},\n",
              " 78: {'accuracy': 0.9466666666666667, 'cluster_idx': 0},\n",
              " 79: {'accuracy': 0.9533333333333334, 'cluster_idx': 0},\n",
              " 80: {'accuracy': 0.9466666666666667, 'cluster_idx': 0},\n",
              " 81: {'accuracy': 0.9400000000000001, 'cluster_idx': 3},\n",
              " 82: {'accuracy': 0.96, 'cluster_idx': 3},\n",
              " 83: {'accuracy': 0.9466666666666667, 'cluster_idx': 2},\n",
              " 84: {'accuracy': 0.9466666666666667, 'cluster_idx': 1},\n",
              " 85: {'accuracy': 0.9466666666666667, 'cluster_idx': 0},\n",
              " 86: {'accuracy': 0.9333333333333332, 'cluster_idx': 2},\n",
              " 87: {'accuracy': 0.9399999999999998, 'cluster_idx': 3},\n",
              " 88: {'accuracy': 0.9666666666666668, 'cluster_idx': 0},\n",
              " 89: {'accuracy': 0.9600000000000002, 'cluster_idx': 2},\n",
              " 90: {'accuracy': 0.9466666666666667, 'cluster_idx': 1},\n",
              " 91: {'accuracy': 0.9399999999999998, 'cluster_idx': 2},\n",
              " 92: {'accuracy': 0.9466666666666667, 'cluster_idx': 0},\n",
              " 93: {'accuracy': 0.9400000000000001, 'cluster_idx': 2},\n",
              " 94: {'accuracy': 0.9266666666666667, 'cluster_idx': 0},\n",
              " 95: {'accuracy': 0.9399999999999998, 'cluster_idx': 2},\n",
              " 96: {'accuracy': 0.9466666666666667, 'cluster_idx': 1},\n",
              " 97: {'accuracy': 0.9600000000000002, 'cluster_idx': 4},\n",
              " 98: {'accuracy': 0.9333333333333332, 'cluster_idx': 0},\n",
              " 99: {'accuracy': 0.9533333333333334, 'cluster_idx': 1}}"
            ]
          },
          "metadata": {},
          "execution_count": 91
        }
      ],
      "source": [
        "prf2.info"
      ]
    },
    {
      "cell_type": "code",
      "source": [
        "#agglo\n",
        "getMaxAccuracyCluster(prf2.info)"
      ],
      "metadata": {
        "id": "jhUn1XQrixZ8",
        "colab": {
          "base_uri": "https://localhost:8080/"
        },
        "outputId": "ab8b99f8-93bc-4c38-91a1-69186a491b9f"
      },
      "execution_count": null,
      "outputs": [
        {
          "output_type": "stream",
          "name": "stdout",
          "text": [
            "{'1': [0, 68], '3': [47], '0': [7, 32], '2': [59], '4': [97]}\n",
            "Selecting first maximum accuracy of a decision tree in each cluster:\n",
            "{'1': 0}\n",
            "{'3': 47}\n",
            "{'0': 7}\n",
            "{'2': 59}\n",
            "{'4': 97}\n"
          ]
        },
        {
          "output_type": "execute_result",
          "data": {
            "text/plain": [
              "{'0': [7, 32], '1': [0, 68], '2': [59], '3': [47], '4': [97]}"
            ]
          },
          "metadata": {},
          "execution_count": 92
        }
      ]
    },
    {
      "cell_type": "code",
      "source": [
        "treeList = getTreeList(X, getMaxAccuracyCluster(prf2.info))\n",
        "\n",
        "y_preed = predict(X_test, treeList, prf2)\n",
        "\n",
        "print(\"final answer = \", y_preed)\n",
        "print(y_test)\n",
        "  \n",
        "print(\"Accuracy:\",metrics.accuracy_score(y_test, y_preed))"
      ],
      "metadata": {
        "colab": {
          "base_uri": "https://localhost:8080/"
        },
        "id": "mfW-cEyypXHa",
        "outputId": "8f3f120d-9678-4e29-b7f6-3cadab03e5ee"
      },
      "execution_count": null,
      "outputs": [
        {
          "output_type": "stream",
          "name": "stdout",
          "text": [
            "{'1': [0, 68], '3': [47], '0': [7, 32], '2': [59], '4': [97]}\n",
            "Selecting first maximum accuracy of a decision tree in each cluster:\n",
            "{'1': 0}\n",
            "{'3': 47}\n",
            "{'0': 7}\n",
            "{'2': 59}\n",
            "{'4': 97}\n",
            "[1. 0. 1. 1. 1. 0. 1. 0. 1. 0. 1. 1. 0. 0. 2. 2. 0. 2. 2. 1. 2. 1. 2. 2.\n",
            " 0. 2. 2. 2. 1. 1. 1. 2. 0. 2. 1. 0. 0. 1. 1. 2. 2. 1. 0. 1. 1.]\n",
            "[1. 0. 1. 1. 1. 0. 1. 0. 1. 0. 1. 1. 0. 0. 2. 2. 0. 2. 2. 2. 2. 1. 2. 2.\n",
            " 0. 2. 2. 2. 1. 1. 1. 2. 0. 2. 1. 0. 0. 1. 1. 2. 2. 1. 0. 1. 1.]\n",
            "[1. 0. 1. 1. 1. 0. 1. 0. 1. 0. 1. 1. 0. 0. 1. 2. 0. 2. 2. 2. 2. 1. 2. 2.\n",
            " 0. 2. 2. 2. 1. 1. 1. 2. 0. 2. 1. 0. 0. 1. 1. 2. 2. 1. 0. 1. 1.]\n",
            "[1. 0. 1. 1. 1. 0. 1. 0. 1. 0. 1. 1. 0. 0. 1. 2. 0. 2. 2. 1. 2. 1. 2. 2.\n",
            " 0. 2. 2. 2. 1. 1. 1. 2. 0. 2. 1. 0. 0. 1. 2. 2. 2. 1. 0. 1. 1.]\n",
            "[1. 0. 1. 1. 1. 0. 1. 0. 1. 0. 1. 1. 0. 0. 1. 2. 0. 2. 2. 2. 2. 1. 2. 2.\n",
            " 0. 2. 2. 2. 1. 1. 1. 2. 0. 2. 1. 0. 0. 1. 2. 2. 2. 1. 0. 1. 1.]\n",
            "<class 'list'>\n",
            "final answer =  [1.0, 0.0, 1.0, 1.0, 1.0, 0.0, 1.0, 0.0, 1.0, 0.0, 1.0, 1.0, 0.0, 0.0, 1.0, 2.0, 0.0, 2.0, 2.0, 2.0, 2.0, 1.0, 2.0, 2.0, 0.0, 2.0, 2.0, 2.0, 1.0, 1.0, 1.0, 2.0, 0.0, 2.0, 1.0, 0.0, 0.0, 1.0, 1.0, 2.0, 2.0, 1.0, 0.0, 1.0, 1.0]\n",
            "[1 0 1 1 1 0 1 0 1 0 1 1 0 0 1 2 0 2 2 2 2 1 2 2 0 2 2 2 1 1 1 2 0 2 1 0 0\n",
            " 1 1 2 2 1 0 1 1]\n",
            "Accuracy: 1.0\n"
          ]
        }
      ]
    },
    {
      "cell_type": "code",
      "execution_count": null,
      "metadata": {
        "id": "OeWPHBJSjZND",
        "colab": {
          "base_uri": "https://localhost:8080/"
        },
        "outputId": "6f0934b4-0be2-4b40-e64d-63754f982889"
      },
      "outputs": [
        {
          "output_type": "execute_result",
          "data": {
            "text/plain": [
              "{0: {'accuracy': 0.96, 'cluster_idx': 2},\n",
              " 1: {'accuracy': 0.9533333333333334, 'cluster_idx': 2},\n",
              " 2: {'accuracy': 0.9533333333333334, 'cluster_idx': 1},\n",
              " 3: {'accuracy': 0.9533333333333334, 'cluster_idx': 1},\n",
              " 4: {'accuracy': 0.9600000000000002, 'cluster_idx': 1},\n",
              " 5: {'accuracy': 0.9533333333333334, 'cluster_idx': 0},\n",
              " 6: {'accuracy': 0.9466666666666667, 'cluster_idx': 1},\n",
              " 7: {'accuracy': 0.96, 'cluster_idx': 0},\n",
              " 8: {'accuracy': 0.9399999999999998, 'cluster_idx': 4},\n",
              " 9: {'accuracy': 0.9533333333333334, 'cluster_idx': 0},\n",
              " 10: {'accuracy': 0.9333333333333333, 'cluster_idx': 2},\n",
              " 11: {'accuracy': 0.9400000000000001, 'cluster_idx': 1},\n",
              " 12: {'accuracy': 0.9400000000000001, 'cluster_idx': 1},\n",
              " 13: {'accuracy': 0.9266666666666665, 'cluster_idx': 0},\n",
              " 14: {'accuracy': 0.9466666666666667, 'cluster_idx': 2},\n",
              " 15: {'accuracy': 0.9666666666666668, 'cluster_idx': 1},\n",
              " 16: {'accuracy': 0.9400000000000001, 'cluster_idx': 2},\n",
              " 17: {'accuracy': 0.9466666666666667, 'cluster_idx': 1},\n",
              " 18: {'accuracy': 0.9333333333333333, 'cluster_idx': 4},\n",
              " 19: {'accuracy': 0.96, 'cluster_idx': 1},\n",
              " 20: {'accuracy': 0.96, 'cluster_idx': 2},\n",
              " 21: {'accuracy': 0.9666666666666668, 'cluster_idx': 0},\n",
              " 22: {'accuracy': 0.9266666666666667, 'cluster_idx': 2},\n",
              " 23: {'accuracy': 0.9533333333333334, 'cluster_idx': 1},\n",
              " 24: {'accuracy': 0.9533333333333334, 'cluster_idx': 2},\n",
              " 25: {'accuracy': 0.9399999999999998, 'cluster_idx': 1},\n",
              " 26: {'accuracy': 0.9466666666666667, 'cluster_idx': 1},\n",
              " 27: {'accuracy': 0.9466666666666667, 'cluster_idx': 1},\n",
              " 28: {'accuracy': 0.9533333333333334, 'cluster_idx': 0},\n",
              " 29: {'accuracy': 0.9533333333333334, 'cluster_idx': 0},\n",
              " 30: {'accuracy': 0.96, 'cluster_idx': 2},\n",
              " 31: {'accuracy': 0.9600000000000002, 'cluster_idx': 1},\n",
              " 32: {'accuracy': 0.9466666666666667, 'cluster_idx': 3},\n",
              " 33: {'accuracy': 0.9466666666666667, 'cluster_idx': 2},\n",
              " 34: {'accuracy': 0.9533333333333334, 'cluster_idx': 3},\n",
              " 35: {'accuracy': 0.9533333333333334, 'cluster_idx': 2},\n",
              " 36: {'accuracy': 0.9533333333333334, 'cluster_idx': 2},\n",
              " 37: {'accuracy': 0.9533333333333334, 'cluster_idx': 4},\n",
              " 38: {'accuracy': 0.96, 'cluster_idx': 0},\n",
              " 39: {'accuracy': 0.9533333333333334, 'cluster_idx': 4},\n",
              " 40: {'accuracy': 0.9333333333333332, 'cluster_idx': 2},\n",
              " 41: {'accuracy': 0.9333333333333332, 'cluster_idx': 2},\n",
              " 42: {'accuracy': 0.9533333333333334, 'cluster_idx': 1},\n",
              " 43: {'accuracy': 0.9466666666666667, 'cluster_idx': 1},\n",
              " 44: {'accuracy': 0.9466666666666667, 'cluster_idx': 4},\n",
              " 45: {'accuracy': 0.9333333333333333, 'cluster_idx': 0},\n",
              " 46: {'accuracy': 0.9466666666666667, 'cluster_idx': 2},\n",
              " 47: {'accuracy': 0.9533333333333334, 'cluster_idx': 3},\n",
              " 48: {'accuracy': 0.9533333333333334, 'cluster_idx': 2},\n",
              " 49: {'accuracy': 0.9600000000000002, 'cluster_idx': 0},\n",
              " 50: {'accuracy': 0.9466666666666667, 'cluster_idx': 0},\n",
              " 51: {'accuracy': 0.9333333333333332, 'cluster_idx': 3},\n",
              " 52: {'accuracy': 0.9533333333333334, 'cluster_idx': 1},\n",
              " 53: {'accuracy': 0.9533333333333334, 'cluster_idx': 1},\n",
              " 54: {'accuracy': 0.9733333333333334, 'cluster_idx': 1},\n",
              " 55: {'accuracy': 0.9533333333333334, 'cluster_idx': 1},\n",
              " 56: {'accuracy': 0.9199999999999999, 'cluster_idx': 4},\n",
              " 57: {'accuracy': 0.96, 'cluster_idx': 1},\n",
              " 58: {'accuracy': 0.9266666666666665, 'cluster_idx': 1},\n",
              " 59: {'accuracy': 0.9466666666666667, 'cluster_idx': 0},\n",
              " 60: {'accuracy': 0.9400000000000001, 'cluster_idx': 2},\n",
              " 61: {'accuracy': 0.9533333333333334, 'cluster_idx': 1},\n",
              " 62: {'accuracy': 0.9399999999999998, 'cluster_idx': 2},\n",
              " 63: {'accuracy': 0.9466666666666667, 'cluster_idx': 1},\n",
              " 64: {'accuracy': 0.9533333333333334, 'cluster_idx': 2},\n",
              " 65: {'accuracy': 0.9466666666666667, 'cluster_idx': 1},\n",
              " 66: {'accuracy': 0.9533333333333334, 'cluster_idx': 2},\n",
              " 67: {'accuracy': 0.9466666666666667, 'cluster_idx': 2},\n",
              " 68: {'accuracy': 0.9533333333333334, 'cluster_idx': 1},\n",
              " 69: {'accuracy': 0.9333333333333332, 'cluster_idx': 0},\n",
              " 70: {'accuracy': 0.9533333333333334, 'cluster_idx': 3},\n",
              " 71: {'accuracy': 0.9333333333333333, 'cluster_idx': 1},\n",
              " 72: {'accuracy': 0.9333333333333332, 'cluster_idx': 0},\n",
              " 73: {'accuracy': 0.9533333333333334, 'cluster_idx': 3},\n",
              " 74: {'accuracy': 0.9533333333333334, 'cluster_idx': 0},\n",
              " 75: {'accuracy': 0.9466666666666667, 'cluster_idx': 2},\n",
              " 76: {'accuracy': 0.9666666666666668, 'cluster_idx': 1},\n",
              " 77: {'accuracy': 0.9533333333333334, 'cluster_idx': 0},\n",
              " 78: {'accuracy': 0.96, 'cluster_idx': 4},\n",
              " 79: {'accuracy': 0.9399999999999998, 'cluster_idx': 0},\n",
              " 80: {'accuracy': 0.9533333333333334, 'cluster_idx': 1},\n",
              " 81: {'accuracy': 0.9666666666666668, 'cluster_idx': 0},\n",
              " 82: {'accuracy': 0.96, 'cluster_idx': 4},\n",
              " 83: {'accuracy': 0.9533333333333334, 'cluster_idx': 1},\n",
              " 84: {'accuracy': 0.9533333333333334, 'cluster_idx': 3},\n",
              " 85: {'accuracy': 0.9533333333333334, 'cluster_idx': 3},\n",
              " 86: {'accuracy': 0.9533333333333334, 'cluster_idx': 0},\n",
              " 87: {'accuracy': 0.96, 'cluster_idx': 1},\n",
              " 88: {'accuracy': 0.96, 'cluster_idx': 1},\n",
              " 89: {'accuracy': 0.9333333333333332, 'cluster_idx': 3},\n",
              " 90: {'accuracy': 0.9533333333333334, 'cluster_idx': 4},\n",
              " 91: {'accuracy': 0.9533333333333334, 'cluster_idx': 1},\n",
              " 92: {'accuracy': 0.9466666666666667, 'cluster_idx': 1},\n",
              " 93: {'accuracy': 0.9533333333333334, 'cluster_idx': 3},\n",
              " 94: {'accuracy': 0.9733333333333334, 'cluster_idx': 1},\n",
              " 95: {'accuracy': 0.9666666666666668, 'cluster_idx': 3},\n",
              " 96: {'accuracy': 0.9666666666666668, 'cluster_idx': 1},\n",
              " 97: {'accuracy': 0.9666666666666668, 'cluster_idx': 0},\n",
              " 98: {'accuracy': 0.96, 'cluster_idx': 2},\n",
              " 99: {'accuracy': 0.9399999999999998, 'cluster_idx': 2}}"
            ]
          },
          "metadata": {},
          "execution_count": 94
        }
      ],
      "source": [
        "prf3.info"
      ]
    },
    {
      "cell_type": "code",
      "source": [
        "#gaussian\n",
        "getMaxAccuracyCluster(prf3.info)"
      ],
      "metadata": {
        "id": "CS_NFfLxjuka",
        "colab": {
          "base_uri": "https://localhost:8080/"
        },
        "outputId": "808abccb-5846-4fe4-eea5-1ccdc7a60dac"
      },
      "execution_count": null,
      "outputs": [
        {
          "output_type": "stream",
          "name": "stdout",
          "text": [
            "{'2': [0, 20, 30, 98], '1': [54, 94], '0': [21, 81, 97], '4': [78, 82], '3': [95]}\n",
            "Selecting first maximum accuracy of a decision tree in each cluster:\n",
            "{'2': 0}\n",
            "{'1': 54}\n",
            "{'0': 21}\n",
            "{'4': 78}\n",
            "{'3': 95}\n"
          ]
        },
        {
          "output_type": "execute_result",
          "data": {
            "text/plain": [
              "{'0': [21, 81, 97],\n",
              " '1': [54, 94],\n",
              " '2': [0, 20, 30, 98],\n",
              " '3': [95],\n",
              " '4': [78, 82]}"
            ]
          },
          "metadata": {},
          "execution_count": 95
        }
      ]
    },
    {
      "cell_type": "code",
      "source": [
        "treeList = getTreeList(X, getMaxAccuracyCluster(prf3.info))\n",
        "\n",
        "y_preed = predict(X_test, treeList, prf3)\n",
        "\n",
        "print(\"final answer = \", y_preed)\n",
        "print(y_test)\n",
        "  \n",
        "print(\"Accuracy:\",metrics.accuracy_score(y_test, y_preed))"
      ],
      "metadata": {
        "colab": {
          "base_uri": "https://localhost:8080/"
        },
        "id": "EwdUtiQNpfoi",
        "outputId": "887679f9-e2c5-434f-ff98-5400297858bc"
      },
      "execution_count": null,
      "outputs": [
        {
          "output_type": "stream",
          "name": "stdout",
          "text": [
            "{'2': [0, 20, 30, 98], '1': [54, 94], '0': [21, 81, 97], '4': [78, 82], '3': [95]}\n",
            "Selecting first maximum accuracy of a decision tree in each cluster:\n",
            "{'2': 0}\n",
            "{'1': 54}\n",
            "{'0': 21}\n",
            "{'4': 78}\n",
            "{'3': 95}\n",
            "[1. 0. 1. 1. 1. 0. 1. 0. 1. 0. 1. 1. 0. 0. 2. 2. 0. 2. 2. 2. 2. 1. 1. 2.\n",
            " 0. 2. 2. 2. 1. 1. 1. 2. 0. 2. 1. 0. 0. 1. 2. 2. 2. 1. 0. 1. 1.]\n",
            "[1. 0. 1. 1. 1. 0. 1. 0. 1. 0. 1. 1. 0. 0. 2. 2. 0. 2. 2. 2. 2. 1. 2. 2.\n",
            " 0. 2. 2. 2. 1. 1. 1. 2. 0. 2. 1. 0. 0. 1. 2. 2. 2. 1. 0. 1. 1.]\n",
            "[1. 0. 1. 1. 1. 0. 1. 0. 1. 0. 1. 1. 0. 0. 1. 2. 0. 2. 2. 2. 2. 1. 2. 2.\n",
            " 0. 2. 2. 2. 1. 1. 1. 2. 0. 2. 1. 0. 0. 1. 2. 2. 2. 1. 0. 1. 1.]\n",
            "[1. 0. 1. 1. 1. 0. 1. 0. 1. 0. 1. 1. 0. 0. 1. 2. 0. 2. 2. 2. 2. 1. 2. 2.\n",
            " 0. 2. 2. 2. 1. 1. 1. 2. 0. 2. 1. 0. 0. 1. 1. 2. 2. 1. 0. 1. 1.]\n",
            "[1. 0. 1. 1. 1. 0. 1. 0. 1. 0. 1. 2. 0. 0. 2. 2. 0. 2. 2. 2. 2. 1. 2. 2.\n",
            " 0. 2. 2. 2. 1. 1. 1. 2. 0. 2. 1. 0. 0. 1. 1. 2. 2. 1. 0. 1. 1.]\n",
            "<class 'list'>\n",
            "final answer =  [1.0, 0.0, 1.0, 1.0, 1.0, 0.0, 1.0, 0.0, 1.0, 0.0, 1.0, 1.0, 0.0, 0.0, 2.0, 2.0, 0.0, 2.0, 2.0, 2.0, 2.0, 1.0, 2.0, 2.0, 0.0, 2.0, 2.0, 2.0, 1.0, 1.0, 1.0, 2.0, 0.0, 2.0, 1.0, 0.0, 0.0, 1.0, 2.0, 2.0, 2.0, 1.0, 0.0, 1.0, 1.0]\n",
            "[1 0 1 1 1 0 1 0 1 0 1 1 0 0 1 2 0 2 2 2 2 1 2 2 0 2 2 2 1 1 1 2 0 2 1 0 0\n",
            " 1 1 2 2 1 0 1 1]\n",
            "Accuracy: 0.9555555555555556\n"
          ]
        }
      ]
    },
    {
      "cell_type": "code",
      "source": [
        "prf4.info"
      ],
      "metadata": {
        "id": "CKxUdRVjuIlG",
        "colab": {
          "base_uri": "https://localhost:8080/"
        },
        "outputId": "3159b525-ce87-4507-ee7e-c6f9e27d148c"
      },
      "execution_count": null,
      "outputs": [
        {
          "output_type": "execute_result",
          "data": {
            "text/plain": [
              "{0: {'accuracy': 0.9400000000000001, 'cluster_idx': 4},\n",
              " 1: {'accuracy': 0.9533333333333334, 'cluster_idx': 3},\n",
              " 2: {'accuracy': 0.9400000000000001, 'cluster_idx': 3},\n",
              " 3: {'accuracy': 0.9333333333333332, 'cluster_idx': 2},\n",
              " 4: {'accuracy': 0.9533333333333334, 'cluster_idx': 4},\n",
              " 5: {'accuracy': 0.9600000000000002, 'cluster_idx': 2},\n",
              " 6: {'accuracy': 0.9533333333333334, 'cluster_idx': 4},\n",
              " 7: {'accuracy': 0.9466666666666667, 'cluster_idx': 1},\n",
              " 8: {'accuracy': 0.9666666666666668, 'cluster_idx': 3},\n",
              " 9: {'accuracy': 0.9600000000000002, 'cluster_idx': 3},\n",
              " 10: {'accuracy': 0.9533333333333334, 'cluster_idx': 0},\n",
              " 11: {'accuracy': 0.96, 'cluster_idx': 2},\n",
              " 12: {'accuracy': 0.9666666666666668, 'cluster_idx': 1},\n",
              " 13: {'accuracy': 0.9533333333333334, 'cluster_idx': 0},\n",
              " 14: {'accuracy': 0.9533333333333335, 'cluster_idx': 3},\n",
              " 15: {'accuracy': 0.9533333333333334, 'cluster_idx': 4},\n",
              " 16: {'accuracy': 0.9466666666666667, 'cluster_idx': 3},\n",
              " 17: {'accuracy': 0.9666666666666668, 'cluster_idx': 0},\n",
              " 18: {'accuracy': 0.9666666666666668, 'cluster_idx': 1},\n",
              " 19: {'accuracy': 0.96, 'cluster_idx': 1},\n",
              " 20: {'accuracy': 0.9466666666666667, 'cluster_idx': 4},\n",
              " 21: {'accuracy': 0.9600000000000002, 'cluster_idx': 2},\n",
              " 22: {'accuracy': 0.9533333333333334, 'cluster_idx': 1},\n",
              " 23: {'accuracy': 0.9333333333333333, 'cluster_idx': 0},\n",
              " 24: {'accuracy': 0.9533333333333334, 'cluster_idx': 3},\n",
              " 25: {'accuracy': 0.9466666666666667, 'cluster_idx': 0},\n",
              " 26: {'accuracy': 0.9733333333333334, 'cluster_idx': 1},\n",
              " 27: {'accuracy': 0.9400000000000001, 'cluster_idx': 4},\n",
              " 28: {'accuracy': 0.9466666666666667, 'cluster_idx': 1},\n",
              " 29: {'accuracy': 0.96, 'cluster_idx': 0},\n",
              " 30: {'accuracy': 0.9533333333333334, 'cluster_idx': 2},\n",
              " 31: {'accuracy': 0.96, 'cluster_idx': 4},\n",
              " 32: {'accuracy': 0.9666666666666668, 'cluster_idx': 2},\n",
              " 33: {'accuracy': 0.9400000000000001, 'cluster_idx': 3},\n",
              " 34: {'accuracy': 0.9666666666666668, 'cluster_idx': 3},\n",
              " 35: {'accuracy': 0.9666666666666668, 'cluster_idx': 2},\n",
              " 36: {'accuracy': 0.9533333333333334, 'cluster_idx': 3},\n",
              " 37: {'accuracy': 0.9600000000000002, 'cluster_idx': 1},\n",
              " 38: {'accuracy': 0.9466666666666667, 'cluster_idx': 3},\n",
              " 39: {'accuracy': 0.9600000000000002, 'cluster_idx': 2},\n",
              " 40: {'accuracy': 0.9466666666666667, 'cluster_idx': 4},\n",
              " 41: {'accuracy': 0.9400000000000001, 'cluster_idx': 2},\n",
              " 42: {'accuracy': 0.96, 'cluster_idx': 1},\n",
              " 43: {'accuracy': 0.9266666666666665, 'cluster_idx': 0},\n",
              " 44: {'accuracy': 0.9266666666666667, 'cluster_idx': 0},\n",
              " 45: {'accuracy': 0.9333333333333332, 'cluster_idx': 1},\n",
              " 46: {'accuracy': 0.9400000000000001, 'cluster_idx': 2},\n",
              " 47: {'accuracy': 0.9533333333333334, 'cluster_idx': 2},\n",
              " 48: {'accuracy': 0.9666666666666668, 'cluster_idx': 2},\n",
              " 49: {'accuracy': 0.9400000000000001, 'cluster_idx': 2},\n",
              " 50: {'accuracy': 0.96, 'cluster_idx': 2},\n",
              " 51: {'accuracy': 0.9399999999999998, 'cluster_idx': 2},\n",
              " 52: {'accuracy': 0.9466666666666667, 'cluster_idx': 0},\n",
              " 53: {'accuracy': 0.9399999999999998, 'cluster_idx': 0},\n",
              " 54: {'accuracy': 0.9199999999999999, 'cluster_idx': 2},\n",
              " 55: {'accuracy': 0.9400000000000001, 'cluster_idx': 0},\n",
              " 56: {'accuracy': 0.9666666666666668, 'cluster_idx': 2},\n",
              " 57: {'accuracy': 0.9533333333333334, 'cluster_idx': 3},\n",
              " 58: {'accuracy': 0.9600000000000002, 'cluster_idx': 1},\n",
              " 59: {'accuracy': 0.9666666666666668, 'cluster_idx': 2},\n",
              " 60: {'accuracy': 0.9266666666666665, 'cluster_idx': 1},\n",
              " 61: {'accuracy': 0.9533333333333334, 'cluster_idx': 2},\n",
              " 62: {'accuracy': 0.9466666666666667, 'cluster_idx': 1},\n",
              " 63: {'accuracy': 0.96, 'cluster_idx': 2},\n",
              " 64: {'accuracy': 0.9666666666666668, 'cluster_idx': 1},\n",
              " 65: {'accuracy': 0.9200000000000002, 'cluster_idx': 3},\n",
              " 66: {'accuracy': 0.9199999999999999, 'cluster_idx': 3},\n",
              " 67: {'accuracy': 0.9533333333333334, 'cluster_idx': 2},\n",
              " 68: {'accuracy': 0.9600000000000002, 'cluster_idx': 1},\n",
              " 69: {'accuracy': 0.9533333333333334, 'cluster_idx': 3},\n",
              " 70: {'accuracy': 0.9400000000000001, 'cluster_idx': 3},\n",
              " 71: {'accuracy': 0.9666666666666668, 'cluster_idx': 1},\n",
              " 72: {'accuracy': 0.9400000000000001, 'cluster_idx': 4},\n",
              " 73: {'accuracy': 0.9266666666666665, 'cluster_idx': 2},\n",
              " 74: {'accuracy': 0.96, 'cluster_idx': 1},\n",
              " 75: {'accuracy': 0.9333333333333332, 'cluster_idx': 4},\n",
              " 76: {'accuracy': 0.9666666666666668, 'cluster_idx': 1},\n",
              " 77: {'accuracy': 0.96, 'cluster_idx': 2},\n",
              " 78: {'accuracy': 0.9400000000000001, 'cluster_idx': 3},\n",
              " 79: {'accuracy': 0.9466666666666667, 'cluster_idx': 1},\n",
              " 80: {'accuracy': 0.9466666666666667, 'cluster_idx': 1},\n",
              " 81: {'accuracy': 0.9533333333333334, 'cluster_idx': 3},\n",
              " 82: {'accuracy': 0.9533333333333334, 'cluster_idx': 3},\n",
              " 83: {'accuracy': 0.9266666666666665, 'cluster_idx': 0},\n",
              " 84: {'accuracy': 0.9400000000000001, 'cluster_idx': 4},\n",
              " 85: {'accuracy': 0.9666666666666668, 'cluster_idx': 1},\n",
              " 86: {'accuracy': 0.9466666666666667, 'cluster_idx': 2},\n",
              " 87: {'accuracy': 0.9533333333333334, 'cluster_idx': 2},\n",
              " 88: {'accuracy': 0.9533333333333334, 'cluster_idx': 2},\n",
              " 89: {'accuracy': 0.9466666666666667, 'cluster_idx': 3},\n",
              " 90: {'accuracy': 0.9466666666666667, 'cluster_idx': 4},\n",
              " 91: {'accuracy': 0.9399999999999998, 'cluster_idx': 0},\n",
              " 92: {'accuracy': 0.9666666666666668, 'cluster_idx': 1},\n",
              " 93: {'accuracy': 0.9400000000000001, 'cluster_idx': 1},\n",
              " 94: {'accuracy': 0.9666666666666666, 'cluster_idx': 2},\n",
              " 95: {'accuracy': 0.9399999999999998, 'cluster_idx': 0},\n",
              " 96: {'accuracy': 0.9266666666666665, 'cluster_idx': 2},\n",
              " 97: {'accuracy': 0.9533333333333334, 'cluster_idx': 0},\n",
              " 98: {'accuracy': 0.9733333333333334, 'cluster_idx': 2},\n",
              " 99: {'accuracy': 0.9333333333333332, 'cluster_idx': 1}}"
            ]
          },
          "metadata": {},
          "execution_count": 97
        }
      ]
    },
    {
      "cell_type": "code",
      "source": [
        "#spectral\n",
        "getMaxAccuracyCluster(prf4.info)"
      ],
      "metadata": {
        "id": "DR6fU8l7jzxK",
        "colab": {
          "base_uri": "https://localhost:8080/"
        },
        "outputId": "f029ae24-0c48-4814-b0b0-41d6ad0c0371"
      },
      "execution_count": null,
      "outputs": [
        {
          "output_type": "stream",
          "name": "stdout",
          "text": [
            "{'4': [31], '3': [8, 34], '2': [98], '1': [26], '0': [17]}\n",
            "Selecting first maximum accuracy of a decision tree in each cluster:\n",
            "{'4': 31}\n",
            "{'3': 8}\n",
            "{'2': 98}\n",
            "{'1': 26}\n",
            "{'0': 17}\n"
          ]
        },
        {
          "output_type": "execute_result",
          "data": {
            "text/plain": [
              "{'0': [17], '1': [26], '2': [98], '3': [8, 34], '4': [31]}"
            ]
          },
          "metadata": {},
          "execution_count": 98
        }
      ]
    },
    {
      "cell_type": "code",
      "source": [
        "treeList = getTreeList(X, getMaxAccuracyCluster(prf4.info))\n",
        "\n",
        "y_preed = predict(X_test, treeList, prf4)\n",
        "\n",
        "print(\"final answer = \", y_preed)\n",
        "print(y_test)\n",
        "  \n",
        "print(\"Accuracy:\",metrics.accuracy_score(y_test, y_preed))"
      ],
      "metadata": {
        "id": "aYLQ3qAf-n7S",
        "colab": {
          "base_uri": "https://localhost:8080/"
        },
        "outputId": "af028e26-4e57-4d71-80aa-b36d5eb4ddd2"
      },
      "execution_count": null,
      "outputs": [
        {
          "output_type": "stream",
          "name": "stdout",
          "text": [
            "{'4': [31], '3': [8, 34], '2': [98], '1': [26], '0': [17]}\n",
            "Selecting first maximum accuracy of a decision tree in each cluster:\n",
            "{'4': 31}\n",
            "{'3': 8}\n",
            "{'2': 98}\n",
            "{'1': 26}\n",
            "{'0': 17}\n",
            "[1. 0. 1. 1. 1. 0. 1. 0. 1. 0. 1. 1. 0. 0. 1. 2. 0. 2. 2. 2. 2. 1. 1. 2.\n",
            " 0. 2. 2. 2. 1. 1. 1. 2. 0. 2. 1. 0. 0. 1. 1. 2. 2. 1. 0. 1. 1.]\n",
            "[1. 0. 1. 1. 1. 0. 1. 0. 1. 0. 1. 1. 0. 0. 1. 2. 0. 2. 2. 2. 2. 1. 2. 2.\n",
            " 0. 2. 2. 2. 1. 1. 1. 2. 0. 2. 1. 0. 0. 1. 1. 2. 2. 1. 0. 1. 1.]\n",
            "[1. 0. 1. 1. 1. 0. 1. 0. 1. 0. 1. 1. 0. 0. 2. 2. 0. 2. 2. 2. 2. 1. 2. 2.\n",
            " 0. 2. 2. 2. 1. 1. 1. 2. 0. 2. 1. 0. 0. 1. 2. 2. 2. 1. 0. 1. 1.]\n",
            "[1. 0. 1. 1. 1. 0. 1. 0. 1. 0. 1. 1. 0. 0. 2. 2. 0. 2. 2. 2. 2. 1. 2. 2.\n",
            " 0. 2. 2. 2. 1. 1. 1. 2. 0. 2. 1. 0. 0. 1. 1. 2. 2. 1. 0. 1. 1.]\n",
            "[1. 0. 1. 1. 1. 0. 1. 0. 1. 0. 1. 1. 0. 0. 1. 2. 0. 2. 2. 1. 2. 1. 2. 2.\n",
            " 0. 2. 2. 2. 1. 1. 1. 1. 0. 2. 1. 0. 0. 1. 1. 2. 2. 1. 0. 1. 1.]\n",
            "<class 'list'>\n",
            "final answer =  [1.0, 0.0, 1.0, 1.0, 1.0, 0.0, 1.0, 0.0, 1.0, 0.0, 1.0, 1.0, 0.0, 0.0, 1.0, 2.0, 0.0, 2.0, 2.0, 2.0, 2.0, 1.0, 2.0, 2.0, 0.0, 2.0, 2.0, 2.0, 1.0, 1.0, 1.0, 2.0, 0.0, 2.0, 1.0, 0.0, 0.0, 1.0, 1.0, 2.0, 2.0, 1.0, 0.0, 1.0, 1.0]\n",
            "[1 0 1 1 1 0 1 0 1 0 1 1 0 0 1 2 0 2 2 2 2 1 2 2 0 2 2 2 1 1 1 2 0 2 1 0 0\n",
            " 1 1 2 2 1 0 1 1]\n",
            "Accuracy: 1.0\n"
          ]
        }
      ]
    },
    {
      "cell_type": "code",
      "execution_count": null,
      "metadata": {
        "id": "Mrj0TvcTJWKC",
        "colab": {
          "base_uri": "https://localhost:8080/"
        },
        "outputId": "6896ed28-b391-402c-af30-acc7abb6b868"
      },
      "outputs": [
        {
          "output_type": "execute_result",
          "data": {
            "text/plain": [
              "0.9600000000000002"
            ]
          },
          "metadata": {},
          "execution_count": 100
        }
      ],
      "source": [
        "rf = DecisionTreeClassifier()\n",
        "\n",
        "rf.fit(X,y)\n",
        "\n",
        "cross_val_score(rf, X, y, cv = 5).mean()"
      ]
    },
    {
      "cell_type": "code",
      "execution_count": null,
      "metadata": {
        "id": "VmF1OeRuUfQT"
      },
      "outputs": [],
      "source": [
        "def plot_accuracy(ax, prf, cluster_idx):\n",
        "    y = []\n",
        "\n",
        "    for key in prf.info:\n",
        "        if prf.info[key][\"cluster_idx\"] == cluster_idx:\n",
        "            y.append(prf.info[key][\"accuracy\"])\n",
        "    ax.set_title(\"cluster \" + str(cluster_idx))\n",
        "    ax.bar(range(len(y)), y)\n",
        "    "
      ]
    },
    {
      "cell_type": "code",
      "execution_count": null,
      "metadata": {
        "id": "ECC8fkUvVsC6",
        "colab": {
          "base_uri": "https://localhost:8080/",
          "height": 275
        },
        "outputId": "bea10844-7b1b-4fef-9ffd-e70630255ce6"
      },
      "outputs": [
        {
          "output_type": "display_data",
          "data": {
            "text/plain": [
              "<Figure size 1800x360 with 5 Axes>"
            ],
            "image/png": "[encoded data removed]"
          },
          "metadata": {
            "needs_background": "light"
          }
        }
      ],
      "source": [
        "#kmeans\n",
        "f, axes = plt.subplots(1, len(prf.clusters), figsize=(len(prf.clusters) * 5,5))\n",
        "for i in range(len(prf.clusters)):\n",
        "    plot_accuracy(axes[i], prf, i)\n"
      ]
    },
    {
      "cell_type": "code",
      "execution_count": null,
      "metadata": {
        "id": "K2pXN9K8WD6K",
        "colab": {
          "base_uri": "https://localhost:8080/",
          "height": 275
        },
        "outputId": "d026a384-ad5a-4dbd-9f4e-b5bb199ef5ba"
      },
      "outputs": [
        {
          "output_type": "display_data",
          "data": {
            "text/plain": [
              "<Figure size 1800x360 with 5 Axes>"
            ],
            "image/png": "[encoded data removed]"
          },
          "metadata": {
            "needs_background": "light"
          }
        }
      ],
      "source": [
        "#dbscan\n",
        "f, axes = plt.subplots(1, len(prf1.clusters), figsize=(len(prf1.clusters) * 5,5))\n",
        "for i in range(len(prf1.clusters)):\n",
        "    plot_accuracy(axes[i], prf1, i)"
      ]
    },
    {
      "cell_type": "code",
      "execution_count": null,
      "metadata": {
        "id": "ctNEHJTjewHN",
        "colab": {
          "base_uri": "https://localhost:8080/",
          "height": 275
        },
        "outputId": "b608b12a-f418-46fe-8494-c8ed594edeab"
      },
      "outputs": [
        {
          "output_type": "display_data",
          "data": {
            "text/plain": [
              "<Figure size 1800x360 with 5 Axes>"
            ],
            "image/png": "[encoded data removed]"
          },
          "metadata": {
            "needs_background": "light"
          }
        }
      ],
      "source": [
        "#agglomerative\n",
        "f, axes = plt.subplots(1, len(prf2.clusters), figsize=(len(prf2.clusters) * 5,5))\n",
        "for i in range(len(prf2.clusters)):\n",
        "    plot_accuracy(axes[i], prf2, i)\n",
        "    "
      ]
    },
    {
      "cell_type": "code",
      "execution_count": null,
      "metadata": {
        "id": "9lFSKVy3e9si",
        "colab": {
          "base_uri": "https://localhost:8080/",
          "height": 275
        },
        "outputId": "8377b257-019d-4551-ec96-3fbac9477fa3"
      },
      "outputs": [
        {
          "output_type": "display_data",
          "data": {
            "text/plain": [
              "<Figure size 1800x360 with 5 Axes>"
            ],
            "image/png": "[encoded data removed]"
          },
          "metadata": {
            "needs_background": "light"
          }
        }
      ],
      "source": [
        "#gaussian\n",
        "f, axes = plt.subplots(1, len(prf3.clusters), figsize=(len(prf3.clusters) * 5,5))\n",
        "for i in range(len(prf3.clusters)):\n",
        "    plot_accuracy(axes[i], prf3, i)"
      ]
    },
    {
      "cell_type": "code",
      "execution_count": null,
      "metadata": {
        "id": "T7YZS7C6kJ7X",
        "colab": {
          "base_uri": "https://localhost:8080/",
          "height": 275
        },
        "outputId": "1d0876e7-eb3e-4d55-d3d9-ce79b7528dde"
      },
      "outputs": [
        {
          "output_type": "display_data",
          "data": {
            "text/plain": [
              "<Figure size 1800x360 with 5 Axes>"
            ],
            "image/png": "[encoded data removed]"
          },
          "metadata": {
            "needs_background": "light"
          }
        }
      ],
      "source": [
        "#spectral clusterings\n",
        "f, axes = plt.subplots(1, len(prf4.clusters), figsize=(len(prf4.clusters) * 5,5))\n",
        "for i in range(len(prf4.clusters)):\n",
        "    plot_accuracy(axes[i], prf4, i)"
      ]
    },
    {
      "cell_type": "code",
      "execution_count": null,
      "metadata": {
        "id": "or0wJBAFfSgr",
        "colab": {
          "base_uri": "https://localhost:8080/"
        },
        "outputId": "77f8d23a-3dd9-4d7c-9ab0-b3383b0fb60a"
      },
      "outputs": [
        {
          "output_type": "execute_result",
          "data": {
            "text/plain": [
              "array([[1, 2],\n",
              "       [3, 4],\n",
              "       [5, 6]])"
            ]
          },
          "metadata": {},
          "execution_count": 107
        }
      ],
      "source": [
        "test = np.array([[1, 2], [3, 4], [5, 6]])\n",
        "test"
      ]
    },
    {
      "cell_type": "code",
      "source": [
        "test.shape"
      ],
      "metadata": {
        "colab": {
          "base_uri": "https://localhost:8080/"
        },
        "id": "IwbNWXHliN7y",
        "outputId": "9359172d-e494-4b02-ff05-0b745b89ab2b"
      },
      "execution_count": null,
      "outputs": [
        {
          "output_type": "execute_result",
          "data": {
            "text/plain": [
              "(3, 2)"
            ]
          },
          "metadata": {},
          "execution_count": 108
        }
      ]
    },
    {
      "cell_type": "code",
      "source": [],
      "metadata": {
        "id": "8UVX4qx7iRCx"
      },
      "execution_count": null,
      "outputs": []
    }
  ],
  "metadata": {
    "colab": {
      "collapsed_sections": [],
      "provenance": []
    },
    "kernelspec": {
      "display_name": "Python 3",
      "name": "python3"
    },
    "language_info": {
      "name": "python"
    }
  },
  "nbformat": 4,
  "nbformat_minor": 0
}